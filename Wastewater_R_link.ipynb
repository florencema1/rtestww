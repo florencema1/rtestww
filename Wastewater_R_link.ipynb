{
 "cells": [
  {
   "cell_type": "markdown",
   "source": [],
   "metadata": {
    "collapsed": false,
    "pycharm": {
     "name": "#%% md\n"
    }
   }
  },
  {
   "cell_type": "code",
   "execution_count": 445,
   "metadata": {
    "collapsed": true,
    "pycharm": {
     "name": "#%%\n"
    }
   },
   "outputs": [],
   "source": [
    "# Please install openpyxl and odfpy from pip or anaconda in order to import the inout data files\n",
    "import sys\n",
    "# !{sys.executable} -m pip install openpyxl\n",
    "# !{sys.executable} -m pip install odfpy\n",
    "\n",
    "# Import libraries and set plot styles\n",
    "import numpy as np\n",
    "import pandas as pd\n",
    "import matplotlib.pyplot as plt\n",
    "import seaborn as sns\n",
    "\n",
    "# Remove warning for chained assignment\n",
    "pd.options.mode.chained_assignment = None  # default='warn'\n",
    "\n",
    "# Show plots inline\n",
    "%matplotlib inline\n",
    "\n",
    "# Set plot style\n",
    "# plot.style.available\n",
    "plt.style.use('fivethirtyeight')"
   ]
  },
  {
   "cell_type": "code",
   "execution_count": 446,
   "outputs": [],
   "source": [
    "# Read in and preview data\n",
    "df = pd.read_csv('/Users/FM/Public/HDS/Summer Project/wastewater_r_estimation/Data/agg_data_inner_11_cis_mar22.csv',\n",
    "                 parse_dates=['date'],\n",
    "                 dayfirst=True)\n",
    "df1 = pd.read_excel('/Users/FM/Public/HDS/Summer Project/wastewater_r_estimation/Data/Region Mapping.xlsx')\n",
    "df2 = pd.read_excel('/Users/FM/Public/HDS/Summer Project/R_and_growth_rate_time_series_for_publication_v1.0.ods',\n",
    "                    sheet_name=2,\n",
    "                    engine='odf',\n",
    "                    header=[7,8], #Two rows of header\n",
    "                    na_values='.'\n",
    "                    )\n",
    "real_cases = pd.read_csv(\"/Users/FM/Public/HDS/Summer Project/local files/region_2022-07-01.csv\")\n",
    "region_weights = pd.read_excel(\"/Users/FM/Public/HDS/Summer Project/wastewater_r_estimation/Data/Region Intersection.xlsx\",\n",
    "                                sheet_name=0)\n",
    "region_weights = region_weights.iloc[:, [1,18,25]]\n",
    "\n",
    "# Check for missing values\n",
    "df.isnull().sum()\n",
    "\n",
    "# Select header titles and data range\n",
    "df1.columns = df1.iloc[2]\n",
    "region_map = df1.iloc[3:, :]\n",
    "r_val = df2.iloc[:, 1:]\n",
    "\n",
    "# Merge 2 header rows\n",
    "r_val.columns = ['_'.join(header).upper() for header in r_val.columns]\n",
    "r_val.drop(['UK_UPPER BOUND', 'UK_LOWER BOUND'], axis=1)\n",
    "\n",
    "# Remove missing values\n",
    "region_map.dropna()\n",
    "r_val = r_val.dropna()\n",
    "\n",
    "# Rename specific columns for joining\n",
    "df.rename(columns={'cis20cd': 'CIS20CD'}, inplace=True)\n",
    "df.rename(columns={'grab_compo_boo': 'compo_frac'}, inplace=True)\n",
    "region_map.rename(columns={'Geography Code': 'CIS20CD', 'Region': 'region'}, inplace=True)\n",
    "r_val.rename(columns={'DATE_UNNAMED: 1_LEVEL_1': 'date'}, inplace=True)\n",
    "region_weights.rename(columns={'nhser20nm': 'nhs_region', 'NAME': 'region'}, inplace=True)\n",
    "\n",
    "# Lower case all strings for easy joining\n",
    "region_map['region'] = region_map['region'].str.lower()\n",
    "real_cases['areaName'] = real_cases['areaName'].str.lower()\n",
    "region_weights['region'] = region_weights['region'].map(lambda x: str(x)[:-15].lower())\n",
    "region_weights['region'] = region_weights['region'].str.replace('eastern','east of england')\n",
    "region_weights['nhs_region'] = region_weights['nhs_region'].str.lower()\n",
    "\n",
    "### Copied from UKHSA code ###\n",
    "# Variable labels that are not changed\n",
    "variable_labels = {\n",
    "    'sars_cov2_gc_l_mean': 'SARS-CoV-2 concentration',\n",
    "    'sample_ph_pre_ansis':'sample pH',\n",
    "    'ammonia_mg_l':'ammonia concentration',\n",
    "    #'control_gc_l_mean':'control volume',\n",
    "    'ophosph_mg_l':'phosphate concentration',\n",
    "    'suspended_solids_mg_l':'suspended solids',\n",
    "    'sars_below_loq':'below LOQ',\n",
    "    'sars_below_lod':'below LOD',\n",
    "    'compo_frac':'composites fraction',\n",
    "    'reception_delay':'reception delay',\n",
    "    'catch_cis_population':'covered population',\n",
    "    'catch_in_cis_prop':'subregion population fraction',\n",
    "    \"catchment_population_ons_mid_2019\": \"catchment population\",\n",
    "    \"catchment_area\": 'catchment area'\n",
    "}"
   ],
   "metadata": {
    "collapsed": false,
    "pycharm": {
     "name": "#%%\n"
    }
   }
  },
  {
   "cell_type": "code",
   "execution_count": 447,
   "outputs": [],
   "source": [
    "df['date'] = pd.to_datetime(df['date'])\n",
    "# tmp = pd.to_datetime(r_val['date'],\n",
    "#                      format = '%Y-%m-%d %H:%M:%S',\n",
    "#                      errors='coerce')\n",
    "# r_val.date = r_val.date.where(tmp.isna(), tmp.dt.date)\n",
    "r_val['date'] = pd.to_datetime(r_val['date'])\n",
    "real_cases['date'] = pd.to_datetime(real_cases['date'])\n",
    "real_cases = real_cases[real_cases['date'].between('2020-09-11', '2021-02-10')]\n",
    "\n",
    "# df.head()\n",
    "# region_map.head()\n",
    "# r_val.head()\n",
    "# region_weights\n",
    "\n",
    "# Check R values shortly before study period (for out-of-range interpolation)\n",
    "# r_val[r_val['date'].between('2020-08-20','2020-09-07')]"
   ],
   "metadata": {
    "collapsed": false,
    "pycharm": {
     "name": "#%%\n"
    }
   }
  },
  {
   "cell_type": "markdown",
   "source": [
    "### Generate average r values for each region"
   ],
   "metadata": {
    "collapsed": false,
    "pycharm": {
     "name": "#%% md\n"
    }
   }
  },
  {
   "cell_type": "code",
   "execution_count": 448,
   "outputs": [],
   "source": [
    "# r_val['UK_AVERAGE'] = r_val[['UK_LOWER BOUND', 'UK_UPPER BOUND']].mean(axis=1)\n",
    "r_val['ENGLAND_AVERAGE'] = r_val[['ENGLAND_LOWER BOUND', 'ENGLAND_UPPER BOUND']].mean(axis=1)\n",
    "r_val['EAST OF ENGLAND_AVERAGE'] = r_val[['EAST OF ENGLAND_LOWER BOUND', 'EAST OF ENGLAND_UPPER BOUND']].mean(axis=1)\n",
    "r_val['LONDON_AVERAGE'] = r_val[['LONDON_LOWER BOUND', 'LONDON_UPPER BOUND']].mean(axis=1)\n",
    "r_val['MIDLANDS_AVERAGE'] = r_val[['MIDLANDS_LOWER BOUND', 'MIDLANDS_UPPER BOUND']].mean(axis=1)\n",
    "r_val['NORTH EAST AND YORKSHIRE_AVERAGE'] = r_val[['NORTH EAST AND YORKSHIRE_LOWER BOUND', 'NORTH EAST AND YORKSHIRE_UPPER BOUND']].mean(axis=1)\n",
    "r_val['NORTH WEST_AVERAGE'] = r_val[['NORTH WEST_LOWER BOUND', 'NORTH WEST_UPPER BOUND']].mean(axis=1)\n",
    "r_val['SOUTH EAST_AVERAGE'] = r_val[['SOUTH EAST_LOWER BOUND', 'SOUTH EAST_UPPER BOUND']].mean(axis=1)\n",
    "r_val['SOUTH WEST_AVERAGE'] = r_val[['SOUTH WEST_LOWER BOUND', 'SOUTH WEST_UPPER BOUND']].mean(axis=1)\n",
    "\n",
    "# Export averages of R\n",
    "melt_r = pd.melt(r_val[['date', 'ENGLAND_AVERAGE', #'ENGLAND_LOWER BOUND', 'ENGLAND_UPPER BOUND',\n",
    "                        'EAST OF ENGLAND_AVERAGE', #'EAST OF ENGLAND_LOWER BOUND', 'EAST OF ENGLAND_UPPER BOUND',\n",
    "                        'LONDON_AVERAGE', #'LONDON_LOWER BOUND', 'LONDON_UPPER BOUND',\n",
    "                        'MIDLANDS_AVERAGE', #'MIDLANDS_LOWER BOUND', 'MIDLANDS_UPPER BOUND',\n",
    "                        'NORTH EAST AND YORKSHIRE_AVERAGE', #'NORTH EAST AND YORKSHIRE_LOWER BOUND',\n",
    "                        #'NORTH EAST AND YORKSHIRE_UPPER BOUND',\n",
    "                        'NORTH WEST_AVERAGE', #'NORTH WEST_LOWER BOUND', 'NORTH WEST_UPPER BOUND',\n",
    "                        'SOUTH EAST_AVERAGE', #'SOUTH EAST_LOWER BOUND', 'SOUTH EAST_UPPER BOUND',\n",
    "                        'SOUTH WEST_AVERAGE', #'SOUTH WEST_LOWER BOUND', 'SOUTH WEST_UPPER BOUND'\n",
    "                        ]],\n",
    "                 id_vars=['date'])\n",
    "\n",
    "# Create column for join\n",
    "melt_r['nhs_region'] = melt_r['variable'].map(lambda x: str(x)[:-8].lower())\n",
    "melt_r.to_csv(\"r_val_cleaned.csv\")"
   ],
   "metadata": {
    "collapsed": false,
    "pycharm": {
     "name": "#%%\n"
    }
   }
  },
  {
   "cell_type": "markdown",
   "source": [
    "### Linkage"
   ],
   "metadata": {
    "collapsed": false,
    "pycharm": {
     "name": "#%% md\n"
    }
   }
  },
  {
   "cell_type": "code",
   "execution_count": 449,
   "outputs": [
    {
     "data": {
      "text/plain": "9"
     },
     "execution_count": 449,
     "metadata": {},
     "output_type": "execute_result"
    }
   ],
   "source": [
    "# Match region to codes in wastewater data\n",
    "df3 = pd.merge(df, region_map[['CIS20CD', 'Country', 'region']], on='CIS20CD', how='left')\n",
    "\n",
    "# Weighted average\n",
    "grouped = df3.groupby(['region', 'date'])\n",
    "\n",
    "def wavg(group):\n",
    "    d = group['sars_cov2_gc_l_mean']\n",
    "    w = group['catchment_population_ons_mid_2019']\n",
    "    return ((d * w).sum() / w.sum()), ((d * w).sum()*400)\n",
    "    # weighted average of RNA level and\n",
    "    # Gene copies per day assuming 400L/person/d\n",
    "\n",
    "df4= grouped.apply(wavg)\n",
    "df4 = df4.reset_index()\n",
    "df4.rename(columns={0: 'temp'}, inplace=True) # rename weighted average column\n",
    "df4['weighted_avg_sars_cov2'], df4['gene_copies_per_day'] = zip(*df4.temp) # separate into two columns\n",
    "df4 = df4.drop(columns='temp')\n",
    "\n",
    "# Number of regions in RNA data\n",
    "df3.region.nunique()"
   ],
   "metadata": {
    "collapsed": false,
    "pycharm": {
     "name": "#%%\n"
    }
   }
  },
  {
   "cell_type": "code",
   "execution_count": 450,
   "outputs": [],
   "source": [
    "# Join average R estimates (7 NHS regions) and weights of 9 regions\n",
    "df5 = pd.merge(melt_r, region_weights, on='nhs_region', how='left')"
   ],
   "metadata": {
    "collapsed": false,
    "pycharm": {
     "name": "#%%\n"
    }
   }
  },
  {
   "cell_type": "code",
   "execution_count": 451,
   "outputs": [],
   "source": [
    "# Weighted average of average R values *To-do: Upper bound and Lower bound\n",
    "grouped2 = df5.dropna().groupby(['region', 'date'])\n",
    "\n",
    "def wavg2(group):\n",
    "    d = group['value']\n",
    "    w = group['Area']\n",
    "    return (d * w).sum() / w.sum()\n",
    "\n",
    "weighted_r = grouped2.apply(wavg2)\n",
    "weighted_r = weighted_r.reset_index()\n",
    "weighted_r.rename(columns={0: 'weighted_average_r'}, inplace=True) # rename weighted average column\n",
    "\n",
    "# Check number of regions\n",
    "weighted_r.region.nunique()\n",
    "\n",
    "# Export\n",
    "weighted_r.to_csv(\"weighted_r.csv\")"
   ],
   "metadata": {
    "collapsed": false,
    "pycharm": {
     "name": "#%%\n"
    }
   }
  },
  {
   "cell_type": "code",
   "execution_count": 452,
   "outputs": [],
   "source": [
    "# Match with R values\n",
    "model_dataset = pd.merge(df4, weighted_r, on=['date', 'region'], how='left')\n",
    "\n",
    "# Merge with all variables\n",
    "all_var_dataset = pd.merge(df4, df, on='date', how='left').dropna()\n",
    "all_var_dataset.to_csv(\"all_var_dataset.csv\")"
   ],
   "metadata": {
    "collapsed": false,
    "pycharm": {
     "name": "#%%\n"
    }
   }
  },
  {
   "cell_type": "code",
   "execution_count": 453,
   "outputs": [],
   "source": [
    "# # Dimension of dataframe\n",
    "# model_dataset.shape\n",
    "#\n",
    "# # Number of unique sites\n",
    "# model_dataset.region.nunique()\n",
    "#\n",
    "# # Date range\n",
    "# print('Study period from', model_dataset.date.min(), 'to', model_dataset.date.max())\n",
    "\n",
    "# Get total population of each region for each unique date\n",
    "population_sum = grouped['catchment_population_ons_mid_2019'].sum()\n",
    "population_sum.to_csv('Population Over Time.csv')"
   ],
   "metadata": {
    "collapsed": false,
    "pycharm": {
     "name": "#%%\n"
    }
   }
  },
  {
   "cell_type": "code",
   "execution_count": 454,
   "outputs": [
    {
     "data": {
      "text/plain": "array(['east midlands', 'east of england', 'london', 'north east',\n       'north west', 'south east', 'south west', 'west midlands',\n       'yorkshire and the humber'], dtype=object)"
     },
     "execution_count": 454,
     "metadata": {},
     "output_type": "execute_result"
    }
   ],
   "source": [
    "model_dataset.region.unique()"
   ],
   "metadata": {
    "collapsed": false,
    "pycharm": {
     "name": "#%%\n"
    }
   }
  },
  {
   "cell_type": "markdown",
   "source": [
    "#### Subsets"
   ],
   "metadata": {
    "collapsed": false,
    "pycharm": {
     "name": "#%% md\n"
    }
   }
  },
  {
   "cell_type": "code",
   "execution_count": 455,
   "outputs": [],
   "source": [
    "# # Create a class object holding all subsets (not sure how to perform interpolation over it, tbc)\n",
    "# class model_dataset_names:\n",
    "#     pass\n",
    "#\n",
    "# subset_model_dataset = model_dataset_names()\n",
    "#\n",
    "# subsets = model_dataset['region'].unique()\n",
    "#\n",
    "# for subset in subsets:\n",
    "#     setattr(subset_model_dataset, f\"{subset}\", model_dataset[model_dataset['region']==subset].reset_index(drop=True))\n",
    "#\n",
    "# for subset in subsets:\n",
    "#     print(getattr(subset_model_dataset, f\"{subset}\"))"
   ],
   "metadata": {
    "collapsed": false,
    "pycharm": {
     "name": "#%%\n"
    }
   }
  },
  {
   "cell_type": "code",
   "execution_count": 456,
   "outputs": [],
   "source": [
    "subset_sw = model_dataset.loc[(model_dataset['region'] == 'south west'),:]\n",
    "subset_se = model_dataset.loc[(model_dataset['region'] == 'south east'),:]\n",
    "subset_ldn = model_dataset.loc[(model_dataset['region'] == 'london'),:]\n",
    "subset_ee = model_dataset.loc[(model_dataset['region'] == 'east of england'),:]\n",
    "subset_em = model_dataset.loc[(model_dataset['region'] == 'east midlands'),:]\n",
    "subset_wm = model_dataset.loc[(model_dataset['region'] == 'west midlands'),:]\n",
    "subset_nw = model_dataset.loc[(model_dataset['region'] == 'north west'),:]\n",
    "subset_ne = model_dataset.loc[(model_dataset['region'] == 'north east'),:]\n",
    "subset_yh = model_dataset.loc[(model_dataset['region'] == 'yorkshire and the humber'),:]"
   ],
   "metadata": {
    "collapsed": false,
    "pycharm": {
     "name": "#%%\n"
    }
   }
  },
  {
   "cell_type": "code",
   "execution_count": 457,
   "outputs": [
    {
     "data": {
      "text/plain": "467    south east\n468    south east\n469    south east\n470    south east\n471    south east\n          ...    \n569    south east\n570    south east\n571    south east\n572    south east\n573    south east\nName: region, Length: 107, dtype: object"
     },
     "execution_count": 457,
     "metadata": {},
     "output_type": "execute_result"
    }
   ],
   "source": [
    "subsets = [subset_sw, subset_se, subset_ldn, subset_ee, subset_em, subset_wm, subset_nw, subset_ne, subset_yh]\n",
    "subsets[1]['region']"
   ],
   "metadata": {
    "collapsed": false,
    "pycharm": {
     "name": "#%%\n"
    }
   }
  },
  {
   "cell_type": "markdown",
   "source": [
    "#### Perform interpolation into daily data"
   ],
   "metadata": {
    "collapsed": false,
    "pycharm": {
     "name": "#%% md\n"
    }
   }
  },
  {
   "cell_type": "code",
   "execution_count": 458,
   "outputs": [],
   "source": [
    "def interpolation(subset):\n",
    "    # Set index as date to perform interpolation\n",
    "    subset.index = subset['date']\n",
    "    # del subset['date']\n",
    "\n",
    "    # Linear interpolation\n",
    "    daily_interpol = subset.resample('D').mean().interpolate('linear')\n",
    "    # daily_interpol['sars_cov2_gc_l_mean']=daily_interpol['sars_cov2_gc_l_mean'].interpolate()\n",
    "\n",
    "    # This would remove the first rows without interpolated r values -> to be fixed\n",
    "    daily_interpol = daily_interpol.dropna().reset_index()\n",
    "\n",
    "    # log-transformation\n",
    "    daily_interpol['log_weighted_avg'] = np.log10(daily_interpol['weighted_avg_sars_cov2'])\n",
    "    daily_interpol['log_gc_per_day'] = np.log10(daily_interpol['gene_copies_per_day'])\n",
    "    return daily_interpol"
   ],
   "metadata": {
    "collapsed": false,
    "pycharm": {
     "name": "#%%\n"
    }
   }
  },
  {
   "cell_type": "code",
   "execution_count": 459,
   "outputs": [],
   "source": [
    "# Interpolate over all subsets\n",
    "# Create an empty list of dataframes first\n",
    "interpolated_subset = [pd.DataFrame() for x in range(9)]\n",
    "\n",
    "for i in range(0,len(subsets)):\n",
    "    interpolated_subset[i] = interpolation(subsets[i])"
   ],
   "metadata": {
    "collapsed": false,
    "pycharm": {
     "name": "#%%\n"
    }
   }
  },
  {
   "cell_type": "code",
   "execution_count": 479,
   "outputs": [],
   "source": [
    "# Add regions name\n",
    "for i in range(0,len(interpolated_subset)):\n",
    "    interpolated_subset[i]['region'] = subsets[i]['region'][1]"
   ],
   "metadata": {
    "collapsed": false,
    "pycharm": {
     "name": "#%%\n"
    }
   }
  },
  {
   "cell_type": "code",
   "execution_count": 481,
   "outputs": [],
   "source": [
    "combined_dataset = pd.concat(interpolated_subset)"
   ],
   "metadata": {
    "collapsed": false,
    "pycharm": {
     "name": "#%%\n"
    }
   }
  },
  {
   "cell_type": "code",
   "execution_count": 461,
   "outputs": [],
   "source": [
    "# # Simplified version for all regions using dictionary (does not work)\n",
    "# d = dict(tuple(model_dataset.groupby('region')))\n",
    "# d.values()\n",
    "#\n",
    "# for key in d:\n",
    "#     interpol = d.resample('D').mean().interpolate('linear')\n",
    "#\n",
    "# # Set index as date to perform interpolation\n",
    "#\n",
    "# model_dataset = model_dataset.set_index(['region', 'date'], inplace=True)\n",
    "#\n",
    "# # Linear interpolation\n",
    "# daily_interpol_all = model_dataset.resample('D').mean().interpolate('linear')\n",
    "# # daily_interpol['sars_cov2_gc_l_mean']=daily_interpol['sars_cov2_gc_l_mean'].interpolate()\n",
    "#\n",
    "# # Rolling average in a new column called mean_gene??\n",
    "# # subset2 = daily_interpol.assign(mean_gene = daily_interpol['sars_cov2_gc_l_mean'].rolling(window=7).mean())\n",
    "#\n",
    "# # This would remove the first rows without interpolated r values -> to be fixed\n",
    "# daily_interpol_all = daily_interpol_all.dropna().reset_index()\n",
    "#\n",
    "# # log-transformation\n",
    "# daily_interpol_all['log_gene'] = np.log10(daily_interpol['weighted_avg_sars_cov2'])"
   ],
   "metadata": {
    "collapsed": false,
    "pycharm": {
     "name": "#%%\n"
    }
   }
  },
  {
   "cell_type": "markdown",
   "source": [
    "### Data over time"
   ],
   "metadata": {
    "collapsed": false,
    "pycharm": {
     "name": "#%% md\n"
    }
   }
  },
  {
   "cell_type": "code",
   "execution_count": 485,
   "outputs": [
    {
     "data": {
      "text/plain": "False"
     },
     "execution_count": 485,
     "metadata": {},
     "output_type": "execute_result"
    }
   ],
   "source": [
    "# check if dataframe is indexed\n",
    "pd.Index(np.arange(0, len(combined_dataset))).equals(combined_dataset.index)"
   ],
   "metadata": {
    "collapsed": false,
    "pycharm": {
     "name": "#%%\n"
    }
   }
  },
  {
   "cell_type": "code",
   "execution_count": 489,
   "outputs": [
    {
     "data": {
      "text/plain": "          date  weighted_avg_sars_cov2  gene_copies_per_day  \\\n0   2020-09-04              101.375432         6.940908e+10   \n1   2020-09-05              102.447339         7.014299e+10   \n2   2020-09-06              103.519246         7.087689e+10   \n3   2020-09-07             1631.590242         1.117107e+12   \n4   2020-09-08             1479.650801         1.013078e+12   \n..         ...                     ...                  ...   \n155 2021-02-06             3589.059980         3.067035e+12   \n156 2021-02-07             1852.267592         1.582857e+12   \n157 2021-02-08             1562.153674         1.334940e+12   \n158 2021-02-09              814.326837         6.958838e+11   \n159 2021-02-10               66.500000         5.682764e+10   \n\n     weighted_average_r  log_weighted_avg  log_gc_per_day  \\\n0              0.949947          2.005933       10.841416   \n1              0.964242          2.010501       10.845984   \n2              0.978536          2.015021       10.850505   \n3              0.992831          3.212611       12.048095   \n4              1.007125          3.170159       12.005643   \n..                  ...               ...             ...   \n155            0.899438          3.554981       12.486719   \n156            0.899438          3.267704       12.199442   \n157            0.899438          3.193724       12.125462   \n158            0.899438          2.910799       11.842537   \n159            0.899438          1.822822       10.754560   \n\n                       region  \n0                  south west  \n1                  south west  \n2                  south west  \n3                  south west  \n4                  south west  \n..                        ...  \n155  yorkshire and the humber  \n156  yorkshire and the humber  \n157  yorkshire and the humber  \n158  yorkshire and the humber  \n159  yorkshire and the humber  \n\n[1440 rows x 7 columns]",
      "text/html": "<div>\n<style scoped>\n    .dataframe tbody tr th:only-of-type {\n        vertical-align: middle;\n    }\n\n    .dataframe tbody tr th {\n        vertical-align: top;\n    }\n\n    .dataframe thead th {\n        text-align: right;\n    }\n</style>\n<table border=\"1\" class=\"dataframe\">\n  <thead>\n    <tr style=\"text-align: right;\">\n      <th></th>\n      <th>date</th>\n      <th>weighted_avg_sars_cov2</th>\n      <th>gene_copies_per_day</th>\n      <th>weighted_average_r</th>\n      <th>log_weighted_avg</th>\n      <th>log_gc_per_day</th>\n      <th>region</th>\n    </tr>\n  </thead>\n  <tbody>\n    <tr>\n      <th>0</th>\n      <td>2020-09-04</td>\n      <td>101.375432</td>\n      <td>6.940908e+10</td>\n      <td>0.949947</td>\n      <td>2.005933</td>\n      <td>10.841416</td>\n      <td>south west</td>\n    </tr>\n    <tr>\n      <th>1</th>\n      <td>2020-09-05</td>\n      <td>102.447339</td>\n      <td>7.014299e+10</td>\n      <td>0.964242</td>\n      <td>2.010501</td>\n      <td>10.845984</td>\n      <td>south west</td>\n    </tr>\n    <tr>\n      <th>2</th>\n      <td>2020-09-06</td>\n      <td>103.519246</td>\n      <td>7.087689e+10</td>\n      <td>0.978536</td>\n      <td>2.015021</td>\n      <td>10.850505</td>\n      <td>south west</td>\n    </tr>\n    <tr>\n      <th>3</th>\n      <td>2020-09-07</td>\n      <td>1631.590242</td>\n      <td>1.117107e+12</td>\n      <td>0.992831</td>\n      <td>3.212611</td>\n      <td>12.048095</td>\n      <td>south west</td>\n    </tr>\n    <tr>\n      <th>4</th>\n      <td>2020-09-08</td>\n      <td>1479.650801</td>\n      <td>1.013078e+12</td>\n      <td>1.007125</td>\n      <td>3.170159</td>\n      <td>12.005643</td>\n      <td>south west</td>\n    </tr>\n    <tr>\n      <th>...</th>\n      <td>...</td>\n      <td>...</td>\n      <td>...</td>\n      <td>...</td>\n      <td>...</td>\n      <td>...</td>\n      <td>...</td>\n    </tr>\n    <tr>\n      <th>155</th>\n      <td>2021-02-06</td>\n      <td>3589.059980</td>\n      <td>3.067035e+12</td>\n      <td>0.899438</td>\n      <td>3.554981</td>\n      <td>12.486719</td>\n      <td>yorkshire and the humber</td>\n    </tr>\n    <tr>\n      <th>156</th>\n      <td>2021-02-07</td>\n      <td>1852.267592</td>\n      <td>1.582857e+12</td>\n      <td>0.899438</td>\n      <td>3.267704</td>\n      <td>12.199442</td>\n      <td>yorkshire and the humber</td>\n    </tr>\n    <tr>\n      <th>157</th>\n      <td>2021-02-08</td>\n      <td>1562.153674</td>\n      <td>1.334940e+12</td>\n      <td>0.899438</td>\n      <td>3.193724</td>\n      <td>12.125462</td>\n      <td>yorkshire and the humber</td>\n    </tr>\n    <tr>\n      <th>158</th>\n      <td>2021-02-09</td>\n      <td>814.326837</td>\n      <td>6.958838e+11</td>\n      <td>0.899438</td>\n      <td>2.910799</td>\n      <td>11.842537</td>\n      <td>yorkshire and the humber</td>\n    </tr>\n    <tr>\n      <th>159</th>\n      <td>2021-02-10</td>\n      <td>66.500000</td>\n      <td>5.682764e+10</td>\n      <td>0.899438</td>\n      <td>1.822822</td>\n      <td>10.754560</td>\n      <td>yorkshire and the humber</td>\n    </tr>\n  </tbody>\n</table>\n<p>1440 rows × 7 columns</p>\n</div>"
     },
     "execution_count": 489,
     "metadata": {},
     "output_type": "execute_result"
    }
   ],
   "source": [
    "combined_dataset"
   ],
   "metadata": {
    "collapsed": false,
    "pycharm": {
     "name": "#%%\n"
    }
   }
  },
  {
   "cell_type": "code",
   "execution_count": 493,
   "outputs": [
    {
     "ename": "ValueError",
     "evalue": "cannot insert level_0, already exists",
     "output_type": "error",
     "traceback": [
      "\u001B[0;31m---------------------------------------------------------------------------\u001B[0m",
      "\u001B[0;31mValueError\u001B[0m                                Traceback (most recent call last)",
      "Input \u001B[0;32mIn [493]\u001B[0m, in \u001B[0;36m<cell line: 15>\u001B[0;34m()\u001B[0m\n\u001B[1;32m      1\u001B[0m \u001B[38;5;66;03m# EDA plots to compare before and after interpolation\u001B[39;00m\n\u001B[1;32m      2\u001B[0m \u001B[38;5;66;03m# Red = after interpolation\u001B[39;00m\n\u001B[1;32m      3\u001B[0m \n\u001B[0;32m   (...)\u001B[0m\n\u001B[1;32m     13\u001B[0m \n\u001B[1;32m     14\u001B[0m \u001B[38;5;66;03m# Population of each region over time\u001B[39;00m\n\u001B[0;32m---> 15\u001B[0m population_sum \u001B[38;5;241m=\u001B[39m \u001B[43mpopulation_sum\u001B[49m\u001B[38;5;241;43m.\u001B[39;49m\u001B[43mreset_index\u001B[49m\u001B[43m(\u001B[49m\u001B[43m)\u001B[49m\n\u001B[1;32m     16\u001B[0m plt\u001B[38;5;241m.\u001B[39mfigure()\n\u001B[1;32m     17\u001B[0m ax \u001B[38;5;241m=\u001B[39m sns\u001B[38;5;241m.\u001B[39mlineplot(x\u001B[38;5;241m=\u001B[39m\u001B[38;5;124m'\u001B[39m\u001B[38;5;124mdate\u001B[39m\u001B[38;5;124m'\u001B[39m, y\u001B[38;5;241m=\u001B[39m\u001B[38;5;124m'\u001B[39m\u001B[38;5;124mcatchment_population_ons_mid_2019\u001B[39m\u001B[38;5;124m'\u001B[39m, hue\u001B[38;5;241m=\u001B[39m\u001B[38;5;124m'\u001B[39m\u001B[38;5;124mregion\u001B[39m\u001B[38;5;124m'\u001B[39m, data\u001B[38;5;241m=\u001B[39mpopulation_sum)\n",
      "File \u001B[0;32m/Library/Frameworks/Python.framework/Versions/3.10/lib/python3.10/site-packages/pandas/util/_decorators.py:311\u001B[0m, in \u001B[0;36mdeprecate_nonkeyword_arguments.<locals>.decorate.<locals>.wrapper\u001B[0;34m(*args, **kwargs)\u001B[0m\n\u001B[1;32m    305\u001B[0m \u001B[38;5;28;01mif\u001B[39;00m \u001B[38;5;28mlen\u001B[39m(args) \u001B[38;5;241m>\u001B[39m num_allow_args:\n\u001B[1;32m    306\u001B[0m     warnings\u001B[38;5;241m.\u001B[39mwarn(\n\u001B[1;32m    307\u001B[0m         msg\u001B[38;5;241m.\u001B[39mformat(arguments\u001B[38;5;241m=\u001B[39marguments),\n\u001B[1;32m    308\u001B[0m         \u001B[38;5;167;01mFutureWarning\u001B[39;00m,\n\u001B[1;32m    309\u001B[0m         stacklevel\u001B[38;5;241m=\u001B[39mstacklevel,\n\u001B[1;32m    310\u001B[0m     )\n\u001B[0;32m--> 311\u001B[0m \u001B[38;5;28;01mreturn\u001B[39;00m \u001B[43mfunc\u001B[49m\u001B[43m(\u001B[49m\u001B[38;5;241;43m*\u001B[39;49m\u001B[43margs\u001B[49m\u001B[43m,\u001B[49m\u001B[43m \u001B[49m\u001B[38;5;241;43m*\u001B[39;49m\u001B[38;5;241;43m*\u001B[39;49m\u001B[43mkwargs\u001B[49m\u001B[43m)\u001B[49m\n",
      "File \u001B[0;32m/Library/Frameworks/Python.framework/Versions/3.10/lib/python3.10/site-packages/pandas/core/frame.py:5839\u001B[0m, in \u001B[0;36mDataFrame.reset_index\u001B[0;34m(self, level, drop, inplace, col_level, col_fill)\u001B[0m\n\u001B[1;32m   5833\u001B[0m         \u001B[38;5;28;01mif\u001B[39;00m lab \u001B[38;5;129;01mis\u001B[39;00m \u001B[38;5;129;01mnot\u001B[39;00m \u001B[38;5;28;01mNone\u001B[39;00m:\n\u001B[1;32m   5834\u001B[0m             \u001B[38;5;66;03m# if we have the codes, extract the values with a mask\u001B[39;00m\n\u001B[1;32m   5835\u001B[0m             level_values \u001B[38;5;241m=\u001B[39m algorithms\u001B[38;5;241m.\u001B[39mtake(\n\u001B[1;32m   5836\u001B[0m                 level_values, lab, allow_fill\u001B[38;5;241m=\u001B[39m\u001B[38;5;28;01mTrue\u001B[39;00m, fill_value\u001B[38;5;241m=\u001B[39mlev\u001B[38;5;241m.\u001B[39m_na_value\n\u001B[1;32m   5837\u001B[0m             )\n\u001B[0;32m-> 5839\u001B[0m         \u001B[43mnew_obj\u001B[49m\u001B[38;5;241;43m.\u001B[39;49m\u001B[43minsert\u001B[49m\u001B[43m(\u001B[49m\u001B[38;5;241;43m0\u001B[39;49m\u001B[43m,\u001B[49m\u001B[43m \u001B[49m\u001B[43mname\u001B[49m\u001B[43m,\u001B[49m\u001B[43m \u001B[49m\u001B[43mlevel_values\u001B[49m\u001B[43m)\u001B[49m\n\u001B[1;32m   5841\u001B[0m new_obj\u001B[38;5;241m.\u001B[39mindex \u001B[38;5;241m=\u001B[39m new_index\n\u001B[1;32m   5842\u001B[0m \u001B[38;5;28;01mif\u001B[39;00m \u001B[38;5;129;01mnot\u001B[39;00m inplace:\n",
      "File \u001B[0;32m/Library/Frameworks/Python.framework/Versions/3.10/lib/python3.10/site-packages/pandas/core/frame.py:4440\u001B[0m, in \u001B[0;36mDataFrame.insert\u001B[0;34m(self, loc, column, value, allow_duplicates)\u001B[0m\n\u001B[1;32m   4434\u001B[0m     \u001B[38;5;28;01mraise\u001B[39;00m \u001B[38;5;167;01mValueError\u001B[39;00m(\n\u001B[1;32m   4435\u001B[0m         \u001B[38;5;124m\"\u001B[39m\u001B[38;5;124mCannot specify \u001B[39m\u001B[38;5;124m'\u001B[39m\u001B[38;5;124mallow_duplicates=True\u001B[39m\u001B[38;5;124m'\u001B[39m\u001B[38;5;124m when \u001B[39m\u001B[38;5;124m\"\u001B[39m\n\u001B[1;32m   4436\u001B[0m         \u001B[38;5;124m\"\u001B[39m\u001B[38;5;124m'\u001B[39m\u001B[38;5;124mself.flags.allows_duplicate_labels\u001B[39m\u001B[38;5;124m'\u001B[39m\u001B[38;5;124m is False.\u001B[39m\u001B[38;5;124m\"\u001B[39m\n\u001B[1;32m   4437\u001B[0m     )\n\u001B[1;32m   4438\u001B[0m \u001B[38;5;28;01mif\u001B[39;00m \u001B[38;5;129;01mnot\u001B[39;00m allow_duplicates \u001B[38;5;129;01mand\u001B[39;00m column \u001B[38;5;129;01min\u001B[39;00m \u001B[38;5;28mself\u001B[39m\u001B[38;5;241m.\u001B[39mcolumns:\n\u001B[1;32m   4439\u001B[0m     \u001B[38;5;66;03m# Should this be a different kind of error??\u001B[39;00m\n\u001B[0;32m-> 4440\u001B[0m     \u001B[38;5;28;01mraise\u001B[39;00m \u001B[38;5;167;01mValueError\u001B[39;00m(\u001B[38;5;124mf\u001B[39m\u001B[38;5;124m\"\u001B[39m\u001B[38;5;124mcannot insert \u001B[39m\u001B[38;5;132;01m{\u001B[39;00mcolumn\u001B[38;5;132;01m}\u001B[39;00m\u001B[38;5;124m, already exists\u001B[39m\u001B[38;5;124m\"\u001B[39m)\n\u001B[1;32m   4441\u001B[0m \u001B[38;5;28;01mif\u001B[39;00m \u001B[38;5;129;01mnot\u001B[39;00m \u001B[38;5;28misinstance\u001B[39m(loc, \u001B[38;5;28mint\u001B[39m):\n\u001B[1;32m   4442\u001B[0m     \u001B[38;5;28;01mraise\u001B[39;00m \u001B[38;5;167;01mTypeError\u001B[39;00m(\u001B[38;5;124m\"\u001B[39m\u001B[38;5;124mloc must be int\u001B[39m\u001B[38;5;124m\"\u001B[39m)\n",
      "\u001B[0;31mValueError\u001B[0m: cannot insert level_0, already exists"
     ]
    }
   ],
   "source": [
    "# EDA plots to compare before and after interpolation\n",
    "# Red = after interpolation\n",
    "\n",
    "# Raw RNA level over time\n",
    "plt.figure()\n",
    "sns.lineplot(data=combined_dataset, x=\"date\", y=\"weighted_avg_sars_cov2\", hue='region')\n",
    "plt.title('Raw RNA level Over Time')\n",
    "\n",
    "# Log RNA level over time\n",
    "plt.figure()\n",
    "sns.lineplot(data=combined_dataset, x=\"date\", y=\"log_gene\", hue='region')\n",
    "plt.title('Log RNA level Over Time')\n",
    "\n",
    "# Population of each region over time\n",
    "population_sum = population_sum.reset_index()\n",
    "plt.figure()\n",
    "ax = sns.lineplot(x='date', y='catchment_population_ons_mid_2019', hue='region', data=population_sum)\n",
    "ax.set_ylabel(\"Population\")\n",
    "sns.move_legend(ax, \"lower center\", bbox_to_anchor=(.5, 1.2), ncol=3, title=None, frameon=False)\n",
    "plt.title('Population Over Time')\n",
    "\n",
    "# Real incidence of SW\n",
    "plt.figure()\n",
    "bx = sns.lineplot(data=real_cases, x=\"date\", y='newCasesBySpecimenDate', hue='areaName')\n",
    "plt.title('New Cases by Specimen Date')\n"
   ],
   "metadata": {
    "collapsed": false,
    "pycharm": {
     "name": "#%%\n"
    }
   }
  },
  {
   "cell_type": "code",
   "execution_count": 463,
   "outputs": [],
   "source": [
    "# # Days that have lower population\n",
    "# max(population_sum_sw['catchment_population_ons_mid_2019'])\n",
    "# mask = population_sum_sw[population_sum_sw['catchment_population_ons_mid_2019']!=1711684.0]\n",
    "# mask"
   ],
   "metadata": {
    "collapsed": false,
    "pycharm": {
     "name": "#%%\n"
    }
   }
  },
  {
   "cell_type": "markdown",
   "source": [
    "### Relationship between RNA level and R value"
   ],
   "metadata": {
    "collapsed": false,
    "pycharm": {
     "name": "#%% md\n"
    }
   }
  },
  {
   "cell_type": "code",
   "execution_count": 464,
   "outputs": [],
   "source": [
    "melted_data = pd.melt(daily_interpol[['log_gene', 'SOUTH WEST_LOWER BOUND', 'SOUTH WEST_AVERAGE', 'SOUTH WEST_UPPER BOUND']], id_vars=['log_gene'])\n",
    "melted_data2 = pd.merge(daily_interpol, real_case_sw, on='date', how='left')\n",
    "melted_data2 = pd.melt(melted_data2[['log_gene', 'newCasesBySpecimenDate']], id_vars=['log_gene'])"
   ],
   "metadata": {
    "collapsed": false,
    "pycharm": {
     "name": "#%%\n"
    }
   }
  },
  {
   "cell_type": "code",
   "execution_count": 465,
   "outputs": [
    {
     "data": {
      "text/plain": "Text(0.5, 1.0, 'Incidence and log RNA level')"
     },
     "execution_count": 465,
     "metadata": {},
     "output_type": "execute_result"
    },
    {
     "data": {
      "text/plain": "<Figure size 432x288 with 1 Axes>",
      "image/png": "[encoded data removed]"
     },
     "metadata": {},
     "output_type": "display_data"
    },
    {
     "data": {
      "text/plain": "<Figure size 432x288 with 1 Axes>",
      "image/png": "[encoded data removed]"
     },
     "metadata": {},
     "output_type": "display_data"
    }
   ],
   "source": [
    "g = sns.scatterplot(data=melted_data, x='log_gene', y='value', hue='variable', marker='+')\n",
    "g.legend(loc='center left', bbox_to_anchor=(1, 0.5), ncol=1)\n",
    "plt.title('R estimates and log RNA level')\n",
    "\n",
    "plt.figure()\n",
    "h = sns.scatterplot(data=melted_data2, x='log_gene', y='value', hue='variable', marker='+', legend=False)\n",
    "plt.title('Incidence and log RNA level')"
   ],
   "metadata": {
    "collapsed": false,
    "pycharm": {
     "name": "#%%\n"
    }
   }
  },
  {
   "cell_type": "code",
   "execution_count": 466,
   "outputs": [],
   "source": [
    "# Check number of values under each site\n",
    "# df3.CIS20CD.value_counts()\n",
    "\n",
    "# Check number of zero values\n",
    "# (df == 0).sum()"
   ],
   "metadata": {
    "collapsed": false,
    "pycharm": {
     "name": "#%%\n"
    }
   }
  },
  {
   "cell_type": "code",
   "execution_count": 494,
   "outputs": [],
   "source": [
    "# Write combined dataset to csv file\n",
    "combined_dataset.to_csv(\"Linked Data.csv\")"
   ],
   "metadata": {
    "collapsed": false,
    "pycharm": {
     "name": "#%%\n"
    }
   }
  },
  {
   "cell_type": "code",
   "execution_count": 496,
   "outputs": [],
   "source": [
    "# Write each subset to a separate csv file\n",
    "for i, outfile in zip(interpolated_subset, [\"subset_sw.csv\", \"subset_se.csv\", \"subset_ldn.csv\",\n",
    "                                \"subset_ee.csv\", \"subset_em.csv\", \"subset_wm.csv\",\n",
    "                                \"subset_nw.csv\", \"subset_ne.csv\", \"subset_yh.csv\"]):\n",
    "    i.to_csv(outfile)"
   ],
   "metadata": {
    "collapsed": false,
    "pycharm": {
     "name": "#%%\n"
    }
   }
  },
  {
   "cell_type": "code",
   "execution_count": null,
   "outputs": [],
   "source": [],
   "metadata": {
    "collapsed": false,
    "pycharm": {
     "name": "#%%\n"
    }
   }
  }
 ],
 "metadata": {
  "kernelspec": {
   "display_name": "Python 3",
   "language": "python",
   "name": "python3"
  },
  "language_info": {
   "codemirror_mode": {
    "name": "ipython",
    "version": 2
   },
   "file_extension": ".py",
   "mimetype": "text/x-python",
   "name": "python",
   "nbconvert_exporter": "python",
   "pygments_lexer": "ipython2",
   "version": "2.7.6"
  }
 },
 "nbformat": 4,
 "nbformat_minor": 0
}