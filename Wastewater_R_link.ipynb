{
 "cells": [
  {
   "cell_type": "markdown",
   "source": [],
   "metadata": {
    "collapsed": false,
    "pycharm": {
     "name": "#%% md\n"
    }
   }
  },
  {
   "cell_type": "code",
   "execution_count": 7,
   "metadata": {
    "collapsed": true,
    "pycharm": {
     "name": "#%%\n"
    }
   },
   "outputs": [],
   "source": [
    "# Please install openpyxl and odfpy from pip or anaconda in order to import the inout data files\n",
    "import sys\n",
    "# !{sys.executable} -m pip install openpyxl\n",
    "# !{sys.executable} -m pip install odfpy\n",
    "\n",
    "# Import libraries and set plot styles\n",
    "import numpy as np\n",
    "import pandas as pd\n",
    "import matplotlib.pyplot as plt\n",
    "import seaborn as sns\n",
    "\n",
    "# Remove warning for chained assignment\n",
    "pd.options.mode.chained_assignment = None  # default='warn'\n",
    "\n",
    "# Show plots inline\n",
    "%matplotlib inline\n",
    "\n",
    "# Set plot style\n",
    "# plot.style.available\n",
    "plt.style.use('fivethirtyeight')"
   ]
  },
  {
   "cell_type": "code",
   "execution_count": 8,
   "outputs": [],
   "source": [
    "# Read in and preview data\n",
    "df = pd.read_csv('/Users/FM/Public/HDS/Summer Project/wastewater_r_estimation/Data/agg_data_inner_11_cis_mar22.csv',\n",
    "                 parse_dates=['date'],\n",
    "                 dayfirst=True)\n",
    "df1 = pd.read_excel('/Users/FM/Public/HDS/Summer Project/wastewater_r_estimation/Data/Region Mapping.xlsx')\n",
    "df2 = pd.read_excel('/Users/FM/Public/HDS/Summer Project/R_and_growth_rate_time_series_for_publication_v1.0.ods',\n",
    "                    sheet_name=2,\n",
    "                    engine='odf',\n",
    "                    header=[7,8], #Two rows of header\n",
    "                    na_values='.'\n",
    "                    )\n",
    "\n",
    "# Check for missing values\n",
    "df.isnull().sum()\n",
    "\n",
    "# Select header titles and data range\n",
    "df1.columns = df1.iloc[2]\n",
    "region_map = df1.iloc[3:, :]\n",
    "r_val = df2.iloc[:, 1:]\n",
    "\n",
    "# Merge 2 header rows\n",
    "r_val.columns = ['_'.join(header).upper() for header in r_val.columns]\n",
    "r_val.drop(['UK_UPPER BOUND', 'UK_LOWER BOUND'], axis=1)\n",
    "\n",
    "# Remove missing values\n",
    "region_map.dropna()\n",
    "r_val = r_val.dropna()\n",
    "\n",
    "# Rename specific columns for joining\n",
    "df.rename(columns={'cis20cd': 'CIS20CD'}, inplace=True)\n",
    "df.rename(columns={'grab_compo_boo': 'compo_frac'}, inplace=True)\n",
    "region_map.rename(columns={'Geography Code': 'CIS20CD'}, inplace=True)\n",
    "r_val.rename(columns={'DATE_UNNAMED: 1_LEVEL_1': 'date'}, inplace=True)\n",
    "\n",
    "### Copied from UKHSA code ###\n",
    "# Variable labels that are not changed\n",
    "variable_labels = {\n",
    "    'sars_cov2_gc_l_mean': 'SARS-CoV-2 concentration',\n",
    "    'sample_ph_pre_ansis':'sample pH',\n",
    "    'ammonia_mg_l':'ammonia concentration',\n",
    "    #'control_gc_l_mean':'control volume',\n",
    "    'ophosph_mg_l':'phosphate concentration',\n",
    "    'suspended_solids_mg_l':'suspended solids',\n",
    "    'sars_below_loq':'below LOQ',\n",
    "    'sars_below_lod':'below LOD',\n",
    "    'compo_frac':'composites fraction',\n",
    "    'reception_delay':'reception delay',\n",
    "    'catch_cis_population':'covered population',\n",
    "    'catch_in_cis_prop':'subregion population fraction',\n",
    "    \"catchment_population_ons_mid_2019\": \"catchment population\",\n",
    "    \"catchment_area\": 'catchment area'\n",
    "}"
   ],
   "metadata": {
    "collapsed": false,
    "pycharm": {
     "name": "#%%\n"
    }
   }
  },
  {
   "cell_type": "code",
   "execution_count": 9,
   "outputs": [],
   "source": [
    "df['date'] = pd.to_datetime(df['date'])\n",
    "r_val['date'] = pd.to_datetime(r_val['date'],\n",
    "                               format = '%Y-%m-%d %H:%M:%S',\n",
    "                               errors='coerce')\n",
    "\n",
    "# df.head()\n",
    "# region_map.head()\n",
    "# r_val.head()\n",
    "\n",
    "# Check R values shortly before study period (for out-of-range interpolation)\n",
    "# r_val[r_val['date'].between('2020-08-20','2020-09-07')]"
   ],
   "metadata": {
    "collapsed": false,
    "pycharm": {
     "name": "#%%\n"
    }
   }
  },
  {
   "cell_type": "markdown",
   "source": [
    "### Generate average r values for each region"
   ],
   "metadata": {
    "collapsed": false,
    "pycharm": {
     "name": "#%% md\n"
    }
   }
  },
  {
   "cell_type": "code",
   "execution_count": 10,
   "outputs": [],
   "source": [
    "# r_val['UK_AVERAGE'] = r_val[['UK_LOWER BOUND', 'UK_UPPER BOUND']].mean(axis=1)\n",
    "r_val['ENGLAND_AVERAGE'] = r_val[['ENGLAND_LOWER BOUND', 'ENGLAND_UPPER BOUND']].mean(axis=1)\n",
    "r_val['EAST OF ENGLAND_AVERAGE'] = r_val[['EAST OF ENGLAND_LOWER BOUND', 'EAST OF ENGLAND_UPPER BOUND']].mean(axis=1)\n",
    "r_val['LONDON_AVERAGE'] = r_val[['LONDON_LOWER BOUND', 'LONDON_UPPER BOUND']].mean(axis=1)\n",
    "r_val['MIDLANDS_AVERAGE'] = r_val[['MIDLANDS_LOWER BOUND', 'MIDLANDS_UPPER BOUND']].mean(axis=1)\n",
    "r_val['NORTH EAST AND YORKSHIRE_AVERAGE'] = r_val[['NORTH EAST AND YORKSHIRE_LOWER BOUND', 'NORTH EAST AND YORKSHIRE_UPPER BOUND']].mean(axis=1)\n",
    "r_val['NORTH WEST_AVERAGE'] = r_val[['NORTH WEST_LOWER BOUND', 'NORTH WEST_UPPER BOUND']].mean(axis=1)\n",
    "r_val['SOUTH EAST_AVERAGE'] = r_val[['SOUTH EAST_LOWER BOUND', 'SOUTH EAST_UPPER BOUND']].mean(axis=1)\n",
    "r_val['SOUTH WEST_AVERAGE'] = r_val[['SOUTH WEST_LOWER BOUND', 'SOUTH WEST_UPPER BOUND']].mean(axis=1)"
   ],
   "metadata": {
    "collapsed": false,
    "pycharm": {
     "name": "#%%\n"
    }
   }
  },
  {
   "cell_type": "markdown",
   "source": [
    "### Linkage"
   ],
   "metadata": {
    "collapsed": false,
    "pycharm": {
     "name": "#%% md\n"
    }
   }
  },
  {
   "cell_type": "code",
   "execution_count": 31,
   "outputs": [
    {
     "data": {
      "text/plain": "          Region       date  weighted_avg_sars_cov2\n0  East Midlands 2020-09-04             4059.005490\n1  East Midlands 2020-09-06            49356.564046\n2  East Midlands 2020-09-07             2122.918500\n3  East Midlands 2020-09-09            14980.968398\n4  East Midlands 2020-09-11            19439.225934",
      "text/html": "<div>\n<style scoped>\n    .dataframe tbody tr th:only-of-type {\n        vertical-align: middle;\n    }\n\n    .dataframe tbody tr th {\n        vertical-align: top;\n    }\n\n    .dataframe thead th {\n        text-align: right;\n    }\n</style>\n<table border=\"1\" class=\"dataframe\">\n  <thead>\n    <tr style=\"text-align: right;\">\n      <th></th>\n      <th>Region</th>\n      <th>date</th>\n      <th>weighted_avg_sars_cov2</th>\n    </tr>\n  </thead>\n  <tbody>\n    <tr>\n      <th>0</th>\n      <td>East Midlands</td>\n      <td>2020-09-04</td>\n      <td>4059.005490</td>\n    </tr>\n    <tr>\n      <th>1</th>\n      <td>East Midlands</td>\n      <td>2020-09-06</td>\n      <td>49356.564046</td>\n    </tr>\n    <tr>\n      <th>2</th>\n      <td>East Midlands</td>\n      <td>2020-09-07</td>\n      <td>2122.918500</td>\n    </tr>\n    <tr>\n      <th>3</th>\n      <td>East Midlands</td>\n      <td>2020-09-09</td>\n      <td>14980.968398</td>\n    </tr>\n    <tr>\n      <th>4</th>\n      <td>East Midlands</td>\n      <td>2020-09-11</td>\n      <td>19439.225934</td>\n    </tr>\n  </tbody>\n</table>\n</div>"
     },
     "execution_count": 31,
     "metadata": {},
     "output_type": "execute_result"
    }
   ],
   "source": [
    "# Match region to codes in wastewater data\n",
    "df3 = pd.merge(df, region_map[['CIS20CD', 'Country', 'Region']], on='CIS20CD', how='left')\n",
    "\n",
    "# Weighted average\n",
    "grouped = df3.groupby(['Region', 'date'])\n",
    "\n",
    "def wavg(group):\n",
    "    d = group['sars_cov2_gc_l_mean']\n",
    "    w = group['catchment_population_ons_mid_2019']\n",
    "    return (d * w).sum() / w.sum()\n",
    "\n",
    "df4 = grouped.apply(wavg)\n",
    "df4 = df4.reset_index()\n",
    "df4.rename(columns={0: 'weighted_avg_sars_cov2'}, inplace=True) # rename weighted average column\n",
    "df3.Region.nunique()\n",
    "df4.head()"
   ],
   "metadata": {
    "collapsed": false,
    "pycharm": {
     "name": "#%%\n"
    }
   }
  },
  {
   "cell_type": "code",
   "execution_count": 41,
   "outputs": [],
   "source": [
    "# Match with R values\n",
    "model_dataset = pd.merge(df4, r_val, on='date', how='left')\n",
    "\n",
    "# Merge with all variables\n",
    "all_var_dataset = pd.merge(df4, df, on='date', how='left').dropna()\n",
    "all_var_dataset.to_csv(\"all_var_dataset.csv\")"
   ],
   "metadata": {
    "collapsed": false,
    "pycharm": {
     "name": "#%%\n"
    }
   }
  },
  {
   "cell_type": "code",
   "execution_count": 43,
   "outputs": [
    {
     "data": {
      "text/plain": "['Region',\n 'date',\n 'weighted_avg_sars_cov2',\n 'UK_LOWER BOUND',\n 'UK_UPPER BOUND',\n 'ENGLAND_LOWER BOUND',\n 'ENGLAND_UPPER BOUND',\n 'EAST OF ENGLAND_LOWER BOUND',\n 'EAST OF ENGLAND_UPPER BOUND',\n 'LONDON_LOWER BOUND',\n 'LONDON_UPPER BOUND',\n 'MIDLANDS_LOWER BOUND',\n 'MIDLANDS_UPPER BOUND',\n 'NORTH EAST AND YORKSHIRE_LOWER BOUND',\n 'NORTH EAST AND YORKSHIRE_UPPER BOUND',\n 'NORTH WEST_LOWER BOUND',\n 'NORTH WEST_UPPER BOUND',\n 'SOUTH EAST_LOWER BOUND',\n 'SOUTH EAST_UPPER BOUND',\n 'SOUTH WEST_LOWER BOUND',\n 'SOUTH WEST_UPPER BOUND',\n 'ENGLAND_AVERAGE',\n 'EAST OF ENGLAND_AVERAGE',\n 'LONDON_AVERAGE',\n 'MIDLANDS_AVERAGE',\n 'NORTH EAST AND YORKSHIRE_AVERAGE',\n 'NORTH WEST_AVERAGE',\n 'SOUTH EAST_AVERAGE',\n 'SOUTH WEST_AVERAGE']"
     },
     "execution_count": 43,
     "metadata": {},
     "output_type": "execute_result"
    }
   ],
   "source": [
    "# # Dimension of dataframe\n",
    "# model_dataset.shape\n",
    "#\n",
    "# # Number of unique sites\n",
    "# model_dataset.Region.nunique()\n",
    "#\n",
    "# # Date range\n",
    "# print('Study period from', model_dataset.date.min(), 'to', model_dataset.date.max())\n",
    "\n",
    "# Get total population of each region\n",
    "# Changes over time\n",
    "population_sum = grouped['catchment_population_ons_mid_2019'].sum()\n",
    "population_sum.to_csv('Population Over Time.csv')\n",
    "list(model_dataset.columns)"
   ],
   "metadata": {
    "collapsed": false,
    "pycharm": {
     "name": "#%%\n"
    }
   }
  },
  {
   "cell_type": "markdown",
   "source": [
    "#### Subset of South West region only"
   ],
   "metadata": {
    "collapsed": false,
    "pycharm": {
     "name": "#%% md\n"
    }
   }
  },
  {
   "cell_type": "code",
   "execution_count": 34,
   "outputs": [],
   "source": [
    "subset = model_dataset[['date', 'weighted_avg_sars_cov2', 'Region', 'SOUTH WEST_LOWER BOUND', 'SOUTH WEST_UPPER BOUND', 'SOUTH WEST_AVERAGE']]\n",
    "subset = subset.loc[(subset['Region'] == 'South West'),:]"
   ],
   "metadata": {
    "collapsed": false,
    "pycharm": {
     "name": "#%%\n"
    }
   }
  },
  {
   "cell_type": "markdown",
   "source": [
    "#### Perform interpolation into daily data"
   ],
   "metadata": {
    "collapsed": false,
    "pycharm": {
     "name": "#%% md\n"
    }
   }
  },
  {
   "cell_type": "code",
   "execution_count": 35,
   "outputs": [],
   "source": [
    "# Set index as date to perform interpolation\n",
    "subset.index = subset['date']\n",
    "# del subset['date']\n",
    "\n",
    "# Linear interpolation\n",
    "daily_interpol = subset.resample('D').mean().interpolate('linear')\n",
    "# daily_interpol['sars_cov2_gc_l_mean']=daily_interpol['sars_cov2_gc_l_mean'].interpolate()\n",
    "\n",
    "# Rolling average in a new column called mean_gene??\n",
    "# subset2 = daily_interpol.assign(mean_gene = daily_interpol['sars_cov2_gc_l_mean'].rolling(window=7).mean())\n",
    "\n",
    "# This would remove the first rows without interpolated r values -> to be fixed\n",
    "daily_interpol = daily_interpol.dropna().reset_index()\n",
    "\n",
    "# log-transformation\n",
    "daily_interpol['log_gene'] = np.log10(daily_interpol['weighted_avg_sars_cov2'])"
   ],
   "metadata": {
    "collapsed": false,
    "pycharm": {
     "name": "#%%\n"
    }
   }
  },
  {
   "cell_type": "code",
   "execution_count": 50,
   "outputs": [
    {
     "data": {
      "text/plain": "dict_values([           Region       date  weighted_avg_sars_cov2  UK_LOWER BOUND  \\\n0   East Midlands 2020-09-04             4059.005490             NaN   \n1   East Midlands 2020-09-06            49356.564046             NaN   \n2   East Midlands 2020-09-07             2122.918500             NaN   \n3   East Midlands 2020-09-09            14980.968398             NaN   \n4   East Midlands 2020-09-11            19439.225934             1.0   \n..            ...        ...                     ...             ...   \n83  East Midlands 2021-02-03            15873.884560             NaN   \n84  East Midlands 2021-02-05            10053.995286             0.7   \n85  East Midlands 2021-02-07            29593.325675             NaN   \n86  East Midlands 2021-02-08           123478.853215             NaN   \n87  East Midlands 2021-02-10            69914.644670             NaN   \n\n    UK_UPPER BOUND  ENGLAND_LOWER BOUND  ENGLAND_UPPER BOUND  \\\n0              NaN                  NaN                  NaN   \n1              NaN                  NaN                  NaN   \n2              NaN                  NaN                  NaN   \n3              NaN                  NaN                  NaN   \n4              1.2                  1.0                  1.2   \n..             ...                  ...                  ...   \n83             NaN                  NaN                  NaN   \n84             1.0                  0.7                  0.9   \n85             NaN                  NaN                  NaN   \n86             NaN                  NaN                  NaN   \n87             NaN                  NaN                  NaN   \n\n    EAST OF ENGLAND_LOWER BOUND  EAST OF ENGLAND_UPPER BOUND  \\\n0                           NaN                          NaN   \n1                           NaN                          NaN   \n2                           NaN                          NaN   \n3                           NaN                          NaN   \n4                           0.9                          1.2   \n..                          ...                          ...   \n83                          NaN                          NaN   \n84                          0.7                          0.9   \n85                          NaN                          NaN   \n86                          NaN                          NaN   \n87                          NaN                          NaN   \n\n    LONDON_LOWER BOUND  ...  SOUTH WEST_LOWER BOUND  SOUTH WEST_UPPER BOUND  \\\n0                  NaN  ...                     NaN                     NaN   \n1                  NaN  ...                     NaN                     NaN   \n2                  NaN  ...                     NaN                     NaN   \n3                  NaN  ...                     NaN                     NaN   \n4                  1.1  ...                     0.9                     1.2   \n..                 ...  ...                     ...                     ...   \n83                 NaN  ...                     NaN                     NaN   \n84                 0.6  ...                     0.7                     0.9   \n85                 NaN  ...                     NaN                     NaN   \n86                 NaN  ...                     NaN                     NaN   \n87                 NaN  ...                     NaN                     NaN   \n\n    ENGLAND_AVERAGE  EAST OF ENGLAND_AVERAGE  LONDON_AVERAGE  \\\n0               NaN                      NaN             NaN   \n1               NaN                      NaN             NaN   \n2               NaN                      NaN             NaN   \n3               NaN                      NaN             NaN   \n4               1.1                     1.05             1.2   \n..              ...                      ...             ...   \n83              NaN                      NaN             NaN   \n84              0.8                     0.80             0.7   \n85              NaN                      NaN             NaN   \n86              NaN                      NaN             NaN   \n87              NaN                      NaN             NaN   \n\n    MIDLANDS_AVERAGE  NORTH EAST AND YORKSHIRE_AVERAGE  NORTH WEST_AVERAGE  \\\n0                NaN                               NaN                 NaN   \n1                NaN                               NaN                 NaN   \n2                NaN                               NaN                 NaN   \n3                NaN                               NaN                 NaN   \n4                1.0                               1.1                1.20   \n..               ...                               ...                 ...   \n83               NaN                               NaN                 NaN   \n84               0.8                               0.9                0.85   \n85               NaN                               NaN                 NaN   \n86               NaN                               NaN                 NaN   \n87               NaN                               NaN                 NaN   \n\n    SOUTH EAST_AVERAGE  SOUTH WEST_AVERAGE  \n0                  NaN                 NaN  \n1                  NaN                 NaN  \n2                  NaN                 NaN  \n3                  NaN                 NaN  \n4                 1.10                1.05  \n..                 ...                 ...  \n83                 NaN                 NaN  \n84                0.75                0.80  \n85                 NaN                 NaN  \n86                 NaN                 NaN  \n87                 NaN                 NaN  \n\n[88 rows x 29 columns],               Region       date  weighted_avg_sars_cov2  UK_LOWER BOUND  \\\n88   East of England 2020-09-04             6419.961015             NaN   \n89   East of England 2020-09-06             7050.424655             NaN   \n90   East of England 2020-09-07             5260.670104             NaN   \n91   East of England 2020-09-09            13280.868533             NaN   \n92   East of England 2020-09-11             6511.206822             1.0   \n..               ...        ...                     ...             ...   \n174  East of England 2021-02-03            59715.505762             NaN   \n175  East of England 2021-02-05            16191.502600             0.7   \n176  East of England 2021-02-07            32368.259705             NaN   \n177  East of England 2021-02-08            29571.976788             NaN   \n178  East of England 2021-02-10            22149.201943             NaN   \n\n     UK_UPPER BOUND  ENGLAND_LOWER BOUND  ENGLAND_UPPER BOUND  \\\n88              NaN                  NaN                  NaN   \n89              NaN                  NaN                  NaN   \n90              NaN                  NaN                  NaN   \n91              NaN                  NaN                  NaN   \n92              1.2                  1.0                  1.2   \n..              ...                  ...                  ...   \n174             NaN                  NaN                  NaN   \n175             1.0                  0.7                  0.9   \n176             NaN                  NaN                  NaN   \n177             NaN                  NaN                  NaN   \n178             NaN                  NaN                  NaN   \n\n     EAST OF ENGLAND_LOWER BOUND  EAST OF ENGLAND_UPPER BOUND  \\\n88                           NaN                          NaN   \n89                           NaN                          NaN   \n90                           NaN                          NaN   \n91                           NaN                          NaN   \n92                           0.9                          1.2   \n..                           ...                          ...   \n174                          NaN                          NaN   \n175                          0.7                          0.9   \n176                          NaN                          NaN   \n177                          NaN                          NaN   \n178                          NaN                          NaN   \n\n     LONDON_LOWER BOUND  ...  SOUTH WEST_LOWER BOUND  SOUTH WEST_UPPER BOUND  \\\n88                  NaN  ...                     NaN                     NaN   \n89                  NaN  ...                     NaN                     NaN   \n90                  NaN  ...                     NaN                     NaN   \n91                  NaN  ...                     NaN                     NaN   \n92                  1.1  ...                     0.9                     1.2   \n..                  ...  ...                     ...                     ...   \n174                 NaN  ...                     NaN                     NaN   \n175                 0.6  ...                     0.7                     0.9   \n176                 NaN  ...                     NaN                     NaN   \n177                 NaN  ...                     NaN                     NaN   \n178                 NaN  ...                     NaN                     NaN   \n\n     ENGLAND_AVERAGE  EAST OF ENGLAND_AVERAGE  LONDON_AVERAGE  \\\n88               NaN                      NaN             NaN   \n89               NaN                      NaN             NaN   \n90               NaN                      NaN             NaN   \n91               NaN                      NaN             NaN   \n92               1.1                     1.05             1.2   \n..               ...                      ...             ...   \n174              NaN                      NaN             NaN   \n175              0.8                     0.80             0.7   \n176              NaN                      NaN             NaN   \n177              NaN                      NaN             NaN   \n178              NaN                      NaN             NaN   \n\n     MIDLANDS_AVERAGE  NORTH EAST AND YORKSHIRE_AVERAGE  NORTH WEST_AVERAGE  \\\n88                NaN                               NaN                 NaN   \n89                NaN                               NaN                 NaN   \n90                NaN                               NaN                 NaN   \n91                NaN                               NaN                 NaN   \n92                1.0                               1.1                1.20   \n..                ...                               ...                 ...   \n174               NaN                               NaN                 NaN   \n175               0.8                               0.9                0.85   \n176               NaN                               NaN                 NaN   \n177               NaN                               NaN                 NaN   \n178               NaN                               NaN                 NaN   \n\n     SOUTH EAST_AVERAGE  SOUTH WEST_AVERAGE  \n88                  NaN                 NaN  \n89                  NaN                 NaN  \n90                  NaN                 NaN  \n91                  NaN                 NaN  \n92                 1.10                1.05  \n..                  ...                 ...  \n174                 NaN                 NaN  \n175                0.75                0.80  \n176                 NaN                 NaN  \n177                 NaN                 NaN  \n178                 NaN                 NaN  \n\n[91 rows x 29 columns],      Region       date  weighted_avg_sars_cov2  UK_LOWER BOUND  \\\n179  London 2020-09-04             4241.595907             NaN   \n180  London 2020-09-06             7245.661028             NaN   \n181  London 2020-09-07             5382.298055             NaN   \n182  London 2020-09-09            11264.776473             NaN   \n183  London 2020-09-11             4894.058548             1.0   \n..      ...        ...                     ...             ...   \n265  London 2021-02-03            56572.864326             NaN   \n266  London 2021-02-05            14867.052895             0.7   \n267  London 2021-02-07            21488.461208             NaN   \n268  London 2021-02-08            11238.268717             NaN   \n269  London 2021-02-10            20867.289296             NaN   \n\n     UK_UPPER BOUND  ENGLAND_LOWER BOUND  ENGLAND_UPPER BOUND  \\\n179             NaN                  NaN                  NaN   \n180             NaN                  NaN                  NaN   \n181             NaN                  NaN                  NaN   \n182             NaN                  NaN                  NaN   \n183             1.2                  1.0                  1.2   \n..              ...                  ...                  ...   \n265             NaN                  NaN                  NaN   \n266             1.0                  0.7                  0.9   \n267             NaN                  NaN                  NaN   \n268             NaN                  NaN                  NaN   \n269             NaN                  NaN                  NaN   \n\n     EAST OF ENGLAND_LOWER BOUND  EAST OF ENGLAND_UPPER BOUND  \\\n179                          NaN                          NaN   \n180                          NaN                          NaN   \n181                          NaN                          NaN   \n182                          NaN                          NaN   \n183                          0.9                          1.2   \n..                           ...                          ...   \n265                          NaN                          NaN   \n266                          0.7                          0.9   \n267                          NaN                          NaN   \n268                          NaN                          NaN   \n269                          NaN                          NaN   \n\n     LONDON_LOWER BOUND  ...  SOUTH WEST_LOWER BOUND  SOUTH WEST_UPPER BOUND  \\\n179                 NaN  ...                     NaN                     NaN   \n180                 NaN  ...                     NaN                     NaN   \n181                 NaN  ...                     NaN                     NaN   \n182                 NaN  ...                     NaN                     NaN   \n183                 1.1  ...                     0.9                     1.2   \n..                  ...  ...                     ...                     ...   \n265                 NaN  ...                     NaN                     NaN   \n266                 0.6  ...                     0.7                     0.9   \n267                 NaN  ...                     NaN                     NaN   \n268                 NaN  ...                     NaN                     NaN   \n269                 NaN  ...                     NaN                     NaN   \n\n     ENGLAND_AVERAGE  EAST OF ENGLAND_AVERAGE  LONDON_AVERAGE  \\\n179              NaN                      NaN             NaN   \n180              NaN                      NaN             NaN   \n181              NaN                      NaN             NaN   \n182              NaN                      NaN             NaN   \n183              1.1                     1.05             1.2   \n..               ...                      ...             ...   \n265              NaN                      NaN             NaN   \n266              0.8                     0.80             0.7   \n267              NaN                      NaN             NaN   \n268              NaN                      NaN             NaN   \n269              NaN                      NaN             NaN   \n\n     MIDLANDS_AVERAGE  NORTH EAST AND YORKSHIRE_AVERAGE  NORTH WEST_AVERAGE  \\\n179               NaN                               NaN                 NaN   \n180               NaN                               NaN                 NaN   \n181               NaN                               NaN                 NaN   \n182               NaN                               NaN                 NaN   \n183               1.0                               1.1                1.20   \n..                ...                               ...                 ...   \n265               NaN                               NaN                 NaN   \n266               0.8                               0.9                0.85   \n267               NaN                               NaN                 NaN   \n268               NaN                               NaN                 NaN   \n269               NaN                               NaN                 NaN   \n\n     SOUTH EAST_AVERAGE  SOUTH WEST_AVERAGE  \n179                 NaN                 NaN  \n180                 NaN                 NaN  \n181                 NaN                 NaN  \n182                 NaN                 NaN  \n183                1.10                1.05  \n..                  ...                 ...  \n265                 NaN                 NaN  \n266                0.75                0.80  \n267                 NaN                 NaN  \n268                 NaN                 NaN  \n269                 NaN                 NaN  \n\n[91 rows x 29 columns],          Region       date  weighted_avg_sars_cov2  UK_LOWER BOUND  \\\n270  North East 2020-09-04             1397.242166             NaN   \n271  North East 2020-09-06             6834.962237             NaN   \n272  North East 2020-09-07             1650.391467             NaN   \n273  North East 2020-09-09            29057.300475             NaN   \n274  North East 2020-09-11             6302.704185             1.0   \n..          ...        ...                     ...             ...   \n352  North East 2021-02-03            28039.529858             NaN   \n353  North East 2021-02-06            46867.320312             NaN   \n354  North East 2021-02-07            28056.628032             NaN   \n355  North East 2021-02-08            11217.991640             NaN   \n356  North East 2021-02-10            12695.941664             NaN   \n\n     UK_UPPER BOUND  ENGLAND_LOWER BOUND  ENGLAND_UPPER BOUND  \\\n270             NaN                  NaN                  NaN   \n271             NaN                  NaN                  NaN   \n272             NaN                  NaN                  NaN   \n273             NaN                  NaN                  NaN   \n274             1.2                  1.0                  1.2   \n..              ...                  ...                  ...   \n352             NaN                  NaN                  NaN   \n353             NaN                  NaN                  NaN   \n354             NaN                  NaN                  NaN   \n355             NaN                  NaN                  NaN   \n356             NaN                  NaN                  NaN   \n\n     EAST OF ENGLAND_LOWER BOUND  EAST OF ENGLAND_UPPER BOUND  \\\n270                          NaN                          NaN   \n271                          NaN                          NaN   \n272                          NaN                          NaN   \n273                          NaN                          NaN   \n274                          0.9                          1.2   \n..                           ...                          ...   \n352                          NaN                          NaN   \n353                          NaN                          NaN   \n354                          NaN                          NaN   \n355                          NaN                          NaN   \n356                          NaN                          NaN   \n\n     LONDON_LOWER BOUND  ...  SOUTH WEST_LOWER BOUND  SOUTH WEST_UPPER BOUND  \\\n270                 NaN  ...                     NaN                     NaN   \n271                 NaN  ...                     NaN                     NaN   \n272                 NaN  ...                     NaN                     NaN   \n273                 NaN  ...                     NaN                     NaN   \n274                 1.1  ...                     0.9                     1.2   \n..                  ...  ...                     ...                     ...   \n352                 NaN  ...                     NaN                     NaN   \n353                 NaN  ...                     NaN                     NaN   \n354                 NaN  ...                     NaN                     NaN   \n355                 NaN  ...                     NaN                     NaN   \n356                 NaN  ...                     NaN                     NaN   \n\n     ENGLAND_AVERAGE  EAST OF ENGLAND_AVERAGE  LONDON_AVERAGE  \\\n270              NaN                      NaN             NaN   \n271              NaN                      NaN             NaN   \n272              NaN                      NaN             NaN   \n273              NaN                      NaN             NaN   \n274              1.1                     1.05             1.2   \n..               ...                      ...             ...   \n352              NaN                      NaN             NaN   \n353              NaN                      NaN             NaN   \n354              NaN                      NaN             NaN   \n355              NaN                      NaN             NaN   \n356              NaN                      NaN             NaN   \n\n     MIDLANDS_AVERAGE  NORTH EAST AND YORKSHIRE_AVERAGE  NORTH WEST_AVERAGE  \\\n270               NaN                               NaN                 NaN   \n271               NaN                               NaN                 NaN   \n272               NaN                               NaN                 NaN   \n273               NaN                               NaN                 NaN   \n274               1.0                               1.1                 1.2   \n..                ...                               ...                 ...   \n352               NaN                               NaN                 NaN   \n353               NaN                               NaN                 NaN   \n354               NaN                               NaN                 NaN   \n355               NaN                               NaN                 NaN   \n356               NaN                               NaN                 NaN   \n\n     SOUTH EAST_AVERAGE  SOUTH WEST_AVERAGE  \n270                 NaN                 NaN  \n271                 NaN                 NaN  \n272                 NaN                 NaN  \n273                 NaN                 NaN  \n274                 1.1                1.05  \n..                  ...                 ...  \n352                 NaN                 NaN  \n353                 NaN                 NaN  \n354                 NaN                 NaN  \n355                 NaN                 NaN  \n356                 NaN                 NaN  \n\n[87 rows x 29 columns],          Region       date  weighted_avg_sars_cov2  UK_LOWER BOUND  \\\n357  North West 2020-09-04             2186.817301             NaN   \n358  North West 2020-09-06             4256.194960             NaN   \n359  North West 2020-09-07             3472.638615             NaN   \n360  North West 2020-09-09             8796.795861             NaN   \n361  North West 2020-09-11             6107.873153             1.0   \n..          ...        ...                     ...             ...   \n462  North West 2021-02-03             3225.926744             NaN   \n463  North West 2021-02-05             3225.926744             0.7   \n464  North West 2021-02-07             3153.371996             NaN   \n465  North West 2021-02-08             3122.663674             NaN   \n466  North West 2021-02-10             3122.663674             NaN   \n\n     UK_UPPER BOUND  ENGLAND_LOWER BOUND  ENGLAND_UPPER BOUND  \\\n357             NaN                  NaN                  NaN   \n358             NaN                  NaN                  NaN   \n359             NaN                  NaN                  NaN   \n360             NaN                  NaN                  NaN   \n361             1.2                  1.0                  1.2   \n..              ...                  ...                  ...   \n462             NaN                  NaN                  NaN   \n463             1.0                  0.7                  0.9   \n464             NaN                  NaN                  NaN   \n465             NaN                  NaN                  NaN   \n466             NaN                  NaN                  NaN   \n\n     EAST OF ENGLAND_LOWER BOUND  EAST OF ENGLAND_UPPER BOUND  \\\n357                          NaN                          NaN   \n358                          NaN                          NaN   \n359                          NaN                          NaN   \n360                          NaN                          NaN   \n361                          0.9                          1.2   \n..                           ...                          ...   \n462                          NaN                          NaN   \n463                          0.7                          0.9   \n464                          NaN                          NaN   \n465                          NaN                          NaN   \n466                          NaN                          NaN   \n\n     LONDON_LOWER BOUND  ...  SOUTH WEST_LOWER BOUND  SOUTH WEST_UPPER BOUND  \\\n357                 NaN  ...                     NaN                     NaN   \n358                 NaN  ...                     NaN                     NaN   \n359                 NaN  ...                     NaN                     NaN   \n360                 NaN  ...                     NaN                     NaN   \n361                 1.1  ...                     0.9                     1.2   \n..                  ...  ...                     ...                     ...   \n462                 NaN  ...                     NaN                     NaN   \n463                 0.6  ...                     0.7                     0.9   \n464                 NaN  ...                     NaN                     NaN   \n465                 NaN  ...                     NaN                     NaN   \n466                 NaN  ...                     NaN                     NaN   \n\n     ENGLAND_AVERAGE  EAST OF ENGLAND_AVERAGE  LONDON_AVERAGE  \\\n357              NaN                      NaN             NaN   \n358              NaN                      NaN             NaN   \n359              NaN                      NaN             NaN   \n360              NaN                      NaN             NaN   \n361              1.1                     1.05             1.2   \n..               ...                      ...             ...   \n462              NaN                      NaN             NaN   \n463              0.8                     0.80             0.7   \n464              NaN                      NaN             NaN   \n465              NaN                      NaN             NaN   \n466              NaN                      NaN             NaN   \n\n     MIDLANDS_AVERAGE  NORTH EAST AND YORKSHIRE_AVERAGE  NORTH WEST_AVERAGE  \\\n357               NaN                               NaN                 NaN   \n358               NaN                               NaN                 NaN   \n359               NaN                               NaN                 NaN   \n360               NaN                               NaN                 NaN   \n361               1.0                               1.1                1.20   \n..                ...                               ...                 ...   \n462               NaN                               NaN                 NaN   \n463               0.8                               0.9                0.85   \n464               NaN                               NaN                 NaN   \n465               NaN                               NaN                 NaN   \n466               NaN                               NaN                 NaN   \n\n     SOUTH EAST_AVERAGE  SOUTH WEST_AVERAGE  \n357                 NaN                 NaN  \n358                 NaN                 NaN  \n359                 NaN                 NaN  \n360                 NaN                 NaN  \n361                1.10                1.05  \n..                  ...                 ...  \n462                 NaN                 NaN  \n463                0.75                0.80  \n464                 NaN                 NaN  \n465                 NaN                 NaN  \n466                 NaN                 NaN  \n\n[110 rows x 29 columns],          Region       date  weighted_avg_sars_cov2  UK_LOWER BOUND  \\\n467  South East 2020-09-04             2095.335070             NaN   \n468  South East 2020-09-06             5301.722929             NaN   \n469  South East 2020-09-07             2267.777008             NaN   \n470  South East 2020-09-09             9758.115359             NaN   \n471  South East 2020-09-11             1986.876134             1.0   \n..          ...        ...                     ...             ...   \n569  South East 2021-02-03            24743.699298             NaN   \n570  South East 2021-02-05            19303.877215             0.7   \n571  South East 2021-02-07            31744.621680             NaN   \n572  South East 2021-02-08            12189.718034             NaN   \n573  South East 2021-02-10            53107.723970             NaN   \n\n     UK_UPPER BOUND  ENGLAND_LOWER BOUND  ENGLAND_UPPER BOUND  \\\n467             NaN                  NaN                  NaN   \n468             NaN                  NaN                  NaN   \n469             NaN                  NaN                  NaN   \n470             NaN                  NaN                  NaN   \n471             1.2                  1.0                  1.2   \n..              ...                  ...                  ...   \n569             NaN                  NaN                  NaN   \n570             1.0                  0.7                  0.9   \n571             NaN                  NaN                  NaN   \n572             NaN                  NaN                  NaN   \n573             NaN                  NaN                  NaN   \n\n     EAST OF ENGLAND_LOWER BOUND  EAST OF ENGLAND_UPPER BOUND  \\\n467                          NaN                          NaN   \n468                          NaN                          NaN   \n469                          NaN                          NaN   \n470                          NaN                          NaN   \n471                          0.9                          1.2   \n..                           ...                          ...   \n569                          NaN                          NaN   \n570                          0.7                          0.9   \n571                          NaN                          NaN   \n572                          NaN                          NaN   \n573                          NaN                          NaN   \n\n     LONDON_LOWER BOUND  ...  SOUTH WEST_LOWER BOUND  SOUTH WEST_UPPER BOUND  \\\n467                 NaN  ...                     NaN                     NaN   \n468                 NaN  ...                     NaN                     NaN   \n469                 NaN  ...                     NaN                     NaN   \n470                 NaN  ...                     NaN                     NaN   \n471                 1.1  ...                     0.9                     1.2   \n..                  ...  ...                     ...                     ...   \n569                 NaN  ...                     NaN                     NaN   \n570                 0.6  ...                     0.7                     0.9   \n571                 NaN  ...                     NaN                     NaN   \n572                 NaN  ...                     NaN                     NaN   \n573                 NaN  ...                     NaN                     NaN   \n\n     ENGLAND_AVERAGE  EAST OF ENGLAND_AVERAGE  LONDON_AVERAGE  \\\n467              NaN                      NaN             NaN   \n468              NaN                      NaN             NaN   \n469              NaN                      NaN             NaN   \n470              NaN                      NaN             NaN   \n471              1.1                     1.05             1.2   \n..               ...                      ...             ...   \n569              NaN                      NaN             NaN   \n570              0.8                     0.80             0.7   \n571              NaN                      NaN             NaN   \n572              NaN                      NaN             NaN   \n573              NaN                      NaN             NaN   \n\n     MIDLANDS_AVERAGE  NORTH EAST AND YORKSHIRE_AVERAGE  NORTH WEST_AVERAGE  \\\n467               NaN                               NaN                 NaN   \n468               NaN                               NaN                 NaN   \n469               NaN                               NaN                 NaN   \n470               NaN                               NaN                 NaN   \n471               1.0                               1.1                1.20   \n..                ...                               ...                 ...   \n569               NaN                               NaN                 NaN   \n570               0.8                               0.9                0.85   \n571               NaN                               NaN                 NaN   \n572               NaN                               NaN                 NaN   \n573               NaN                               NaN                 NaN   \n\n     SOUTH EAST_AVERAGE  SOUTH WEST_AVERAGE  \n467                 NaN                 NaN  \n468                 NaN                 NaN  \n469                 NaN                 NaN  \n470                 NaN                 NaN  \n471                1.10                1.05  \n..                  ...                 ...  \n569                 NaN                 NaN  \n570                0.75                0.80  \n571                 NaN                 NaN  \n572                 NaN                 NaN  \n573                 NaN                 NaN  \n\n[107 rows x 29 columns],          Region       date  weighted_avg_sars_cov2  UK_LOWER BOUND  \\\n574  South West 2020-09-04              101.375432             NaN   \n575  South West 2020-09-06              103.519246             NaN   \n576  South West 2020-09-07             1631.590242             NaN   \n577  South West 2020-09-09             1327.711359             NaN   \n578  South West 2020-09-11               97.203367             1.0   \n..          ...        ...                     ...             ...   \n659  South West 2021-02-03             1220.123066             NaN   \n660  South West 2021-02-05             9629.875512             0.7   \n661  South West 2021-02-07             9400.237877             NaN   \n662  South West 2021-02-08             1599.687540             NaN   \n663  South West 2021-02-10             4639.713346             NaN   \n\n     UK_UPPER BOUND  ENGLAND_LOWER BOUND  ENGLAND_UPPER BOUND  \\\n574             NaN                  NaN                  NaN   \n575             NaN                  NaN                  NaN   \n576             NaN                  NaN                  NaN   \n577             NaN                  NaN                  NaN   \n578             1.2                  1.0                  1.2   \n..              ...                  ...                  ...   \n659             NaN                  NaN                  NaN   \n660             1.0                  0.7                  0.9   \n661             NaN                  NaN                  NaN   \n662             NaN                  NaN                  NaN   \n663             NaN                  NaN                  NaN   \n\n     EAST OF ENGLAND_LOWER BOUND  EAST OF ENGLAND_UPPER BOUND  \\\n574                          NaN                          NaN   \n575                          NaN                          NaN   \n576                          NaN                          NaN   \n577                          NaN                          NaN   \n578                          0.9                          1.2   \n..                           ...                          ...   \n659                          NaN                          NaN   \n660                          0.7                          0.9   \n661                          NaN                          NaN   \n662                          NaN                          NaN   \n663                          NaN                          NaN   \n\n     LONDON_LOWER BOUND  ...  SOUTH WEST_LOWER BOUND  SOUTH WEST_UPPER BOUND  \\\n574                 NaN  ...                     NaN                     NaN   \n575                 NaN  ...                     NaN                     NaN   \n576                 NaN  ...                     NaN                     NaN   \n577                 NaN  ...                     NaN                     NaN   \n578                 1.1  ...                     0.9                     1.2   \n..                  ...  ...                     ...                     ...   \n659                 NaN  ...                     NaN                     NaN   \n660                 0.6  ...                     0.7                     0.9   \n661                 NaN  ...                     NaN                     NaN   \n662                 NaN  ...                     NaN                     NaN   \n663                 NaN  ...                     NaN                     NaN   \n\n     ENGLAND_AVERAGE  EAST OF ENGLAND_AVERAGE  LONDON_AVERAGE  \\\n574              NaN                      NaN             NaN   \n575              NaN                      NaN             NaN   \n576              NaN                      NaN             NaN   \n577              NaN                      NaN             NaN   \n578              1.1                     1.05             1.2   \n..               ...                      ...             ...   \n659              NaN                      NaN             NaN   \n660              0.8                     0.80             0.7   \n661              NaN                      NaN             NaN   \n662              NaN                      NaN             NaN   \n663              NaN                      NaN             NaN   \n\n     MIDLANDS_AVERAGE  NORTH EAST AND YORKSHIRE_AVERAGE  NORTH WEST_AVERAGE  \\\n574               NaN                               NaN                 NaN   \n575               NaN                               NaN                 NaN   \n576               NaN                               NaN                 NaN   \n577               NaN                               NaN                 NaN   \n578               1.0                               1.1                1.20   \n..                ...                               ...                 ...   \n659               NaN                               NaN                 NaN   \n660               0.8                               0.9                0.85   \n661               NaN                               NaN                 NaN   \n662               NaN                               NaN                 NaN   \n663               NaN                               NaN                 NaN   \n\n     SOUTH EAST_AVERAGE  SOUTH WEST_AVERAGE  \n574                 NaN                 NaN  \n575                 NaN                 NaN  \n576                 NaN                 NaN  \n577                 NaN                 NaN  \n578                1.10                1.05  \n..                  ...                 ...  \n659                 NaN                 NaN  \n660                0.75                0.80  \n661                 NaN                 NaN  \n662                 NaN                 NaN  \n663                 NaN                 NaN  \n\n[90 rows x 29 columns],             Region       date  weighted_avg_sars_cov2  UK_LOWER BOUND  \\\n664  West Midlands 2020-09-04             4666.733305             NaN   \n665  West Midlands 2020-09-06            45464.582641             NaN   \n666  West Midlands 2020-09-07            14255.973991             NaN   \n667  West Midlands 2020-09-09            19087.588537             NaN   \n668  West Midlands 2020-09-11            12230.798557             1.0   \n..             ...        ...                     ...             ...   \n748  West Midlands 2021-02-03            66092.904133             NaN   \n749  West Midlands 2021-02-05             7524.244632             0.7   \n750  West Midlands 2021-02-07             6565.382200             NaN   \n751  West Midlands 2021-02-08            16062.563622             NaN   \n752  West Midlands 2021-02-10            21036.080360             NaN   \n\n     UK_UPPER BOUND  ENGLAND_LOWER BOUND  ENGLAND_UPPER BOUND  \\\n664             NaN                  NaN                  NaN   \n665             NaN                  NaN                  NaN   \n666             NaN                  NaN                  NaN   \n667             NaN                  NaN                  NaN   \n668             1.2                  1.0                  1.2   \n..              ...                  ...                  ...   \n748             NaN                  NaN                  NaN   \n749             1.0                  0.7                  0.9   \n750             NaN                  NaN                  NaN   \n751             NaN                  NaN                  NaN   \n752             NaN                  NaN                  NaN   \n\n     EAST OF ENGLAND_LOWER BOUND  EAST OF ENGLAND_UPPER BOUND  \\\n664                          NaN                          NaN   \n665                          NaN                          NaN   \n666                          NaN                          NaN   \n667                          NaN                          NaN   \n668                          0.9                          1.2   \n..                           ...                          ...   \n748                          NaN                          NaN   \n749                          0.7                          0.9   \n750                          NaN                          NaN   \n751                          NaN                          NaN   \n752                          NaN                          NaN   \n\n     LONDON_LOWER BOUND  ...  SOUTH WEST_LOWER BOUND  SOUTH WEST_UPPER BOUND  \\\n664                 NaN  ...                     NaN                     NaN   \n665                 NaN  ...                     NaN                     NaN   \n666                 NaN  ...                     NaN                     NaN   \n667                 NaN  ...                     NaN                     NaN   \n668                 1.1  ...                     0.9                     1.2   \n..                  ...  ...                     ...                     ...   \n748                 NaN  ...                     NaN                     NaN   \n749                 0.6  ...                     0.7                     0.9   \n750                 NaN  ...                     NaN                     NaN   \n751                 NaN  ...                     NaN                     NaN   \n752                 NaN  ...                     NaN                     NaN   \n\n     ENGLAND_AVERAGE  EAST OF ENGLAND_AVERAGE  LONDON_AVERAGE  \\\n664              NaN                      NaN             NaN   \n665              NaN                      NaN             NaN   \n666              NaN                      NaN             NaN   \n667              NaN                      NaN             NaN   \n668              1.1                     1.05             1.2   \n..               ...                      ...             ...   \n748              NaN                      NaN             NaN   \n749              0.8                     0.80             0.7   \n750              NaN                      NaN             NaN   \n751              NaN                      NaN             NaN   \n752              NaN                      NaN             NaN   \n\n     MIDLANDS_AVERAGE  NORTH EAST AND YORKSHIRE_AVERAGE  NORTH WEST_AVERAGE  \\\n664               NaN                               NaN                 NaN   \n665               NaN                               NaN                 NaN   \n666               NaN                               NaN                 NaN   \n667               NaN                               NaN                 NaN   \n668               1.0                               1.1                1.20   \n..                ...                               ...                 ...   \n748               NaN                               NaN                 NaN   \n749               0.8                               0.9                0.85   \n750               NaN                               NaN                 NaN   \n751               NaN                               NaN                 NaN   \n752               NaN                               NaN                 NaN   \n\n     SOUTH EAST_AVERAGE  SOUTH WEST_AVERAGE  \n664                 NaN                 NaN  \n665                 NaN                 NaN  \n666                 NaN                 NaN  \n667                 NaN                 NaN  \n668                1.10                1.05  \n..                  ...                 ...  \n748                 NaN                 NaN  \n749                0.75                0.80  \n750                 NaN                 NaN  \n751                 NaN                 NaN  \n752                 NaN                 NaN  \n\n[89 rows x 29 columns],                        Region       date  weighted_avg_sars_cov2  \\\n753  Yorkshire and The Humber 2020-09-04              356.991847   \n754  Yorkshire and The Humber 2020-09-06              829.964152   \n755  Yorkshire and The Humber 2020-09-07             2572.749568   \n756  Yorkshire and The Humber 2020-09-09              601.679957   \n757  Yorkshire and The Humber 2020-09-11              761.235458   \n..                        ...        ...                     ...   \n837  Yorkshire and The Humber 2021-02-03             4127.582177   \n838  Yorkshire and The Humber 2021-02-05             5325.852367   \n839  Yorkshire and The Humber 2021-02-07             1852.267592   \n840  Yorkshire and The Humber 2021-02-08             1562.153674   \n841  Yorkshire and The Humber 2021-02-10               66.500000   \n\n     UK_LOWER BOUND  UK_UPPER BOUND  ENGLAND_LOWER BOUND  ENGLAND_UPPER BOUND  \\\n753             NaN             NaN                  NaN                  NaN   \n754             NaN             NaN                  NaN                  NaN   \n755             NaN             NaN                  NaN                  NaN   \n756             NaN             NaN                  NaN                  NaN   \n757             1.0             1.2                  1.0                  1.2   \n..              ...             ...                  ...                  ...   \n837             NaN             NaN                  NaN                  NaN   \n838             0.7             1.0                  0.7                  0.9   \n839             NaN             NaN                  NaN                  NaN   \n840             NaN             NaN                  NaN                  NaN   \n841             NaN             NaN                  NaN                  NaN   \n\n     EAST OF ENGLAND_LOWER BOUND  EAST OF ENGLAND_UPPER BOUND  \\\n753                          NaN                          NaN   \n754                          NaN                          NaN   \n755                          NaN                          NaN   \n756                          NaN                          NaN   \n757                          0.9                          1.2   \n..                           ...                          ...   \n837                          NaN                          NaN   \n838                          0.7                          0.9   \n839                          NaN                          NaN   \n840                          NaN                          NaN   \n841                          NaN                          NaN   \n\n     LONDON_LOWER BOUND  ...  SOUTH WEST_LOWER BOUND  SOUTH WEST_UPPER BOUND  \\\n753                 NaN  ...                     NaN                     NaN   \n754                 NaN  ...                     NaN                     NaN   \n755                 NaN  ...                     NaN                     NaN   \n756                 NaN  ...                     NaN                     NaN   \n757                 1.1  ...                     0.9                     1.2   \n..                  ...  ...                     ...                     ...   \n837                 NaN  ...                     NaN                     NaN   \n838                 0.6  ...                     0.7                     0.9   \n839                 NaN  ...                     NaN                     NaN   \n840                 NaN  ...                     NaN                     NaN   \n841                 NaN  ...                     NaN                     NaN   \n\n     ENGLAND_AVERAGE  EAST OF ENGLAND_AVERAGE  LONDON_AVERAGE  \\\n753              NaN                      NaN             NaN   \n754              NaN                      NaN             NaN   \n755              NaN                      NaN             NaN   \n756              NaN                      NaN             NaN   \n757              1.1                     1.05             1.2   \n..               ...                      ...             ...   \n837              NaN                      NaN             NaN   \n838              0.8                     0.80             0.7   \n839              NaN                      NaN             NaN   \n840              NaN                      NaN             NaN   \n841              NaN                      NaN             NaN   \n\n     MIDLANDS_AVERAGE  NORTH EAST AND YORKSHIRE_AVERAGE  NORTH WEST_AVERAGE  \\\n753               NaN                               NaN                 NaN   \n754               NaN                               NaN                 NaN   \n755               NaN                               NaN                 NaN   \n756               NaN                               NaN                 NaN   \n757               1.0                               1.1                1.20   \n..                ...                               ...                 ...   \n837               NaN                               NaN                 NaN   \n838               0.8                               0.9                0.85   \n839               NaN                               NaN                 NaN   \n840               NaN                               NaN                 NaN   \n841               NaN                               NaN                 NaN   \n\n     SOUTH EAST_AVERAGE  SOUTH WEST_AVERAGE  \n753                 NaN                 NaN  \n754                 NaN                 NaN  \n755                 NaN                 NaN  \n756                 NaN                 NaN  \n757                1.10                1.05  \n..                  ...                 ...  \n837                 NaN                 NaN  \n838                0.75                0.80  \n839                 NaN                 NaN  \n840                 NaN                 NaN  \n841                 NaN                 NaN  \n\n[89 rows x 29 columns]])"
     },
     "execution_count": 50,
     "metadata": {},
     "output_type": "execute_result"
    }
   ],
   "source": [
    "d = dict(tuple(model_dataset.groupby('Region')))\n",
    "d.values()\n",
    "\n",
    "# Set index as date to perform interpolation\n",
    "\n",
    "# model_dataset = model_dataset.set_index(['Region', 'date'], inplace=True)\n",
    "#\n",
    "# # Linear interpolation\n",
    "# daily_interpol_all = model_dataset.resample('D').mean().interpolate('linear')\n",
    "# # daily_interpol['sars_cov2_gc_l_mean']=daily_interpol['sars_cov2_gc_l_mean'].interpolate()\n",
    "#\n",
    "# # Rolling average in a new column called mean_gene??\n",
    "# # subset2 = daily_interpol.assign(mean_gene = daily_interpol['sars_cov2_gc_l_mean'].rolling(window=7).mean())\n",
    "#\n",
    "# # This would remove the first rows without interpolated r values -> to be fixed\n",
    "# daily_interpol_all = daily_interpol_all.dropna().reset_index()\n",
    "#\n",
    "# # log-transformation\n",
    "# daily_interpol_all['log_gene'] = np.log10(daily_interpol['weighted_avg_sars_cov2'])"
   ],
   "metadata": {
    "collapsed": false,
    "pycharm": {
     "name": "#%%\n"
    }
   }
  },
  {
   "cell_type": "code",
   "execution_count": 111,
   "outputs": [
    {
     "data": {
      "text/plain": "          date  weighted_avg_sars_cov2  SOUTH WEST_LOWER BOUND  \\\n0   2020-09-11               97.203367                     0.9   \n1   2020-09-12              434.482516                     0.9   \n2   2020-09-13              771.761665                     0.9   \n3   2020-09-14             4314.181145                     0.9   \n4   2020-09-15             3128.723632                     0.9   \n..         ...                     ...                     ...   \n148 2021-02-06             9515.056695                     0.7   \n149 2021-02-07             9400.237877                     0.7   \n150 2021-02-08             1599.687540                     0.7   \n151 2021-02-09             3119.700443                     0.7   \n152 2021-02-10             4639.713346                     0.7   \n\n     SOUTH WEST_UPPER BOUND  SOUTH WEST_AVERAGE  log_gene  \n0                  1.200000            1.050000  1.987681  \n1                  1.257143            1.078571  2.637972  \n2                  1.314286            1.107143  2.887483  \n3                  1.371429            1.135714  3.634898  \n4                  1.428571            1.164286  3.495367  \n..                      ...                 ...       ...  \n148                0.900000            0.800000  3.978411  \n149                0.900000            0.800000  3.973139  \n150                0.900000            0.800000  3.204035  \n151                0.900000            0.800000  3.494113  \n152                0.900000            0.800000  3.666491  \n\n[153 rows x 6 columns]",
      "text/html": "<div>\n<style scoped>\n    .dataframe tbody tr th:only-of-type {\n        vertical-align: middle;\n    }\n\n    .dataframe tbody tr th {\n        vertical-align: top;\n    }\n\n    .dataframe thead th {\n        text-align: right;\n    }\n</style>\n<table border=\"1\" class=\"dataframe\">\n  <thead>\n    <tr style=\"text-align: right;\">\n      <th></th>\n      <th>date</th>\n      <th>weighted_avg_sars_cov2</th>\n      <th>SOUTH WEST_LOWER BOUND</th>\n      <th>SOUTH WEST_UPPER BOUND</th>\n      <th>SOUTH WEST_AVERAGE</th>\n      <th>log_gene</th>\n    </tr>\n  </thead>\n  <tbody>\n    <tr>\n      <th>0</th>\n      <td>2020-09-11</td>\n      <td>97.203367</td>\n      <td>0.9</td>\n      <td>1.200000</td>\n      <td>1.050000</td>\n      <td>1.987681</td>\n    </tr>\n    <tr>\n      <th>1</th>\n      <td>2020-09-12</td>\n      <td>434.482516</td>\n      <td>0.9</td>\n      <td>1.257143</td>\n      <td>1.078571</td>\n      <td>2.637972</td>\n    </tr>\n    <tr>\n      <th>2</th>\n      <td>2020-09-13</td>\n      <td>771.761665</td>\n      <td>0.9</td>\n      <td>1.314286</td>\n      <td>1.107143</td>\n      <td>2.887483</td>\n    </tr>\n    <tr>\n      <th>3</th>\n      <td>2020-09-14</td>\n      <td>4314.181145</td>\n      <td>0.9</td>\n      <td>1.371429</td>\n      <td>1.135714</td>\n      <td>3.634898</td>\n    </tr>\n    <tr>\n      <th>4</th>\n      <td>2020-09-15</td>\n      <td>3128.723632</td>\n      <td>0.9</td>\n      <td>1.428571</td>\n      <td>1.164286</td>\n      <td>3.495367</td>\n    </tr>\n    <tr>\n      <th>...</th>\n      <td>...</td>\n      <td>...</td>\n      <td>...</td>\n      <td>...</td>\n      <td>...</td>\n      <td>...</td>\n    </tr>\n    <tr>\n      <th>148</th>\n      <td>2021-02-06</td>\n      <td>9515.056695</td>\n      <td>0.7</td>\n      <td>0.900000</td>\n      <td>0.800000</td>\n      <td>3.978411</td>\n    </tr>\n    <tr>\n      <th>149</th>\n      <td>2021-02-07</td>\n      <td>9400.237877</td>\n      <td>0.7</td>\n      <td>0.900000</td>\n      <td>0.800000</td>\n      <td>3.973139</td>\n    </tr>\n    <tr>\n      <th>150</th>\n      <td>2021-02-08</td>\n      <td>1599.687540</td>\n      <td>0.7</td>\n      <td>0.900000</td>\n      <td>0.800000</td>\n      <td>3.204035</td>\n    </tr>\n    <tr>\n      <th>151</th>\n      <td>2021-02-09</td>\n      <td>3119.700443</td>\n      <td>0.7</td>\n      <td>0.900000</td>\n      <td>0.800000</td>\n      <td>3.494113</td>\n    </tr>\n    <tr>\n      <th>152</th>\n      <td>2021-02-10</td>\n      <td>4639.713346</td>\n      <td>0.7</td>\n      <td>0.900000</td>\n      <td>0.800000</td>\n      <td>3.666491</td>\n    </tr>\n  </tbody>\n</table>\n<p>153 rows × 6 columns</p>\n</div>"
     },
     "execution_count": 111,
     "metadata": {},
     "output_type": "execute_result"
    }
   ],
   "source": [
    "# Check data types of each column\n",
    "daily_interpol"
   ],
   "metadata": {
    "collapsed": false,
    "pycharm": {
     "name": "#%%\n"
    }
   }
  },
  {
   "cell_type": "markdown",
   "source": [
    "### Data over time"
   ],
   "metadata": {
    "collapsed": false,
    "pycharm": {
     "name": "#%% md\n"
    }
   }
  },
  {
   "cell_type": "code",
   "execution_count": 112,
   "outputs": [
    {
     "ename": "ValueError",
     "evalue": "Could not interpret value `catchment_population_ons_mid_2019` for parameter `y`",
     "output_type": "error",
     "traceback": [
      "\u001B[0;31m---------------------------------------------------------------------------\u001B[0m",
      "\u001B[0;31mValueError\u001B[0m                                Traceback (most recent call last)",
      "Input \u001B[0;32mIn [112]\u001B[0m, in \u001B[0;36m<cell line: 6>\u001B[0;34m()\u001B[0m\n\u001B[1;32m      1\u001B[0m \u001B[38;5;66;03m# EDA plots to compare before and after interpolation\u001B[39;00m\n\u001B[1;32m      2\u001B[0m \u001B[38;5;66;03m# Red = after interpolation\u001B[39;00m\n\u001B[1;32m      3\u001B[0m \n\u001B[1;32m      4\u001B[0m \u001B[38;5;66;03m# Raw RNA level over time\u001B[39;00m\n\u001B[1;32m      5\u001B[0m sns\u001B[38;5;241m.\u001B[39mscatterplot(data\u001B[38;5;241m=\u001B[39mdaily_interpol, x\u001B[38;5;241m=\u001B[39m\u001B[38;5;124m\"\u001B[39m\u001B[38;5;124mdate\u001B[39m\u001B[38;5;124m\"\u001B[39m, y\u001B[38;5;241m=\u001B[39m\u001B[38;5;124m\"\u001B[39m\u001B[38;5;124mweighted_avg_sars_cov2\u001B[39m\u001B[38;5;124m\"\u001B[39m, marker\u001B[38;5;241m=\u001B[39m\u001B[38;5;124m'\u001B[39m\u001B[38;5;124m+\u001B[39m\u001B[38;5;124m'\u001B[39m)\n\u001B[0;32m----> 6\u001B[0m \u001B[43msns\u001B[49m\u001B[38;5;241;43m.\u001B[39;49m\u001B[43mscatterplot\u001B[49m\u001B[43m(\u001B[49m\u001B[43mdata\u001B[49m\u001B[38;5;241;43m=\u001B[39;49m\u001B[43mpopulation_sum\u001B[49m\u001B[43m,\u001B[49m\u001B[43m \u001B[49m\u001B[43mx\u001B[49m\u001B[38;5;241;43m=\u001B[39;49m\u001B[38;5;124;43m'\u001B[39;49m\u001B[38;5;124;43mdate\u001B[39;49m\u001B[38;5;124;43m'\u001B[39;49m\u001B[43m,\u001B[49m\u001B[43m \u001B[49m\u001B[43my\u001B[49m\u001B[38;5;241;43m=\u001B[39;49m\u001B[38;5;124;43m'\u001B[39;49m\u001B[38;5;124;43mcatchment_population_ons_mid_2019\u001B[39;49m\u001B[38;5;124;43m'\u001B[39;49m\u001B[43m)\u001B[49m\n\u001B[1;32m      7\u001B[0m \u001B[38;5;66;03m# plt.plot_date(df['date'], df['sars_cov2_gc_l_mean'], c = 'blue') # raw data\u001B[39;00m\n\u001B[1;32m      8\u001B[0m plt\u001B[38;5;241m.\u001B[39mtitle(\u001B[38;5;124m'\u001B[39m\u001B[38;5;124mRaw RNA level Over Time\u001B[39m\u001B[38;5;124m'\u001B[39m)\n",
      "File \u001B[0;32m/Library/Frameworks/Python.framework/Versions/3.9/lib/python3.9/site-packages/seaborn/_decorators.py:46\u001B[0m, in \u001B[0;36m_deprecate_positional_args.<locals>.inner_f\u001B[0;34m(*args, **kwargs)\u001B[0m\n\u001B[1;32m     36\u001B[0m     warnings\u001B[38;5;241m.\u001B[39mwarn(\n\u001B[1;32m     37\u001B[0m         \u001B[38;5;124m\"\u001B[39m\u001B[38;5;124mPass the following variable\u001B[39m\u001B[38;5;132;01m{}\u001B[39;00m\u001B[38;5;124m as \u001B[39m\u001B[38;5;132;01m{}\u001B[39;00m\u001B[38;5;124mkeyword arg\u001B[39m\u001B[38;5;132;01m{}\u001B[39;00m\u001B[38;5;124m: \u001B[39m\u001B[38;5;132;01m{}\u001B[39;00m\u001B[38;5;124m. \u001B[39m\u001B[38;5;124m\"\u001B[39m\n\u001B[1;32m     38\u001B[0m         \u001B[38;5;124m\"\u001B[39m\u001B[38;5;124mFrom version 0.12, the only valid positional argument \u001B[39m\u001B[38;5;124m\"\u001B[39m\n\u001B[0;32m   (...)\u001B[0m\n\u001B[1;32m     43\u001B[0m         \u001B[38;5;167;01mFutureWarning\u001B[39;00m\n\u001B[1;32m     44\u001B[0m     )\n\u001B[1;32m     45\u001B[0m kwargs\u001B[38;5;241m.\u001B[39mupdate({k: arg \u001B[38;5;28;01mfor\u001B[39;00m k, arg \u001B[38;5;129;01min\u001B[39;00m \u001B[38;5;28mzip\u001B[39m(sig\u001B[38;5;241m.\u001B[39mparameters, args)})\n\u001B[0;32m---> 46\u001B[0m \u001B[38;5;28;01mreturn\u001B[39;00m \u001B[43mf\u001B[49m\u001B[43m(\u001B[49m\u001B[38;5;241;43m*\u001B[39;49m\u001B[38;5;241;43m*\u001B[39;49m\u001B[43mkwargs\u001B[49m\u001B[43m)\u001B[49m\n",
      "File \u001B[0;32m/Library/Frameworks/Python.framework/Versions/3.9/lib/python3.9/site-packages/seaborn/relational.py:808\u001B[0m, in \u001B[0;36mscatterplot\u001B[0;34m(x, y, hue, style, size, data, palette, hue_order, hue_norm, sizes, size_order, size_norm, markers, style_order, x_bins, y_bins, units, estimator, ci, n_boot, alpha, x_jitter, y_jitter, legend, ax, **kwargs)\u001B[0m\n\u001B[1;32m    793\u001B[0m \u001B[38;5;129m@_deprecate_positional_args\u001B[39m\n\u001B[1;32m    794\u001B[0m \u001B[38;5;28;01mdef\u001B[39;00m \u001B[38;5;21mscatterplot\u001B[39m(\n\u001B[1;32m    795\u001B[0m     \u001B[38;5;241m*\u001B[39m,\n\u001B[0;32m   (...)\u001B[0m\n\u001B[1;32m    804\u001B[0m     legend\u001B[38;5;241m=\u001B[39m\u001B[38;5;124m\"\u001B[39m\u001B[38;5;124mauto\u001B[39m\u001B[38;5;124m\"\u001B[39m, ax\u001B[38;5;241m=\u001B[39m\u001B[38;5;28;01mNone\u001B[39;00m, \u001B[38;5;241m*\u001B[39m\u001B[38;5;241m*\u001B[39mkwargs\n\u001B[1;32m    805\u001B[0m ):\n\u001B[1;32m    807\u001B[0m     variables \u001B[38;5;241m=\u001B[39m _ScatterPlotter\u001B[38;5;241m.\u001B[39mget_semantics(\u001B[38;5;28mlocals\u001B[39m())\n\u001B[0;32m--> 808\u001B[0m     p \u001B[38;5;241m=\u001B[39m \u001B[43m_ScatterPlotter\u001B[49m\u001B[43m(\u001B[49m\n\u001B[1;32m    809\u001B[0m \u001B[43m        \u001B[49m\u001B[43mdata\u001B[49m\u001B[38;5;241;43m=\u001B[39;49m\u001B[43mdata\u001B[49m\u001B[43m,\u001B[49m\u001B[43m \u001B[49m\u001B[43mvariables\u001B[49m\u001B[38;5;241;43m=\u001B[39;49m\u001B[43mvariables\u001B[49m\u001B[43m,\u001B[49m\n\u001B[1;32m    810\u001B[0m \u001B[43m        \u001B[49m\u001B[43mx_bins\u001B[49m\u001B[38;5;241;43m=\u001B[39;49m\u001B[43mx_bins\u001B[49m\u001B[43m,\u001B[49m\u001B[43m \u001B[49m\u001B[43my_bins\u001B[49m\u001B[38;5;241;43m=\u001B[39;49m\u001B[43my_bins\u001B[49m\u001B[43m,\u001B[49m\n\u001B[1;32m    811\u001B[0m \u001B[43m        \u001B[49m\u001B[43mestimator\u001B[49m\u001B[38;5;241;43m=\u001B[39;49m\u001B[43mestimator\u001B[49m\u001B[43m,\u001B[49m\u001B[43m \u001B[49m\u001B[43mci\u001B[49m\u001B[38;5;241;43m=\u001B[39;49m\u001B[43mci\u001B[49m\u001B[43m,\u001B[49m\u001B[43m \u001B[49m\u001B[43mn_boot\u001B[49m\u001B[38;5;241;43m=\u001B[39;49m\u001B[43mn_boot\u001B[49m\u001B[43m,\u001B[49m\n\u001B[1;32m    812\u001B[0m \u001B[43m        \u001B[49m\u001B[43malpha\u001B[49m\u001B[38;5;241;43m=\u001B[39;49m\u001B[43malpha\u001B[49m\u001B[43m,\u001B[49m\u001B[43m \u001B[49m\u001B[43mx_jitter\u001B[49m\u001B[38;5;241;43m=\u001B[39;49m\u001B[43mx_jitter\u001B[49m\u001B[43m,\u001B[49m\u001B[43m \u001B[49m\u001B[43my_jitter\u001B[49m\u001B[38;5;241;43m=\u001B[39;49m\u001B[43my_jitter\u001B[49m\u001B[43m,\u001B[49m\u001B[43m \u001B[49m\u001B[43mlegend\u001B[49m\u001B[38;5;241;43m=\u001B[39;49m\u001B[43mlegend\u001B[49m\u001B[43m,\u001B[49m\n\u001B[1;32m    813\u001B[0m \u001B[43m    \u001B[49m\u001B[43m)\u001B[49m\n\u001B[1;32m    815\u001B[0m     p\u001B[38;5;241m.\u001B[39mmap_hue(palette\u001B[38;5;241m=\u001B[39mpalette, order\u001B[38;5;241m=\u001B[39mhue_order, norm\u001B[38;5;241m=\u001B[39mhue_norm)\n\u001B[1;32m    816\u001B[0m     p\u001B[38;5;241m.\u001B[39mmap_size(sizes\u001B[38;5;241m=\u001B[39msizes, order\u001B[38;5;241m=\u001B[39msize_order, norm\u001B[38;5;241m=\u001B[39msize_norm)\n",
      "File \u001B[0;32m/Library/Frameworks/Python.framework/Versions/3.9/lib/python3.9/site-packages/seaborn/relational.py:587\u001B[0m, in \u001B[0;36m_ScatterPlotter.__init__\u001B[0;34m(self, data, variables, x_bins, y_bins, estimator, ci, n_boot, alpha, x_jitter, y_jitter, legend)\u001B[0m\n\u001B[1;32m    571\u001B[0m \u001B[38;5;28;01mdef\u001B[39;00m \u001B[38;5;21m__init__\u001B[39m(\n\u001B[1;32m    572\u001B[0m     \u001B[38;5;28mself\u001B[39m, \u001B[38;5;241m*\u001B[39m,\n\u001B[1;32m    573\u001B[0m     data\u001B[38;5;241m=\u001B[39m\u001B[38;5;28;01mNone\u001B[39;00m, variables\u001B[38;5;241m=\u001B[39m{},\n\u001B[0;32m   (...)\u001B[0m\n\u001B[1;32m    581\u001B[0m     \u001B[38;5;66;03m# the kind of plot to draw, but for the time being we need to set\u001B[39;00m\n\u001B[1;32m    582\u001B[0m     \u001B[38;5;66;03m# this information so the SizeMapping can use it\u001B[39;00m\n\u001B[1;32m    583\u001B[0m     \u001B[38;5;28mself\u001B[39m\u001B[38;5;241m.\u001B[39m_default_size_range \u001B[38;5;241m=\u001B[39m (\n\u001B[1;32m    584\u001B[0m         np\u001B[38;5;241m.\u001B[39mr_[\u001B[38;5;241m.5\u001B[39m, \u001B[38;5;241m2\u001B[39m] \u001B[38;5;241m*\u001B[39m np\u001B[38;5;241m.\u001B[39msquare(mpl\u001B[38;5;241m.\u001B[39mrcParams[\u001B[38;5;124m\"\u001B[39m\u001B[38;5;124mlines.markersize\u001B[39m\u001B[38;5;124m\"\u001B[39m])\n\u001B[1;32m    585\u001B[0m     )\n\u001B[0;32m--> 587\u001B[0m     \u001B[38;5;28;43msuper\u001B[39;49m\u001B[43m(\u001B[49m\u001B[43m)\u001B[49m\u001B[38;5;241;43m.\u001B[39;49m\u001B[38;5;21;43m__init__\u001B[39;49m\u001B[43m(\u001B[49m\u001B[43mdata\u001B[49m\u001B[38;5;241;43m=\u001B[39;49m\u001B[43mdata\u001B[49m\u001B[43m,\u001B[49m\u001B[43m \u001B[49m\u001B[43mvariables\u001B[49m\u001B[38;5;241;43m=\u001B[39;49m\u001B[43mvariables\u001B[49m\u001B[43m)\u001B[49m\n\u001B[1;32m    589\u001B[0m     \u001B[38;5;28mself\u001B[39m\u001B[38;5;241m.\u001B[39malpha \u001B[38;5;241m=\u001B[39m alpha\n\u001B[1;32m    590\u001B[0m     \u001B[38;5;28mself\u001B[39m\u001B[38;5;241m.\u001B[39mlegend \u001B[38;5;241m=\u001B[39m legend\n",
      "File \u001B[0;32m/Library/Frameworks/Python.framework/Versions/3.9/lib/python3.9/site-packages/seaborn/_core.py:605\u001B[0m, in \u001B[0;36mVectorPlotter.__init__\u001B[0;34m(self, data, variables)\u001B[0m\n\u001B[1;32m    603\u001B[0m \u001B[38;5;28;01mdef\u001B[39;00m \u001B[38;5;21m__init__\u001B[39m(\u001B[38;5;28mself\u001B[39m, data\u001B[38;5;241m=\u001B[39m\u001B[38;5;28;01mNone\u001B[39;00m, variables\u001B[38;5;241m=\u001B[39m{}):\n\u001B[0;32m--> 605\u001B[0m     \u001B[38;5;28;43mself\u001B[39;49m\u001B[38;5;241;43m.\u001B[39;49m\u001B[43massign_variables\u001B[49m\u001B[43m(\u001B[49m\u001B[43mdata\u001B[49m\u001B[43m,\u001B[49m\u001B[43m \u001B[49m\u001B[43mvariables\u001B[49m\u001B[43m)\u001B[49m\n\u001B[1;32m    607\u001B[0m     \u001B[38;5;28;01mfor\u001B[39;00m var, \u001B[38;5;28mcls\u001B[39m \u001B[38;5;129;01min\u001B[39;00m \u001B[38;5;28mself\u001B[39m\u001B[38;5;241m.\u001B[39m_semantic_mappings\u001B[38;5;241m.\u001B[39mitems():\n\u001B[1;32m    608\u001B[0m \n\u001B[1;32m    609\u001B[0m         \u001B[38;5;66;03m# Create the mapping function\u001B[39;00m\n\u001B[1;32m    610\u001B[0m         map_func \u001B[38;5;241m=\u001B[39m partial(\u001B[38;5;28mcls\u001B[39m\u001B[38;5;241m.\u001B[39mmap, plotter\u001B[38;5;241m=\u001B[39m\u001B[38;5;28mself\u001B[39m)\n",
      "File \u001B[0;32m/Library/Frameworks/Python.framework/Versions/3.9/lib/python3.9/site-packages/seaborn/_core.py:668\u001B[0m, in \u001B[0;36mVectorPlotter.assign_variables\u001B[0;34m(self, data, variables)\u001B[0m\n\u001B[1;32m    666\u001B[0m \u001B[38;5;28;01melse\u001B[39;00m:\n\u001B[1;32m    667\u001B[0m     \u001B[38;5;28mself\u001B[39m\u001B[38;5;241m.\u001B[39minput_format \u001B[38;5;241m=\u001B[39m \u001B[38;5;124m\"\u001B[39m\u001B[38;5;124mlong\u001B[39m\u001B[38;5;124m\"\u001B[39m\n\u001B[0;32m--> 668\u001B[0m     plot_data, variables \u001B[38;5;241m=\u001B[39m \u001B[38;5;28;43mself\u001B[39;49m\u001B[38;5;241;43m.\u001B[39;49m\u001B[43m_assign_variables_longform\u001B[49m\u001B[43m(\u001B[49m\n\u001B[1;32m    669\u001B[0m \u001B[43m        \u001B[49m\u001B[43mdata\u001B[49m\u001B[43m,\u001B[49m\u001B[43m \u001B[49m\u001B[38;5;241;43m*\u001B[39;49m\u001B[38;5;241;43m*\u001B[39;49m\u001B[43mvariables\u001B[49m\u001B[43m,\u001B[49m\n\u001B[1;32m    670\u001B[0m \u001B[43m    \u001B[49m\u001B[43m)\u001B[49m\n\u001B[1;32m    672\u001B[0m \u001B[38;5;28mself\u001B[39m\u001B[38;5;241m.\u001B[39mplot_data \u001B[38;5;241m=\u001B[39m plot_data\n\u001B[1;32m    673\u001B[0m \u001B[38;5;28mself\u001B[39m\u001B[38;5;241m.\u001B[39mvariables \u001B[38;5;241m=\u001B[39m variables\n",
      "File \u001B[0;32m/Library/Frameworks/Python.framework/Versions/3.9/lib/python3.9/site-packages/seaborn/_core.py:903\u001B[0m, in \u001B[0;36mVectorPlotter._assign_variables_longform\u001B[0;34m(self, data, **kwargs)\u001B[0m\n\u001B[1;32m    898\u001B[0m \u001B[38;5;28;01melif\u001B[39;00m \u001B[38;5;28misinstance\u001B[39m(val, (\u001B[38;5;28mstr\u001B[39m, \u001B[38;5;28mbytes\u001B[39m)):\n\u001B[1;32m    899\u001B[0m \n\u001B[1;32m    900\u001B[0m     \u001B[38;5;66;03m# This looks like a column name but we don't know what it means!\u001B[39;00m\n\u001B[1;32m    902\u001B[0m     err \u001B[38;5;241m=\u001B[39m \u001B[38;5;124mf\u001B[39m\u001B[38;5;124m\"\u001B[39m\u001B[38;5;124mCould not interpret value `\u001B[39m\u001B[38;5;132;01m{\u001B[39;00mval\u001B[38;5;132;01m}\u001B[39;00m\u001B[38;5;124m` for parameter `\u001B[39m\u001B[38;5;132;01m{\u001B[39;00mkey\u001B[38;5;132;01m}\u001B[39;00m\u001B[38;5;124m`\u001B[39m\u001B[38;5;124m\"\u001B[39m\n\u001B[0;32m--> 903\u001B[0m     \u001B[38;5;28;01mraise\u001B[39;00m \u001B[38;5;167;01mValueError\u001B[39;00m(err)\n\u001B[1;32m    905\u001B[0m \u001B[38;5;28;01melse\u001B[39;00m:\n\u001B[1;32m    906\u001B[0m \n\u001B[1;32m    907\u001B[0m     \u001B[38;5;66;03m# Otherwise, assume the value is itself data\u001B[39;00m\n\u001B[1;32m    908\u001B[0m \n\u001B[1;32m    909\u001B[0m     \u001B[38;5;66;03m# Raise when data object is present and a vector can't matched\u001B[39;00m\n\u001B[1;32m    910\u001B[0m     \u001B[38;5;28;01mif\u001B[39;00m \u001B[38;5;28misinstance\u001B[39m(data, pd\u001B[38;5;241m.\u001B[39mDataFrame) \u001B[38;5;129;01mand\u001B[39;00m \u001B[38;5;129;01mnot\u001B[39;00m \u001B[38;5;28misinstance\u001B[39m(val, pd\u001B[38;5;241m.\u001B[39mSeries):\n",
      "\u001B[0;31mValueError\u001B[0m: Could not interpret value `catchment_population_ons_mid_2019` for parameter `y`"
     ]
    },
    {
     "data": {
      "text/plain": "<Figure size 432x288 with 1 Axes>",
      "image/png": "[encoded data removed]"
     },
     "metadata": {},
     "output_type": "display_data"
    }
   ],
   "source": [
    "# EDA plots to compare before and after interpolation\n",
    "# Red = after interpolation\n",
    "\n",
    "# Raw RNA level over time\n",
    "sns.scatterplot(data=daily_interpol, x=\"date\", y=\"weighted_avg_sars_cov2\", marker='+')\n",
    "sns.scatterplot(data=population_sum, x='date', y='catchment_population_ons_mid_2019')\n",
    "# plt.plot_date(df['date'], df['sars_cov2_gc_l_mean'], c = 'blue') # raw data\n",
    "plt.title('Raw RNA level Over Time')\n",
    "\n",
    "# Log RNA level over time\n",
    "plt.figure()\n",
    "sns.scatterplot(data=daily_interpol, x=\"date\", y=\"log_gene\", marker='+')\n",
    "# plt.plot_date(df['date'], np.log10(df['sars_cov2_gc_l_mean']), c = 'blue') # raw data\n",
    "plt.title('Log RNA level Over Time')"
   ],
   "metadata": {
    "collapsed": false,
    "pycharm": {
     "name": "#%%\n"
    }
   }
  },
  {
   "cell_type": "markdown",
   "source": [
    "### Relationship between RNA level and R value"
   ],
   "metadata": {
    "collapsed": false,
    "pycharm": {
     "name": "#%% md\n"
    }
   }
  },
  {
   "cell_type": "code",
   "execution_count": null,
   "outputs": [],
   "source": [
    "melted_data = pd.melt(daily_interpol[['log_gene', 'SOUTH WEST_LOWER BOUND', 'SOUTH WEST_AVERAGE', 'SOUTH WEST_UPPER BOUND']], id_vars=['log_gene'])"
   ],
   "metadata": {
    "collapsed": false,
    "pycharm": {
     "name": "#%%\n"
    }
   }
  },
  {
   "cell_type": "code",
   "execution_count": null,
   "outputs": [],
   "source": [
    "g = sns.scatterplot(data=melted_data, x='log_gene', y='value', hue='variable', marker='+')\n",
    "g.legend(loc='center left', bbox_to_anchor=(1, 0.5), ncol=1)\n",
    "plt.title('R estimates and Log RNA level')"
   ],
   "metadata": {
    "collapsed": false,
    "pycharm": {
     "name": "#%%\n"
    }
   }
  },
  {
   "cell_type": "code",
   "execution_count": null,
   "outputs": [],
   "source": [
    "# Check number of values under each site\n",
    "# df3.CIS20CD.value_counts()\n",
    "\n",
    "# Check number of zero values\n",
    "# (df == 0).sum()"
   ],
   "metadata": {
    "collapsed": false,
    "pycharm": {
     "name": "#%%\n"
    }
   }
  },
  {
   "cell_type": "code",
   "execution_count": null,
   "outputs": [],
   "source": [
    "daily_interpol.to_csv(\"Linked Data_South West.csv\")"
   ],
   "metadata": {
    "collapsed": false,
    "pycharm": {
     "name": "#%%\n"
    }
   }
  }
 ],
 "metadata": {
  "kernelspec": {
   "display_name": "Python 3",
   "language": "python",
   "name": "python3"
  },
  "language_info": {
   "codemirror_mode": {
    "name": "ipython",
    "version": 2
   },
   "file_extension": ".py",
   "mimetype": "text/x-python",
   "name": "python",
   "nbconvert_exporter": "python",
   "pygments_lexer": "ipython2",
   "version": "2.7.6"
  }
 },
 "nbformat": 4,
 "nbformat_minor": 0
}