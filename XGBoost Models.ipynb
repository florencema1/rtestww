{
 "cells": [
  {
   "cell_type": "code",
   "execution_count": 2,
   "metadata": {
    "collapsed": true,
    "pycharm": {
     "name": "#%%\n"
    }
   },
   "outputs": [],
   "source": [
    "import pandas as pd\n",
    "import numpy as np\n",
    "import matplotlib.pyplot as plt\n",
    "import scipy.stats as sc\n",
    "import statsmodels.graphics.gofplots as sm\n",
    "from sklearn.model_selection import train_test_split\n",
    "from xgboost import XGBRegressor"
   ]
  },
  {
   "cell_type": "markdown",
   "source": [
    "#### Read in data file"
   ],
   "metadata": {
    "collapsed": false,
    "pycharm": {
     "name": "#%% md\n"
    }
   }
  },
  {
   "cell_type": "code",
   "execution_count": 4,
   "outputs": [
    {
     "data": {
      "text/plain": "   Unnamed: 0        date  weighted_avg_sars_cov2  gene_copies_per_day  \\\n0           0  2020-09-04              101.375432         6.940908e+10   \n1           1  2020-09-05              102.447339         7.014299e+10   \n2           2  2020-09-06              103.519246         7.087689e+10   \n3           3  2020-09-07             1631.590242         1.117107e+12   \n4           4  2020-09-08             1479.650801         1.013078e+12   \n\n   weighted_average_r  log_weighted_avg  log_gc_per_day      region  \n0            0.949947          2.005933       10.841416  south west  \n1            0.964242          2.010501       10.845984  south west  \n2            0.978536          2.015021       10.850505  south west  \n3            0.992831          3.212611       12.048095  south west  \n4            1.007125          3.170159       12.005643  south west  ",
      "text/html": "<div>\n<style scoped>\n    .dataframe tbody tr th:only-of-type {\n        vertical-align: middle;\n    }\n\n    .dataframe tbody tr th {\n        vertical-align: top;\n    }\n\n    .dataframe thead th {\n        text-align: right;\n    }\n</style>\n<table border=\"1\" class=\"dataframe\">\n  <thead>\n    <tr style=\"text-align: right;\">\n      <th></th>\n      <th>Unnamed: 0</th>\n      <th>date</th>\n      <th>weighted_avg_sars_cov2</th>\n      <th>gene_copies_per_day</th>\n      <th>weighted_average_r</th>\n      <th>log_weighted_avg</th>\n      <th>log_gc_per_day</th>\n      <th>region</th>\n    </tr>\n  </thead>\n  <tbody>\n    <tr>\n      <th>0</th>\n      <td>0</td>\n      <td>2020-09-04</td>\n      <td>101.375432</td>\n      <td>6.940908e+10</td>\n      <td>0.949947</td>\n      <td>2.005933</td>\n      <td>10.841416</td>\n      <td>south west</td>\n    </tr>\n    <tr>\n      <th>1</th>\n      <td>1</td>\n      <td>2020-09-05</td>\n      <td>102.447339</td>\n      <td>7.014299e+10</td>\n      <td>0.964242</td>\n      <td>2.010501</td>\n      <td>10.845984</td>\n      <td>south west</td>\n    </tr>\n    <tr>\n      <th>2</th>\n      <td>2</td>\n      <td>2020-09-06</td>\n      <td>103.519246</td>\n      <td>7.087689e+10</td>\n      <td>0.978536</td>\n      <td>2.015021</td>\n      <td>10.850505</td>\n      <td>south west</td>\n    </tr>\n    <tr>\n      <th>3</th>\n      <td>3</td>\n      <td>2020-09-07</td>\n      <td>1631.590242</td>\n      <td>1.117107e+12</td>\n      <td>0.992831</td>\n      <td>3.212611</td>\n      <td>12.048095</td>\n      <td>south west</td>\n    </tr>\n    <tr>\n      <th>4</th>\n      <td>4</td>\n      <td>2020-09-08</td>\n      <td>1479.650801</td>\n      <td>1.013078e+12</td>\n      <td>1.007125</td>\n      <td>3.170159</td>\n      <td>12.005643</td>\n      <td>south west</td>\n    </tr>\n  </tbody>\n</table>\n</div>"
     },
     "execution_count": 4,
     "metadata": {},
     "output_type": "execute_result"
    }
   ],
   "source": [
    "data = pd.read_csv(\"/Users/FM/Public/HDS/Summer Project/wastewater_r_estimation/Linked Data.csv\")\n",
    "data.head()"
   ],
   "metadata": {
    "collapsed": false,
    "pycharm": {
     "name": "#%%\n"
    }
   }
  },
  {
   "cell_type": "markdown",
   "source": [
    "#### Univariable XGBoost Regressor"
   ],
   "metadata": {
    "collapsed": false,
    "pycharm": {
     "name": "#%% md\n"
    }
   }
  },
  {
   "cell_type": "code",
   "execution_count": 10,
   "outputs": [
    {
     "data": {
      "text/plain": "0       0.949947\n1       0.964242\n2       0.978536\n3       0.992831\n4       1.007125\n          ...   \n1435    0.899438\n1436    0.899438\n1437    0.899438\n1438    0.899438\n1439    0.899438\nName: weighted_average_r, Length: 1440, dtype: float64"
     },
     "execution_count": 10,
     "metadata": {},
     "output_type": "execute_result"
    }
   ],
   "source": [
    "x = data.iloc[:, 5] # log weighted average RNA level\n",
    "y = data.iloc[:, 4] # weighted R estimate avg"
   ],
   "metadata": {
    "collapsed": false,
    "pycharm": {
     "name": "#%%\n"
    }
   }
  },
  {
   "cell_type": "code",
   "execution_count": 11,
   "outputs": [],
   "source": [
    "x_train, x_test, y_train, y_test = train_test_split(x, y, random_state = 100)\n",
    "# 75% data for training and 25% for test\n",
    "\n",
    "xg_reg = XGBRegressor()"
   ],
   "metadata": {
    "collapsed": false,
    "pycharm": {
     "name": "#%%\n"
    }
   }
  },
  {
   "cell_type": "code",
   "execution_count": 12,
   "outputs": [
    {
     "data": {
      "text/plain": "XGBRegressor(base_score=0.5, booster='gbtree', callbacks=None,\n             colsample_bylevel=1, colsample_bynode=1, colsample_bytree=1,\n             early_stopping_rounds=None, enable_categorical=False,\n             eval_metric=None, gamma=0, gpu_id=-1, grow_policy='depthwise',\n             importance_type=None, interaction_constraints='',\n             learning_rate=0.300000012, max_bin=256, max_cat_to_onehot=4,\n             max_delta_step=0, max_depth=6, max_leaves=0, min_child_weight=1,\n             missing=nan, monotone_constraints='()', n_estimators=100, n_jobs=0,\n             num_parallel_tree=1, predictor='auto', random_state=0, reg_alpha=0,\n             reg_lambda=1, ...)",
      "text/html": "<style>#sk-container-id-2 {color: black;background-color: white;}#sk-container-id-2 pre{padding: 0;}#sk-container-id-2 div.sk-toggleable {background-color: white;}#sk-container-id-2 label.sk-toggleable__label {cursor: pointer;display: block;width: 100%;margin-bottom: 0;padding: 0.3em;box-sizing: border-box;text-align: center;}#sk-container-id-2 label.sk-toggleable__label-arrow:before {content: \"▸\";float: left;margin-right: 0.25em;color: #696969;}#sk-container-id-2 label.sk-toggleable__label-arrow:hover:before {color: black;}#sk-container-id-2 div.sk-estimator:hover label.sk-toggleable__label-arrow:before {color: black;}#sk-container-id-2 div.sk-toggleable__content {max-height: 0;max-width: 0;overflow: hidden;text-align: left;background-color: #f0f8ff;}#sk-container-id-2 div.sk-toggleable__content pre {margin: 0.2em;color: black;border-radius: 0.25em;background-color: #f0f8ff;}#sk-container-id-2 input.sk-toggleable__control:checked~div.sk-toggleable__content {max-height: 200px;max-width: 100%;overflow: auto;}#sk-container-id-2 input.sk-toggleable__control:checked~label.sk-toggleable__label-arrow:before {content: \"▾\";}#sk-container-id-2 div.sk-estimator input.sk-toggleable__control:checked~label.sk-toggleable__label {background-color: #d4ebff;}#sk-container-id-2 div.sk-label input.sk-toggleable__control:checked~label.sk-toggleable__label {background-color: #d4ebff;}#sk-container-id-2 input.sk-hidden--visually {border: 0;clip: rect(1px 1px 1px 1px);clip: rect(1px, 1px, 1px, 1px);height: 1px;margin: -1px;overflow: hidden;padding: 0;position: absolute;width: 1px;}#sk-container-id-2 div.sk-estimator {font-family: monospace;background-color: #f0f8ff;border: 1px dotted black;border-radius: 0.25em;box-sizing: border-box;margin-bottom: 0.5em;}#sk-container-id-2 div.sk-estimator:hover {background-color: #d4ebff;}#sk-container-id-2 div.sk-parallel-item::after {content: \"\";width: 100%;border-bottom: 1px solid gray;flex-grow: 1;}#sk-container-id-2 div.sk-label:hover label.sk-toggleable__label {background-color: #d4ebff;}#sk-container-id-2 div.sk-serial::before {content: \"\";position: absolute;border-left: 1px solid gray;box-sizing: border-box;top: 0;bottom: 0;left: 50%;z-index: 0;}#sk-container-id-2 div.sk-serial {display: flex;flex-direction: column;align-items: center;background-color: white;padding-right: 0.2em;padding-left: 0.2em;position: relative;}#sk-container-id-2 div.sk-item {position: relative;z-index: 1;}#sk-container-id-2 div.sk-parallel {display: flex;align-items: stretch;justify-content: center;background-color: white;position: relative;}#sk-container-id-2 div.sk-item::before, #sk-container-id-2 div.sk-parallel-item::before {content: \"\";position: absolute;border-left: 1px solid gray;box-sizing: border-box;top: 0;bottom: 0;left: 50%;z-index: -1;}#sk-container-id-2 div.sk-parallel-item {display: flex;flex-direction: column;z-index: 1;position: relative;background-color: white;}#sk-container-id-2 div.sk-parallel-item:first-child::after {align-self: flex-end;width: 50%;}#sk-container-id-2 div.sk-parallel-item:last-child::after {align-self: flex-start;width: 50%;}#sk-container-id-2 div.sk-parallel-item:only-child::after {width: 0;}#sk-container-id-2 div.sk-dashed-wrapped {border: 1px dashed gray;margin: 0 0.4em 0.5em 0.4em;box-sizing: border-box;padding-bottom: 0.4em;background-color: white;}#sk-container-id-2 div.sk-label label {font-family: monospace;font-weight: bold;display: inline-block;line-height: 1.2em;}#sk-container-id-2 div.sk-label-container {text-align: center;}#sk-container-id-2 div.sk-container {/* jupyter's `normalize.less` sets `[hidden] { display: none; }` but bootstrap.min.css set `[hidden] { display: none !important; }` so we also need the `!important` here to be able to override the default hidden behavior on the sphinx rendered scikit-learn.org. See: https://github.com/scikit-learn/scikit-learn/issues/21755 */display: inline-block !important;position: relative;}#sk-container-id-2 div.sk-text-repr-fallback {display: none;}</style><div id=\"sk-container-id-2\" class=\"sk-top-container\"><div class=\"sk-text-repr-fallback\"><pre>XGBRegressor(base_score=0.5, booster=&#x27;gbtree&#x27;, callbacks=None,\n             colsample_bylevel=1, colsample_bynode=1, colsample_bytree=1,\n             early_stopping_rounds=None, enable_categorical=False,\n             eval_metric=None, gamma=0, gpu_id=-1, grow_policy=&#x27;depthwise&#x27;,\n             importance_type=None, interaction_constraints=&#x27;&#x27;,\n             learning_rate=0.300000012, max_bin=256, max_cat_to_onehot=4,\n             max_delta_step=0, max_depth=6, max_leaves=0, min_child_weight=1,\n             missing=nan, monotone_constraints=&#x27;()&#x27;, n_estimators=100, n_jobs=0,\n             num_parallel_tree=1, predictor=&#x27;auto&#x27;, random_state=0, reg_alpha=0,\n             reg_lambda=1, ...)</pre><b>In a Jupyter environment, please rerun this cell to show the HTML representation or trust the notebook. <br />On GitHub, the HTML representation is unable to render, please try loading this page with nbviewer.org.</b></div><div class=\"sk-container\" hidden><div class=\"sk-item\"><div class=\"sk-estimator sk-toggleable\"><input class=\"sk-toggleable__control sk-hidden--visually\" id=\"sk-estimator-id-2\" type=\"checkbox\" checked><label for=\"sk-estimator-id-2\" class=\"sk-toggleable__label sk-toggleable__label-arrow\">XGBRegressor</label><div class=\"sk-toggleable__content\"><pre>XGBRegressor(base_score=0.5, booster=&#x27;gbtree&#x27;, callbacks=None,\n             colsample_bylevel=1, colsample_bynode=1, colsample_bytree=1,\n             early_stopping_rounds=None, enable_categorical=False,\n             eval_metric=None, gamma=0, gpu_id=-1, grow_policy=&#x27;depthwise&#x27;,\n             importance_type=None, interaction_constraints=&#x27;&#x27;,\n             learning_rate=0.300000012, max_bin=256, max_cat_to_onehot=4,\n             max_delta_step=0, max_depth=6, max_leaves=0, min_child_weight=1,\n             missing=nan, monotone_constraints=&#x27;()&#x27;, n_estimators=100, n_jobs=0,\n             num_parallel_tree=1, predictor=&#x27;auto&#x27;, random_state=0, reg_alpha=0,\n             reg_lambda=1, ...)</pre></div></div></div></div></div>"
     },
     "execution_count": 12,
     "metadata": {},
     "output_type": "execute_result"
    }
   ],
   "source": [
    "xg_reg.fit(x_train, y_train)"
   ],
   "metadata": {
    "collapsed": false,
    "pycharm": {
     "name": "#%%\n"
    }
   }
  },
  {
   "cell_type": "code",
   "execution_count": 13,
   "outputs": [],
   "source": [
    "# Test data\n",
    "y_pred = xg_reg.predict(x_test)"
   ],
   "metadata": {
    "collapsed": false,
    "pycharm": {
     "name": "#%%\n"
    }
   }
  },
  {
   "cell_type": "code",
   "execution_count": 14,
   "outputs": [],
   "source": [
    "from sklearn.metrics import mean_squared_error\n",
    "mse = mean_squared_error(y_test, y_pred)"
   ],
   "metadata": {
    "collapsed": false,
    "pycharm": {
     "name": "#%%\n"
    }
   }
  },
  {
   "cell_type": "code",
   "execution_count": 15,
   "outputs": [
    {
     "name": "stdout",
     "output_type": "stream",
     "text": [
      "MSE: 0.04\n"
     ]
    }
   ],
   "source": [
    "print(\"MSE: %0.2f\" % (mse))"
   ],
   "metadata": {
    "collapsed": false,
    "pycharm": {
     "name": "#%%\n"
    }
   }
  },
  {
   "cell_type": "code",
   "execution_count": 16,
   "outputs": [
    {
     "name": "stdout",
     "output_type": "stream",
     "text": [
      "RMSE: 0.21\n"
     ]
    }
   ],
   "source": [
    "rmse = np.sqrt(mse)\n",
    "print (\"RMSE: %0.2f\" % (rmse))"
   ],
   "metadata": {
    "collapsed": false,
    "pycharm": {
     "name": "#%%\n"
    }
   }
  },
  {
   "cell_type": "code",
   "execution_count": 17,
   "outputs": [],
   "source": [
    "from sklearn.model_selection import cross_val_score\n",
    "model = XGBRegressor(objective = \"reg:squarederror\")\n",
    "scores = cross_val_score(model, x, y,\n",
    "                         scoring = \"neg_mean_squared_error\",\n",
    "                         cv = 10)"
   ],
   "metadata": {
    "collapsed": false,
    "pycharm": {
     "name": "#%%\n"
    }
   }
  },
  {
   "cell_type": "code",
   "execution_count": 18,
   "outputs": [
    {
     "data": {
      "text/plain": "array([-0.04599956, -0.03612224, -0.03833347, -0.04508599, -0.03800276,\n       -0.04987045, -0.04108023, -0.07740534, -0.0461686 , -0.04886461])"
     },
     "execution_count": 18,
     "metadata": {},
     "output_type": "execute_result"
    }
   ],
   "source": [
    "scores"
   ],
   "metadata": {
    "collapsed": false,
    "pycharm": {
     "name": "#%%\n"
    }
   }
  },
  {
   "cell_type": "code",
   "execution_count": 19,
   "outputs": [
    {
     "data": {
      "text/plain": "10"
     },
     "execution_count": 19,
     "metadata": {},
     "output_type": "execute_result"
    },
    {
     "data": {
      "text/plain": "<Figure size 432x288 with 1 Axes>",
      "image/png": "[encoded data removed]"
     },
     "metadata": {
      "needs_background": "light"
     },
     "output_type": "display_data"
    }
   ],
   "source": [
    "rmse = np.sqrt(-scores)\n",
    "plt.hist(rmse, 75, range=(-2, 2))\n",
    "plt.xlabel('Root Mean Squared Error')\n",
    "rmse.size"
   ],
   "metadata": {
    "collapsed": false,
    "pycharm": {
     "name": "#%%\n"
    }
   }
  },
  {
   "cell_type": "code",
   "execution_count": 20,
   "outputs": [
    {
     "data": {
      "text/plain": "array([0.9258788 , 1.116136  , 1.1466405 , 1.1173491 , 1.0800848 ,\n       1.0916666 , 1.0113691 , 1.0606176 , 0.9955681 , 1.0424157 ,\n       1.0349685 , 1.2016971 , 1.2391032 , 1.1457933 , 1.2181566 ,\n       1.301002  , 0.91393435, 1.1345447 , 1.0983903 , 1.0460883 ,\n       1.1660638 , 1.1099601 , 1.0424157 , 1.1233057 , 1.177742  ,\n       1.1940601 , 1.12951   , 1.1267658 , 1.0774144 , 1.287475  ,\n       0.954096  , 0.9541628 , 1.0943719 , 1.2904658 , 1.0519059 ,\n       1.1953084 , 1.1178479 , 1.0988318 , 0.94424564, 1.1877183 ,\n       1.0862457 , 1.032191  , 0.984001  , 1.0683677 , 1.2832341 ,\n       1.2904658 , 1.010325  , 1.1382287 , 1.1950002 , 1.0685673 ,\n       1.1812357 , 1.000949  , 1.0916666 , 1.0991265 , 1.271796  ,\n       1.2336955 , 1.1897825 , 1.3266886 , 1.2759243 , 0.84396076,\n       1.162928  , 1.0916666 , 1.2032208 , 1.2632537 , 1.1911747 ,\n       1.0017222 , 1.1813309 , 1.2339277 , 1.2730724 , 0.9945607 ,\n       1.1417402 , 1.1811951 , 1.092702  , 0.9245964 , 1.0916666 ,\n       1.2417119 , 1.3274643 , 1.287475  , 1.1953084 , 0.87061733,\n       1.2632537 , 1.1584884 , 1.2441459 , 0.9796832 , 1.0295031 ,\n       1.1377752 , 1.0894382 , 1.0943719 , 1.138545  , 1.3265836 ,\n       1.3274643 , 1.1136789 , 1.2843763 , 1.2582489 , 1.0256668 ,\n       1.0774144 , 1.0916666 , 1.1950002 , 1.179241  , 1.0916666 ,\n       1.0694585 , 1.2141314 , 0.954096  , 1.0963885 , 1.0560104 ,\n       0.984001  , 1.1916239 , 1.2274636 , 1.1191382 , 1.2174408 ,\n       1.1911747 , 1.3411198 , 1.01841   , 1.0943719 , 1.0916666 ,\n       1.2654334 , 1.1132286 , 1.0768855 , 1.2369907 , 1.1699535 ,\n       1.2654334 , 1.0339348 , 1.0760618 , 1.1699535 , 1.1829687 ,\n       1.1911747 , 1.02267   , 1.3106074 , 1.3411198 , 1.108115  ,\n       1.1848274 , 1.19588   , 1.2832341 , 1.1304985 , 1.1844933 ,\n       1.2038124 , 1.2038124 , 1.0424157 , 1.0760618 , 1.1265556 ,\n       1.0695368 , 1.2954527 , 1.010325  , 1.0460883 , 1.2313422 ,\n       1.0916666 , 1.1365421 , 1.186916  , 1.2206455 , 1.1875137 ,\n       1.1584884 , 1.2038403 , 1.003066  , 1.2113297 , 1.1754407 ,\n       1.2832341 , 1.1783096 , 1.0702084 , 1.271796  , 1.2373332 ,\n       1.1911747 , 1.1417402 , 1.186916  , 1.0693538 , 1.033431  ,\n       1.1265556 , 1.0745773 , 1.3411198 , 0.9614054 , 1.0229259 ,\n       1.2329371 , 1.0481979 , 1.2094524 , 1.1235577 , 1.0692993 ,\n       1.1382287 , 1.0229259 , 1.1357778 , 1.0916666 , 1.186916  ,\n       0.9541628 , 1.0877999 , 1.1050308 , 1.0418599 , 1.2904658 ,\n       1.151367  , 1.1387087 , 1.1653706 , 1.0424157 , 1.1584884 ,\n       1.0920973 , 1.1218307 , 0.9587797 , 1.3073269 , 1.0790609 ,\n       1.0005549 , 1.0409153 , 1.2154613 , 1.01841   , 1.2120837 ,\n       1.0053486 , 1.0457442 , 1.0005549 , 1.2759243 , 1.1646566 ,\n       1.2313422 , 1.198044  , 1.2056613 , 1.3045781 , 1.2093049 ,\n       1.0251434 , 1.2038403 , 1.2313422 , 1.148959  , 0.94353575,\n       1.2441459 , 1.3266886 , 1.3106474 , 1.1318495 , 0.9796832 ,\n       1.1697015 , 1.032191  , 0.92581165, 1.274311  , 1.2336955 ,\n       1.0457442 , 1.3225325 , 1.0424157 , 1.0482634 , 1.1684887 ,\n       1.0192095 , 0.9876888 , 1.08826   , 1.0378878 , 1.0916666 ,\n       0.9787708 , 1.2261425 , 1.1670859 , 0.9543988 , 1.0912615 ,\n       1.2313422 , 1.1768013 , 1.0894382 , 1.1916239 , 1.0424157 ,\n       0.94424564, 0.9508219 , 1.1684887 , 1.1191382 , 1.1783096 ,\n       0.98623306, 1.2802647 , 1.0348688 , 1.2632537 , 1.0113691 ,\n       0.84396076, 1.1877183 , 1.2913295 , 1.0031466 , 1.0008556 ,\n       1.0086355 , 1.1067688 , 0.8597511 , 1.0803626 , 1.1387087 ,\n       1.0343702 , 1.1345447 , 1.2954527 , 1.3106474 , 1.3045781 ,\n       0.944447  , 1.1709479 , 1.0481979 , 1.0693538 , 1.3266886 ,\n       0.954096  , 1.148959  , 1.1783096 , 1.25197   , 1.0618855 ,\n       1.0989288 , 1.0251434 , 1.048734  , 1.186916  , 1.1437643 ,\n       1.211438  , 1.1387087 , 1.0622194 , 1.179241  , 1.2767316 ,\n       1.0692993 , 1.0695368 , 1.1355315 , 1.267247  , 1.2069968 ,\n       1.0481979 , 1.1173491 , 1.2794554 , 1.1911747 , 1.1955068 ,\n       1.2178158 , 1.2953526 , 1.0343702 , 1.0919263 , 1.2538404 ,\n       1.0929388 , 0.9945607 , 1.2904658 , 1.0424157 , 1.1768013 ,\n       1.1376568 , 1.186916  , 1.08826   , 1.2127862 , 1.0983425 ,\n       1.1417402 , 1.3274643 , 1.1328696 , 1.1754407 , 1.2324305 ,\n       1.0870289 , 1.2274636 , 1.0916666 , 1.0622194 , 1.0008556 ,\n       1.1854069 , 0.9955681 , 1.048734  , 1.1661214 , 1.2286642 ,\n       1.2954527 , 1.2174408 , 1.0894382 , 1.1178479 , 0.8542959 ,\n       1.170079  , 1.1911747 , 1.1304985 , 1.0894382 , 1.1843984 ,\n       1.1848274 , 1.02267   , 1.1284791 , 1.2248394 , 1.0676616 ,\n       1.1743966 , 0.9945607 , 1.1911747 , 1.1916239 , 1.2774526 ,\n       1.2255708 , 1.2038403 , 1.1233057 , 1.0941963 , 1.0113691 ,\n       1.2997539 , 1.0768855 , 1.1901916 , 1.1675619 , 0.87061733],\n      dtype=float32)"
     },
     "execution_count": 20,
     "metadata": {},
     "output_type": "execute_result"
    }
   ],
   "source": [
    "# Plot predicted R values\n",
    "y_pred"
   ],
   "metadata": {
    "collapsed": false,
    "pycharm": {
     "name": "#%%\n"
    }
   }
  },
  {
   "cell_type": "markdown",
   "source": [
    "#### UKHSA Model"
   ],
   "metadata": {
    "collapsed": false,
    "pycharm": {
     "name": "#%% md\n"
    }
   }
  },
  {
   "cell_type": "code",
   "execution_count": 13,
   "outputs": [],
   "source": [
    "sample_variables = ['sars_cov2_gc_l_mean',\n",
    "                    'suspended_solids_mg_l', 'ammonia_mg_l', 'ophosph_mg_l',\n",
    "                    'sample_ph_pre_ansis',\n",
    "                    'control_gc_l_mean','reac_vol_control', # \"reac_vol_sars\",\n",
    "                    # 'raw_ansis_sars_repc_1', 'raw_ansis_sars_repc_2',\n",
    "                    # 'raw_ansis_sars_repc_mean',\n",
    "                    'raw_ansis_sars_repc_std',\n",
    "                    'compo_frac',\n",
    "                    'sars_below_lod', 'sars_below_loq',\n",
    "                    'reception_delay',\n",
    "                    #                    'ww_site_code',  # try here?\n",
    "                    #                     'date',\n",
    "                    #                   'analysis_lab_code',\n",
    "                    #'lab_analysis_1.1.1', 'lab_analysis_1.1.2',\n",
    "                    #'target_gene_N1'\n",
    "                    ]\n",
    "\n",
    "site_variables = [\n",
    "    'catchment_population_ons_mid_2019',\n",
    "    'catchment_area'\n",
    "    #                   ,'site_skey',  # numeric so should be ok.\n",
    "    #                   'ww_site_code',\n",
    "    #                   'water_company_AE',\n",
    "    #                   'water_company_AW', 'water_company_NW', 'water_company_ST',\n",
    "    #                   'water_company_SW', 'water_company_SWS', 'water_company_TW',\n",
    "    #                   'water_company_UU', 'water_company_WW', 'water_company_WXW',\n",
    "    #                   'water_company_YW'\n",
    "]\n",
    "\n",
    "cis_variables = ['catch_in_cis_prop', 'catch_cis_population'\n",
    "                 #             ,'cis_population'\n",
    "                 ]\n",
    "\n",
    "all_variables = sample_variables + site_variables + cis_variables"
   ],
   "metadata": {
    "collapsed": false,
    "pycharm": {
     "name": "#%%\n"
    }
   }
  },
  {
   "cell_type": "code",
   "execution_count": 21,
   "outputs": [],
   "source": [
    "dict_models = dict(xgb = XGBRegressor())\n",
    "\n",
    "model_variables = dict(xgb = 'weighted_avg_sars_cov2')\n",
    "\n",
    "model_labels = {'xgb': 'Gradient Boosted',\n",
    "                'process': 'Process-based'}"
   ],
   "metadata": {
    "collapsed": false,
    "pycharm": {
     "name": "#%%\n"
    }
   }
  },
  {
   "cell_type": "code",
   "execution_count": 23,
   "outputs": [
    {
     "name": "stderr",
     "output_type": "stream",
     "text": [
      "100%|██████████| 50/50 [00:04<00:00, 10.74it/s]\n"
     ]
    }
   ],
   "source": [
    "# Bootstrap predictions\n",
    "from ml_utils import bootstrap, Dataset\n",
    "\n",
    "repeat = 50\n",
    "preds_bootstrap = {}\n",
    "\n",
    "models = ['xgb'] # remove some models as desired, as RE can be long for example\n",
    "\n",
    "for model_name in models:\n",
    "    dataset = Dataset(data.set_index(['date']), model_variables[model_name],\n",
    "                      'weighted_average_r', input_offset=0.001) #'median_prob' refers to prevalence still\n",
    "    x, y = dataset.prepare_no_split()\n",
    "    preds_bootstrap[model_name] = bootstrap(dict_models[model_name], x, y, repeat=repeat)"
   ],
   "metadata": {
    "collapsed": false,
    "pycharm": {
     "name": "#%%\n"
    }
   }
  },
  {
   "cell_type": "code",
   "execution_count": 24,
   "outputs": [],
   "source": [
    "# Computing Mean and SE of errors\n",
    "\n",
    "dict_pred = {model_name: preds_bootstrap[model_name].mean(1) for model_name in preds_bootstrap}\n",
    "# dict_pred_natural = {model_name: 10**preds_bootstrap[model_name].mean(1) for model_name in preds_bootstrap}\n",
    "dict_se = {model_name: pred.std(1)/np.sqrt(repeat - np.isnan(pred).sum(1)) for model_name, pred in preds_bootstrap.items()}\n",
    "dict_se_natural = {model_name: 10**pred.std(1)/np.sqrt(repeat - np.isnan(pred).sum(1)) for model_name, pred in preds_bootstrap.items()}"
   ],
   "metadata": {
    "collapsed": false,
    "pycharm": {
     "name": "#%%\n"
    }
   }
  },
  {
   "cell_type": "code",
   "execution_count": 25,
   "outputs": [
    {
     "name": "stdout",
     "output_type": "stream",
     "text": [
      "mean absolute error 0.0621\n",
      "median absolute error 0.0525\n",
      "q95 absolute error 0.1546\n",
      "\n",
      "Natural space\n",
      "median relative error 11.8452\n",
      "q95 relative error 39.7847\n",
      "median absolute error 13.8016\n",
      "q95 absolute error 37.2573\n"
     ]
    },
    {
     "data": {
      "text/plain": "<Figure size 432x288 with 1 Axes>",
      "image/png": "[encoded data removed]"
     },
     "metadata": {
      "needs_background": "light"
     },
     "output_type": "display_data"
    },
    {
     "data": {
      "text/plain": "Text(0.5, 0, 'signed error (Re)')"
     },
     "execution_count": 25,
     "metadata": {},
     "output_type": "execute_result"
    },
    {
     "data": {
      "text/plain": "<Figure size 432x288 with 1 Axes>",
      "image/png": "[encoded data removed]"
     },
     "metadata": {
      "needs_background": "light"
     },
     "output_type": "display_data"
    }
   ],
   "source": [
    "# Error for xgb\n",
    "\n",
    "print(f'mean absolute error {np.abs((dict_pred[model_name]-y)).mean():.4f}')\n",
    "print(f'median absolute error {np.abs((dict_pred[model_name]-y)).median():.4f}')\n",
    "print(f'q95 absolute error {np.quantile(np.abs((dict_pred[model_name]-y)), 0.95):.4f}')\n",
    "\n",
    "# Natural space\n",
    "print('\\nNatural space')\n",
    "print(f'median relative error {np.abs((10**dict_pred[model_name]-10**y)/10**y).median()*100:.4f}')\n",
    "print(f'q95 relative error {np.quantile(np.abs((10**dict_pred[model_name]-10**y)/10**y), 0.95)*100:.4f}')\n",
    "\n",
    "print(f'median absolute error {np.abs((10**dict_pred[model_name]-10**y)).median()*100:.4f}')\n",
    "print(f'q95 absolute error {np.quantile(np.abs((10**dict_pred[model_name]-10**y)), 0.95)*100:.4f}')\n",
    "\n",
    "plt.hist((10**dict_pred[model_name]-10**y)/10**y, 75, range=(-3, 3))\n",
    "plt.xlabel('relative error')\n",
    "plt.show()\n",
    "\n",
    "plt.hist((10**dict_pred[model_name]-10**y), 50, range=(-3,3))\n",
    "plt.xlabel('signed error (Re)')"
   ],
   "metadata": {
    "collapsed": false,
    "pycharm": {
     "name": "#%%\n"
    }
   }
  },
  {
   "cell_type": "code",
   "execution_count": 27,
   "outputs": [
    {
     "data": {
      "text/plain": "{'xgb':             boot_0    boot_1    boot_2    boot_3    boot_4  boot_5    boot_6  \\\n date                                                                           \n 2020-09-04     NaN -0.005711       NaN       NaN       NaN     NaN       NaN   \n 2020-09-05     NaN       NaN -0.006803 -0.011435       NaN     NaN -0.019845   \n 2020-09-06     NaN       NaN       NaN       NaN       NaN     NaN -0.019845   \n 2020-09-07     NaN -0.043454       NaN       NaN       NaN     NaN       NaN   \n 2020-09-08     NaN       NaN       NaN       NaN       NaN     NaN       NaN   \n ...            ...       ...       ...       ...       ...     ...       ...   \n 2021-02-06     NaN       NaN  0.000294  0.089752 -0.000998     NaN       NaN   \n 2021-02-07     NaN       NaN       NaN       NaN       NaN     NaN       NaN   \n 2021-02-08     NaN       NaN       NaN  0.079592       NaN     NaN       NaN   \n 2021-02-09     NaN       NaN       NaN       NaN       NaN     NaN       NaN   \n 2021-02-10     NaN  0.021486       NaN       NaN       NaN     NaN       NaN   \n \n               boot_7    boot_8    boot_9  ...   boot_40   boot_41   boot_42  \\\n date                                      ...                                 \n 2020-09-04       NaN       NaN       NaN  ...       NaN -0.007975 -0.007980   \n 2020-09-05 -0.020943       NaN       NaN  ...       NaN       NaN       NaN   \n 2020-09-06 -0.020943       NaN       NaN  ...       NaN       NaN       NaN   \n 2020-09-07       NaN       NaN       NaN  ...       NaN       NaN       NaN   \n 2020-09-08 -0.051656       NaN -0.059414  ...       NaN       NaN -0.066991   \n ...              ...       ...       ...  ...       ...       ...       ...   \n 2021-02-06       NaN       NaN       NaN  ...       NaN       NaN       NaN   \n 2021-02-07  0.086680       NaN       NaN  ...  0.084951       NaN       NaN   \n 2021-02-08       NaN  0.080318       NaN  ...       NaN       NaN       NaN   \n 2021-02-09       NaN       NaN       NaN  ...       NaN       NaN       NaN   \n 2021-02-10 -0.020943       NaN       NaN  ...       NaN       NaN       NaN   \n \n             boot_43   boot_44   boot_45   boot_46   boot_47   boot_48  \\\n date                                                                    \n 2020-09-04      NaN -0.009099 -0.008319       NaN       NaN       NaN   \n 2020-09-05      NaN       NaN       NaN -0.007253       NaN       NaN   \n 2020-09-06      NaN -0.009099       NaN       NaN -0.014099       NaN   \n 2020-09-07      NaN       NaN       NaN  0.001375       NaN       NaN   \n 2020-09-08      NaN       NaN       NaN       NaN       NaN -0.075342   \n ...             ...       ...       ...       ...       ...       ...   \n 2021-02-06      NaN       NaN  0.006032       NaN       NaN       NaN   \n 2021-02-07      NaN  0.083567  0.051329  0.091171       NaN       NaN   \n 2021-02-08      NaN  0.073115       NaN  0.081628       NaN       NaN   \n 2021-02-09      NaN       NaN       NaN  0.034577       NaN       NaN   \n 2021-02-10      NaN       NaN       NaN       NaN       NaN -0.012878   \n \n              boot_49  \n date                  \n 2020-09-04       NaN  \n 2020-09-05 -0.007396  \n 2020-09-06       NaN  \n 2020-09-07       NaN  \n 2020-09-08       NaN  \n ...              ...  \n 2021-02-06       NaN  \n 2021-02-07       NaN  \n 2021-02-08       NaN  \n 2021-02-09       NaN  \n 2021-02-10       NaN  \n \n [1440 rows x 50 columns]}"
     },
     "execution_count": 27,
     "metadata": {},
     "output_type": "execute_result"
    }
   ],
   "source": [],
   "metadata": {
    "collapsed": false,
    "pycharm": {
     "name": "#%%\n"
    }
   }
  },
  {
   "cell_type": "code",
   "execution_count": null,
   "outputs": [],
   "source": [],
   "metadata": {
    "collapsed": false,
    "pycharm": {
     "name": "#%%\n"
    }
   }
  }
 ],
 "metadata": {
  "kernelspec": {
   "display_name": "Python 3",
   "language": "python",
   "name": "python3"
  },
  "language_info": {
   "codemirror_mode": {
    "name": "ipython",
    "version": 2
   },
   "file_extension": ".py",
   "mimetype": "text/x-python",
   "name": "python",
   "nbconvert_exporter": "python",
   "pygments_lexer": "ipython2",
   "version": "2.7.6"
  }
 },
 "nbformat": 4,
 "nbformat_minor": 0
}