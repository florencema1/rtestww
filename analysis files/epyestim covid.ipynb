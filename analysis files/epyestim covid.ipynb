{
 "cells": [
  {
   "cell_type": "code",
   "execution_count": 17,
   "metadata": {
    "collapsed": true,
    "pycharm": {
     "name": "#%%\n"
    }
   },
   "outputs": [],
   "source": [
    "import os\n",
    "\n",
    "import numpy as np\n",
    "import pandas as pd\n",
    "import matplotlib as mpl\n",
    "import matplotlib.pyplot as plt\n",
    "plt.style.use('seaborn-white')\n",
    "\n",
    "%matplotlib inline\n",
    "\n",
    "from scipy.stats import gamma, poisson\n",
    "\n",
    "import epyestim\n",
    "import epyestim.covid19 as covid19"
   ]
  },
  {
   "cell_type": "code",
   "execution_count": 18,
   "outputs": [],
   "source": [
    "# default distributions for generation time and delay of reporting\n",
    "si_distrb = covid19.generate_standard_si_distribution()\n",
    "delay_distrb = covid19.generate_standard_infection_to_reporting_distribution()"
   ],
   "metadata": {
    "collapsed": false,
    "pycharm": {
     "name": "#%%\n"
    }
   }
  },
  {
   "cell_type": "code",
   "execution_count": 52,
   "outputs": [
    {
     "name": "stdout",
     "output_type": "stream",
     "text": [
      "sub_date\n",
      "2020-08-03        1\n",
      "2020-08-10        1\n",
      "2020-08-17        1\n",
      "2020-08-24        1\n",
      "2020-08-31        7\n",
      "2020-09-07        7\n",
      "2020-09-14        1\n",
      "2020-09-21       38\n",
      "2020-09-28        5\n",
      "2020-10-05       66\n",
      "2020-10-12      141\n",
      "2020-10-19     2865\n",
      "2020-10-26    28096\n",
      "2020-11-02     1690\n",
      "2020-11-09       32\n",
      "2020-11-16     1358\n",
      "2020-11-23     2786\n",
      "2020-11-30        9\n",
      "2020-12-07        4\n",
      "2020-12-14       37\n",
      "2021-01-04    54974\n",
      "2021-01-11    57093\n",
      "2021-01-18    39492\n",
      "2021-01-25    43762\n",
      "2021-02-01    39250\n",
      "2021-02-08    55423\n",
      "2021-02-15    46230\n",
      "2021-02-22    32536\n",
      "2021-03-01     2958\n",
      "2021-03-08    41981\n",
      "2021-03-15     7425\n",
      "2021-03-22    29748\n",
      "Name: caseint, dtype: int64\n"
     ]
    }
   ],
   "source": [
    "# import data\n",
    "alla_cases_week = pd.read_csv(\"alla_est.csv\")\n",
    "\n",
    "# transform case number into integer\n",
    "alla_cases_week['caseint'] = np.ceil(alla_cases_week['activecase']).astype('int')\n",
    "\n",
    "# transform week number into date\n",
    "alla_cases_week['sub_date'] = (pd.to_datetime('2020-07-06') +\n",
    "                               pd.to_timedelta((alla_cases_week['week']-1) * 7, unit='d'))\n",
    "\n",
    "# transform into pd Series\n",
    "test_series = alla_cases_week.set_index('sub_date')['caseint']\n",
    "print((test_series))"
   ],
   "metadata": {
    "collapsed": false,
    "pycharm": {
     "name": "#%%\n"
    }
   }
  },
  {
   "cell_type": "code",
   "execution_count": null,
   "outputs": [],
   "source": [],
   "metadata": {
    "collapsed": false,
    "pycharm": {
     "name": "#%%\n"
    }
   }
  },
  {
   "cell_type": "code",
   "execution_count": 49,
   "outputs": [
    {
     "ename": "ValueError",
     "evalue": "Length of values (204) does not match length of index (28)",
     "output_type": "error",
     "traceback": [
      "\u001B[0;31m---------------------------------------------------------------------------\u001B[0m",
      "\u001B[0;31mValueError\u001B[0m                                Traceback (most recent call last)",
      "Input \u001B[0;32mIn [49]\u001B[0m, in \u001B[0;36m<cell line: 1>\u001B[0;34m()\u001B[0m\n\u001B[0;32m----> 1\u001B[0m alla_time_varying_r \u001B[38;5;241m=\u001B[39m \u001B[43mcovid19\u001B[49m\u001B[38;5;241;43m.\u001B[39;49m\u001B[43mr_covid\u001B[49m\u001B[43m(\u001B[49m\u001B[43mtest_series\u001B[49m\u001B[43m)\u001B[49m\n",
      "File \u001B[0;32m/Library/Frameworks/Python.framework/Versions/3.10/lib/python3.10/site-packages/epyestim/covid19.py:71\u001B[0m, in \u001B[0;36mr_covid\u001B[0;34m(confirmed_cases, gt_distribution, delay_distribution, a_prior, b_prior, smoothing_window, r_window_size, r_interval_dates, n_samples, quantiles, auto_cutoff)\u001B[0m\n\u001B[1;32m     54\u001B[0m \u001B[38;5;28;01mdef\u001B[39;00m \u001B[38;5;21mr_covid\u001B[39m(\n\u001B[1;32m     55\u001B[0m         confirmed_cases: pd\u001B[38;5;241m.\u001B[39mSeries,\n\u001B[1;32m     56\u001B[0m         gt_distribution: np\u001B[38;5;241m.\u001B[39marray \u001B[38;5;241m=\u001B[39m generate_standard_si_distribution(),\n\u001B[0;32m   (...)\u001B[0m\n\u001B[1;32m     65\u001B[0m         auto_cutoff: \u001B[38;5;28mbool\u001B[39m \u001B[38;5;241m=\u001B[39m \u001B[38;5;28;01mTrue\u001B[39;00m\n\u001B[1;32m     66\u001B[0m ) \u001B[38;5;241m-\u001B[39m\u001B[38;5;241m>\u001B[39m pd\u001B[38;5;241m.\u001B[39mDataFrame:\n\u001B[1;32m     67\u001B[0m     \u001B[38;5;124;03m\"\"\"\u001B[39;00m\n\u001B[1;32m     68\u001B[0m \u001B[38;5;124;03m    Compute aggregated bootstrapped R and returns aggregate quantiles\u001B[39;00m\n\u001B[1;32m     69\u001B[0m \u001B[38;5;124;03m    with default parameters for Covid-19.\u001B[39;00m\n\u001B[1;32m     70\u001B[0m \u001B[38;5;124;03m    \"\"\"\u001B[39;00m\n\u001B[0;32m---> 71\u001B[0m     \u001B[38;5;28;01mreturn\u001B[39;00m \u001B[43mbagging_r\u001B[49m\u001B[43m(\u001B[49m\n\u001B[1;32m     72\u001B[0m \u001B[43m        \u001B[49m\u001B[43mconfirmed_cases\u001B[49m\u001B[43m,\u001B[49m\n\u001B[1;32m     73\u001B[0m \u001B[43m        \u001B[49m\u001B[43mgt_distribution\u001B[49m\u001B[38;5;241;43m=\u001B[39;49m\u001B[43mgt_distribution\u001B[49m\u001B[43m,\u001B[49m\n\u001B[1;32m     74\u001B[0m \u001B[43m        \u001B[49m\u001B[43mdelay_distribution\u001B[49m\u001B[38;5;241;43m=\u001B[39;49m\u001B[43mdelay_distribution\u001B[49m\u001B[43m,\u001B[49m\n\u001B[1;32m     75\u001B[0m \u001B[43m        \u001B[49m\u001B[43ma_prior\u001B[49m\u001B[38;5;241;43m=\u001B[39;49m\u001B[43ma_prior\u001B[49m\u001B[43m,\u001B[49m\n\u001B[1;32m     76\u001B[0m \u001B[43m        \u001B[49m\u001B[43mb_prior\u001B[49m\u001B[38;5;241;43m=\u001B[39;49m\u001B[43mb_prior\u001B[49m\u001B[43m,\u001B[49m\n\u001B[1;32m     77\u001B[0m \u001B[43m        \u001B[49m\u001B[43msmoothing_window\u001B[49m\u001B[38;5;241;43m=\u001B[39;49m\u001B[43msmoothing_window\u001B[49m\u001B[43m,\u001B[49m\n\u001B[1;32m     78\u001B[0m \u001B[43m        \u001B[49m\u001B[43mr_window_size\u001B[49m\u001B[38;5;241;43m=\u001B[39;49m\u001B[43mr_window_size\u001B[49m\u001B[43m,\u001B[49m\n\u001B[1;32m     79\u001B[0m \u001B[43m        \u001B[49m\u001B[43mr_interval_dates\u001B[49m\u001B[38;5;241;43m=\u001B[39;49m\u001B[43mr_interval_dates\u001B[49m\u001B[43m,\u001B[49m\n\u001B[1;32m     80\u001B[0m \u001B[43m        \u001B[49m\u001B[43mn_samples\u001B[49m\u001B[38;5;241;43m=\u001B[39;49m\u001B[43mn_samples\u001B[49m\u001B[43m,\u001B[49m\n\u001B[1;32m     81\u001B[0m \u001B[43m        \u001B[49m\u001B[43mquantiles\u001B[49m\u001B[38;5;241;43m=\u001B[39;49m\u001B[43mquantiles\u001B[49m\u001B[43m,\u001B[49m\n\u001B[1;32m     82\u001B[0m \u001B[43m        \u001B[49m\u001B[43mauto_cutoff\u001B[49m\u001B[38;5;241;43m=\u001B[39;49m\u001B[43mauto_cutoff\u001B[49m\n\u001B[1;32m     83\u001B[0m \u001B[43m    \u001B[49m\u001B[43m)\u001B[49m\n",
      "File \u001B[0;32m/Library/Frameworks/Python.framework/Versions/3.10/lib/python3.10/site-packages/epyestim/main.py:145\u001B[0m, in \u001B[0;36mbagging_r\u001B[0;34m(confirmed_cases, gt_distribution, delay_distribution, a_prior, b_prior, smoothing_window, r_window_size, r_interval_dates, n_samples, quantiles, auto_cutoff)\u001B[0m\n\u001B[1;32m    143\u001B[0m bag \u001B[38;5;241m=\u001B[39m []\n\u001B[1;32m    144\u001B[0m \u001B[38;5;28;01mfor\u001B[39;00m _ \u001B[38;5;129;01min\u001B[39;00m \u001B[38;5;28mrange\u001B[39m(n_samples):\n\u001B[0;32m--> 145\u001B[0m     posterior_r \u001B[38;5;241m=\u001B[39m \u001B[43msample_r\u001B[49m\u001B[43m(\u001B[49m\n\u001B[1;32m    146\u001B[0m \u001B[43m        \u001B[49m\u001B[43mconfirmed_cases\u001B[49m\u001B[38;5;241;43m=\u001B[39;49m\u001B[43mconfirmed_cases\u001B[49m\u001B[43m,\u001B[49m\n\u001B[1;32m    147\u001B[0m \u001B[43m        \u001B[49m\u001B[43mgt_distribution\u001B[49m\u001B[38;5;241;43m=\u001B[39;49m\u001B[43mgt_distribution\u001B[49m\u001B[43m,\u001B[49m\n\u001B[1;32m    148\u001B[0m \u001B[43m        \u001B[49m\u001B[43mdelay_distribution\u001B[49m\u001B[38;5;241;43m=\u001B[39;49m\u001B[43mdelay_distribution\u001B[49m\u001B[43m,\u001B[49m\n\u001B[1;32m    149\u001B[0m \u001B[43m        \u001B[49m\u001B[43ma_prior\u001B[49m\u001B[38;5;241;43m=\u001B[39;49m\u001B[43ma_prior\u001B[49m\u001B[43m,\u001B[49m\n\u001B[1;32m    150\u001B[0m \u001B[43m        \u001B[49m\u001B[43mb_prior\u001B[49m\u001B[38;5;241;43m=\u001B[39;49m\u001B[43mb_prior\u001B[49m\u001B[43m,\u001B[49m\n\u001B[1;32m    151\u001B[0m \u001B[43m        \u001B[49m\u001B[43msmoothing_window\u001B[49m\u001B[38;5;241;43m=\u001B[39;49m\u001B[43msmoothing_window\u001B[49m\u001B[43m,\u001B[49m\n\u001B[1;32m    152\u001B[0m \u001B[43m        \u001B[49m\u001B[43mr_window_size\u001B[49m\u001B[38;5;241;43m=\u001B[39;49m\u001B[43mr_window_size\u001B[49m\u001B[43m,\u001B[49m\n\u001B[1;32m    153\u001B[0m \u001B[43m        \u001B[49m\u001B[43mr_interval_dates\u001B[49m\u001B[38;5;241;43m=\u001B[39;49m\u001B[43mr_interval_dates\u001B[49m\n\u001B[1;32m    154\u001B[0m \u001B[43m    \u001B[49m\u001B[43m)\u001B[49m\n\u001B[1;32m    155\u001B[0m     bag\u001B[38;5;241m.\u001B[39mappend(posterior_r)\n\u001B[1;32m    156\u001B[0m r_output \u001B[38;5;241m=\u001B[39m aggregate_quantiles_r(bag, quantiles)\n",
      "File \u001B[0;32m/Library/Frameworks/Python.framework/Versions/3.10/lib/python3.10/site-packages/epyestim/main.py:33\u001B[0m, in \u001B[0;36msample_r\u001B[0;34m(confirmed_cases, gt_distribution, delay_distribution, a_prior, b_prior, smoothing_window, r_window_size, r_interval_dates)\u001B[0m\n\u001B[1;32m     31\u001B[0m bs_confirmed_cases \u001B[38;5;241m=\u001B[39m bootstrap\u001B[38;5;241m.\u001B[39mbootstrap_series(confirmed_cases)\n\u001B[1;32m     32\u001B[0m sm_bs_confirmed_cases \u001B[38;5;241m=\u001B[39m smoothen\u001B[38;5;241m.\u001B[39msmoothen_series(bs_confirmed_cases, smoothing_window)\n\u001B[0;32m---> 33\u001B[0m max_likelihood_infections \u001B[38;5;241m=\u001B[39m \u001B[43mdeconvolution\u001B[49m\u001B[38;5;241;43m.\u001B[39;49m\u001B[43mdeconvolve_series\u001B[49m\u001B[43m(\u001B[49m\u001B[43msm_bs_confirmed_cases\u001B[49m\u001B[43m,\u001B[49m\u001B[43m \u001B[49m\u001B[43mdelay_distribution\u001B[49m\u001B[43m)\u001B[49m\n\u001B[1;32m     34\u001B[0m posterior_reproduction_number \u001B[38;5;241m=\u001B[39m estimate_r\u001B[38;5;241m.\u001B[39mestimate_r(\n\u001B[1;32m     35\u001B[0m     infections_ts\u001B[38;5;241m=\u001B[39mmax_likelihood_infections,\n\u001B[1;32m     36\u001B[0m     gt_distribution\u001B[38;5;241m=\u001B[39mgt_distribution,\n\u001B[0;32m   (...)\u001B[0m\n\u001B[1;32m     40\u001B[0m     boundary_dates\u001B[38;5;241m=\u001B[39mr_interval_dates\n\u001B[1;32m     41\u001B[0m )\n\u001B[1;32m     42\u001B[0m \u001B[38;5;28;01massert\u001B[39;00m \u001B[38;5;28mlen\u001B[39m(posterior_reproduction_number) \u001B[38;5;241m>\u001B[39m \u001B[38;5;241m0\u001B[39m\n",
      "File \u001B[0;32m/Library/Frameworks/Python.framework/Versions/3.10/lib/python3.10/site-packages/epyestim/deconvolution.py:75\u001B[0m, in \u001B[0;36mdeconvolve_series\u001B[0;34m(ser, delay_distrb)\u001B[0m\n\u001B[1;32m     73\u001B[0m \u001B[38;5;28;01mfor\u001B[39;00m _ \u001B[38;5;129;01min\u001B[39;00m \u001B[38;5;28mrange\u001B[39m(\u001B[38;5;241m100\u001B[39m):\n\u001B[1;32m     74\u001B[0m     exp_obs_array \u001B[38;5;241m=\u001B[39m delay_kernel\u001B[38;5;241m.\u001B[39mdot(ser_deconvolved)\n\u001B[0;32m---> 75\u001B[0m     expected_observed \u001B[38;5;241m=\u001B[39m \u001B[43mpd\u001B[49m\u001B[38;5;241;43m.\u001B[39;49m\u001B[43mSeries\u001B[49m\u001B[43m(\u001B[49m\u001B[43mexp_obs_array\u001B[49m\u001B[43m[\u001B[49m\u001B[43m(\u001B[49m\u001B[43mk\u001B[49m\u001B[43m \u001B[49m\u001B[38;5;241;43m-\u001B[39;49m\u001B[43m \u001B[49m\u001B[38;5;241;43m1\u001B[39;49m\u001B[43m)\u001B[49m\u001B[43m:\u001B[49m\u001B[43m]\u001B[49m\u001B[43m,\u001B[49m\u001B[43m \u001B[49m\u001B[43mindex\u001B[49m\u001B[38;5;241;43m=\u001B[39;49m\u001B[43mser\u001B[49m\u001B[38;5;241;43m.\u001B[39;49m\u001B[43mindex\u001B[49m\u001B[43m)\u001B[49m\n\u001B[1;32m     76\u001B[0m     mD_overE \u001B[38;5;241m=\u001B[39m delay_kernel[(k \u001B[38;5;241m-\u001B[39m \u001B[38;5;241m1\u001B[39m):, :] \u001B[38;5;241m*\u001B[39m (ser \u001B[38;5;241m/\u001B[39m expected_observed)\u001B[38;5;241m.\u001B[39mvalues\u001B[38;5;241m.\u001B[39mreshape(\u001B[38;5;241m-\u001B[39m\u001B[38;5;241m1\u001B[39m, \u001B[38;5;241m1\u001B[39m)\n\u001B[1;32m     77\u001B[0m     ser_deconvolved \u001B[38;5;241m=\u001B[39m (ser_deconvolved \u001B[38;5;241m/\u001B[39m q) \u001B[38;5;241m*\u001B[39m np\u001B[38;5;241m.\u001B[39msum(mD_overE, axis\u001B[38;5;241m=\u001B[39m\u001B[38;5;241m0\u001B[39m)\n",
      "File \u001B[0;32m/Library/Frameworks/Python.framework/Versions/3.10/lib/python3.10/site-packages/pandas/core/series.py:442\u001B[0m, in \u001B[0;36mSeries.__init__\u001B[0;34m(self, data, index, dtype, name, copy, fastpath)\u001B[0m\n\u001B[1;32m    440\u001B[0m     index \u001B[38;5;241m=\u001B[39m default_index(\u001B[38;5;28mlen\u001B[39m(data))\n\u001B[1;32m    441\u001B[0m \u001B[38;5;28;01melif\u001B[39;00m is_list_like(data):\n\u001B[0;32m--> 442\u001B[0m     \u001B[43mcom\u001B[49m\u001B[38;5;241;43m.\u001B[39;49m\u001B[43mrequire_length_match\u001B[49m\u001B[43m(\u001B[49m\u001B[43mdata\u001B[49m\u001B[43m,\u001B[49m\u001B[43m \u001B[49m\u001B[43mindex\u001B[49m\u001B[43m)\u001B[49m\n\u001B[1;32m    444\u001B[0m \u001B[38;5;66;03m# create/copy the manager\u001B[39;00m\n\u001B[1;32m    445\u001B[0m \u001B[38;5;28;01mif\u001B[39;00m \u001B[38;5;28misinstance\u001B[39m(data, (SingleBlockManager, SingleArrayManager)):\n",
      "File \u001B[0;32m/Library/Frameworks/Python.framework/Versions/3.10/lib/python3.10/site-packages/pandas/core/common.py:557\u001B[0m, in \u001B[0;36mrequire_length_match\u001B[0;34m(data, index)\u001B[0m\n\u001B[1;32m    553\u001B[0m \u001B[38;5;124;03m\"\"\"\u001B[39;00m\n\u001B[1;32m    554\u001B[0m \u001B[38;5;124;03mCheck the length of data matches the length of the index.\u001B[39;00m\n\u001B[1;32m    555\u001B[0m \u001B[38;5;124;03m\"\"\"\u001B[39;00m\n\u001B[1;32m    556\u001B[0m \u001B[38;5;28;01mif\u001B[39;00m \u001B[38;5;28mlen\u001B[39m(data) \u001B[38;5;241m!=\u001B[39m \u001B[38;5;28mlen\u001B[39m(index):\n\u001B[0;32m--> 557\u001B[0m     \u001B[38;5;28;01mraise\u001B[39;00m \u001B[38;5;167;01mValueError\u001B[39;00m(\n\u001B[1;32m    558\u001B[0m         \u001B[38;5;124m\"\u001B[39m\u001B[38;5;124mLength of values \u001B[39m\u001B[38;5;124m\"\u001B[39m\n\u001B[1;32m    559\u001B[0m         \u001B[38;5;124mf\u001B[39m\u001B[38;5;124m\"\u001B[39m\u001B[38;5;124m(\u001B[39m\u001B[38;5;132;01m{\u001B[39;00m\u001B[38;5;28mlen\u001B[39m(data)\u001B[38;5;132;01m}\u001B[39;00m\u001B[38;5;124m) \u001B[39m\u001B[38;5;124m\"\u001B[39m\n\u001B[1;32m    560\u001B[0m         \u001B[38;5;124m\"\u001B[39m\u001B[38;5;124mdoes not match length of index \u001B[39m\u001B[38;5;124m\"\u001B[39m\n\u001B[1;32m    561\u001B[0m         \u001B[38;5;124mf\u001B[39m\u001B[38;5;124m\"\u001B[39m\u001B[38;5;124m(\u001B[39m\u001B[38;5;132;01m{\u001B[39;00m\u001B[38;5;28mlen\u001B[39m(index)\u001B[38;5;132;01m}\u001B[39;00m\u001B[38;5;124m)\u001B[39m\u001B[38;5;124m\"\u001B[39m\n\u001B[1;32m    562\u001B[0m     )\n",
      "\u001B[0;31mValueError\u001B[0m: Length of values (204) does not match length of index (28)"
     ]
    }
   ],
   "source": [
    "alla_time_varying_r = covid19.r_covid(test_series)"
   ],
   "metadata": {
    "collapsed": false,
    "pycharm": {
     "name": "#%%\n"
    }
   }
  },
  {
   "cell_type": "code",
   "execution_count": 10,
   "outputs": [
    {
     "data": {
      "text/plain": "pandas.core.frame.DataFrame"
     },
     "execution_count": 10,
     "metadata": {},
     "output_type": "execute_result"
    }
   ],
   "source": [
    "alla_cases_week."
   ],
   "metadata": {
    "collapsed": false,
    "pycharm": {
     "name": "#%%\n"
    }
   }
  },
  {
   "cell_type": "code",
   "execution_count": null,
   "outputs": [],
   "source": [],
   "metadata": {
    "collapsed": false,
    "pycharm": {
     "name": "#%%\n"
    }
   }
  }
 ],
 "metadata": {
  "kernelspec": {
   "display_name": "Python 3",
   "language": "python",
   "name": "python3"
  },
  "language_info": {
   "codemirror_mode": {
    "name": "ipython",
    "version": 2
   },
   "file_extension": ".py",
   "mimetype": "text/x-python",
   "name": "python",
   "nbconvert_exporter": "python",
   "pygments_lexer": "ipython2",
   "version": "2.7.6"
  }
 },
 "nbformat": 4,
 "nbformat_minor": 0
}