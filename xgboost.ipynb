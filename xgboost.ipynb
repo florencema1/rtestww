{
 "cells": [
  {
   "cell_type": "code",
   "execution_count": 117,
   "metadata": {
    "collapsed": true,
    "pycharm": {
     "name": "#%%\n"
    }
   },
   "outputs": [],
   "source": [
    "import pandas as pd\n",
    "import numpy as np\n",
    "import matplotlib.pyplot as plt\n",
    "import scipy.stats as sc\n",
    "import statsmodels.graphics.gofplots as sm\n",
    "from sklearn.model_selection import train_test_split\n",
    "from sklearn.model_selection import RandomizedSearchCV\n",
    "from xgboost import XGBRegressor\n",
    "import shap"
   ]
  },
  {
   "cell_type": "markdown",
   "source": [
    "#### Read in data file"
   ],
   "metadata": {
    "collapsed": false,
    "pycharm": {
     "name": "#%% md\n"
    }
   }
  },
  {
   "cell_type": "code",
   "execution_count": 118,
   "outputs": [
    {
     "data": {
      "text/plain": "   Unnamed: 0         region        date  weighted_avg_sars_cov2  \\\n0           0  east midlands  2020-09-04             4059.005490   \n1           4  east midlands  2020-09-11            19439.225934   \n2           8  east midlands  2020-09-18             7492.852318   \n3          12  east midlands  2020-09-25            10268.071829   \n4          16  east midlands  2020-10-02            27035.907485   \n\n   gene_copies_per_day  regional_pop  weighted_average_r  \\\n0         4.620150e+12     2845617.0            0.900000   \n1         2.212664e+13     2845617.0            1.006763   \n2         8.528715e+12     2845617.0            1.344152   \n3         1.168760e+13     2845617.0            1.347104   \n4         3.077354e+13     2845617.0            1.348287   \n\n                                                temp  suspended_solids_mg_l  \\\n0  (235.5092972806952, 30.43365709440167, 2.52840...             235.509297   \n1  (263.3153583212358, 63.46952102127588, 3.80986...             263.315358   \n2  (343.27438302484137, 37.004473195092665, 3.686...             343.274383   \n3  (233.859240368609, 35.2568550159772, 3.4671746...             233.859240   \n4  (270.10038596198996, 37.06741033666864, 3.3799...             270.100386   \n\n   ammonia_mg_l  ophosph_mg_l  sample_ph_pre_ansis  control_gc_l_mean  \\\n0     30.433657      2.528407             7.621426       9.877322e+06   \n1     63.469521      3.809870             7.621426       9.877322e+06   \n2     37.004473      3.686831             7.621426       9.877322e+06   \n3     35.256855      3.467175             7.621426       9.877322e+06   \n4     37.067410      3.379940             7.621426       9.877322e+06   \n\n   reac_vol_control  raw_ansis_sars_repc_std  compo_frac  sars_below_lod  \\\n0               2.0                 2.194063    0.036872        0.000000   \n1               2.0                13.205521    0.036872        0.203796   \n2               2.0                 7.036485    0.036872        0.000000   \n3               2.0                 6.462055    0.036872        0.383446   \n4               2.0                44.487978    0.036872        0.383446   \n\n   sars_below_loq  reception_delay  \n0             0.0        21.787267  \n1             0.0        21.790456  \n2             0.0        21.813194  \n3             0.0        21.050134  \n4             0.0        21.674032  ",
      "text/html": "<div>\n<style scoped>\n    .dataframe tbody tr th:only-of-type {\n        vertical-align: middle;\n    }\n\n    .dataframe tbody tr th {\n        vertical-align: top;\n    }\n\n    .dataframe thead th {\n        text-align: right;\n    }\n</style>\n<table border=\"1\" class=\"dataframe\">\n  <thead>\n    <tr style=\"text-align: right;\">\n      <th></th>\n      <th>Unnamed: 0</th>\n      <th>region</th>\n      <th>date</th>\n      <th>weighted_avg_sars_cov2</th>\n      <th>gene_copies_per_day</th>\n      <th>regional_pop</th>\n      <th>weighted_average_r</th>\n      <th>temp</th>\n      <th>suspended_solids_mg_l</th>\n      <th>ammonia_mg_l</th>\n      <th>ophosph_mg_l</th>\n      <th>sample_ph_pre_ansis</th>\n      <th>control_gc_l_mean</th>\n      <th>reac_vol_control</th>\n      <th>raw_ansis_sars_repc_std</th>\n      <th>compo_frac</th>\n      <th>sars_below_lod</th>\n      <th>sars_below_loq</th>\n      <th>reception_delay</th>\n    </tr>\n  </thead>\n  <tbody>\n    <tr>\n      <th>0</th>\n      <td>0</td>\n      <td>east midlands</td>\n      <td>2020-09-04</td>\n      <td>4059.005490</td>\n      <td>4.620150e+12</td>\n      <td>2845617.0</td>\n      <td>0.900000</td>\n      <td>(235.5092972806952, 30.43365709440167, 2.52840...</td>\n      <td>235.509297</td>\n      <td>30.433657</td>\n      <td>2.528407</td>\n      <td>7.621426</td>\n      <td>9.877322e+06</td>\n      <td>2.0</td>\n      <td>2.194063</td>\n      <td>0.036872</td>\n      <td>0.000000</td>\n      <td>0.0</td>\n      <td>21.787267</td>\n    </tr>\n    <tr>\n      <th>1</th>\n      <td>4</td>\n      <td>east midlands</td>\n      <td>2020-09-11</td>\n      <td>19439.225934</td>\n      <td>2.212664e+13</td>\n      <td>2845617.0</td>\n      <td>1.006763</td>\n      <td>(263.3153583212358, 63.46952102127588, 3.80986...</td>\n      <td>263.315358</td>\n      <td>63.469521</td>\n      <td>3.809870</td>\n      <td>7.621426</td>\n      <td>9.877322e+06</td>\n      <td>2.0</td>\n      <td>13.205521</td>\n      <td>0.036872</td>\n      <td>0.203796</td>\n      <td>0.0</td>\n      <td>21.790456</td>\n    </tr>\n    <tr>\n      <th>2</th>\n      <td>8</td>\n      <td>east midlands</td>\n      <td>2020-09-18</td>\n      <td>7492.852318</td>\n      <td>8.528715e+12</td>\n      <td>2845617.0</td>\n      <td>1.344152</td>\n      <td>(343.27438302484137, 37.004473195092665, 3.686...</td>\n      <td>343.274383</td>\n      <td>37.004473</td>\n      <td>3.686831</td>\n      <td>7.621426</td>\n      <td>9.877322e+06</td>\n      <td>2.0</td>\n      <td>7.036485</td>\n      <td>0.036872</td>\n      <td>0.000000</td>\n      <td>0.0</td>\n      <td>21.813194</td>\n    </tr>\n    <tr>\n      <th>3</th>\n      <td>12</td>\n      <td>east midlands</td>\n      <td>2020-09-25</td>\n      <td>10268.071829</td>\n      <td>1.168760e+13</td>\n      <td>2845617.0</td>\n      <td>1.347104</td>\n      <td>(233.859240368609, 35.2568550159772, 3.4671746...</td>\n      <td>233.859240</td>\n      <td>35.256855</td>\n      <td>3.467175</td>\n      <td>7.621426</td>\n      <td>9.877322e+06</td>\n      <td>2.0</td>\n      <td>6.462055</td>\n      <td>0.036872</td>\n      <td>0.383446</td>\n      <td>0.0</td>\n      <td>21.050134</td>\n    </tr>\n    <tr>\n      <th>4</th>\n      <td>16</td>\n      <td>east midlands</td>\n      <td>2020-10-02</td>\n      <td>27035.907485</td>\n      <td>3.077354e+13</td>\n      <td>2845617.0</td>\n      <td>1.348287</td>\n      <td>(270.10038596198996, 37.06741033666864, 3.3799...</td>\n      <td>270.100386</td>\n      <td>37.067410</td>\n      <td>3.379940</td>\n      <td>7.621426</td>\n      <td>9.877322e+06</td>\n      <td>2.0</td>\n      <td>44.487978</td>\n      <td>0.036872</td>\n      <td>0.383446</td>\n      <td>0.0</td>\n      <td>21.674032</td>\n    </tr>\n  </tbody>\n</table>\n</div>"
     },
     "execution_count": 118,
     "metadata": {},
     "output_type": "execute_result"
    }
   ],
   "source": [
    "data = pd.read_csv(\"/Users/FM/Public/HDS/Summer Project/wastewater_r_estimation/all_var_dataset.csv\") # 198 rows only\n",
    "data.head()"
   ],
   "metadata": {
    "collapsed": false,
    "pycharm": {
     "name": "#%%\n"
    }
   }
  },
  {
   "cell_type": "markdown",
   "source": [
    "#### Univariable XGBoost Regressor"
   ],
   "metadata": {
    "collapsed": false,
    "pycharm": {
     "name": "#%% md\n"
    }
   }
  },
  {
   "cell_type": "code",
   "execution_count": 119,
   "outputs": [],
   "source": [
    "x = data.iloc[:, 3] # log weighted average RNA level\n",
    "y = data.iloc[:, 6] # weighted R estimate avg"
   ],
   "metadata": {
    "collapsed": false,
    "pycharm": {
     "name": "#%%\n"
    }
   }
  },
  {
   "cell_type": "code",
   "execution_count": 120,
   "outputs": [],
   "source": [
    "x_train, x_test, y_train, y_test = train_test_split(x, y, test_size=0.2)\n",
    "# 80% data for training and 20% for test, to follow previous paper setting (default 25% for test)\n",
    "\n",
    "params = { 'max_depth': [3, 5, 6, 10, 15, 20],\n",
    "           'learning_rate': [0.05, 0.1, 0.2, 0.3],\n",
    "           'subsample': np.arange(0.5, 1.0, 0.1),\n",
    "           'colsample_bytree': np.arange(0.4, 1.0, 0.1),\n",
    "           'colsample_bylevel': np.arange(0.4, 1.0, 0.1),\n",
    "           'n_estimators': [100, 500, 1000]}\n",
    "\n",
    "xgbr = XGBRegressor(seed = 20)\n",
    "\n",
    "clf = RandomizedSearchCV(estimator=xgbr,\n",
    "                         param_distributions=params,\n",
    "                         scoring='neg_mean_squared_error',\n",
    "                         n_iter=50,\n",
    "                         cv=5,\n",
    "                         verbose=1,\n",
    "                         return_train_score=True,\n",
    "                         random_state=42)\n",
    "\n",
    "# xg_reg = XGBRegressor(object='reg:squarederror')"
   ],
   "metadata": {
    "collapsed": false,
    "pycharm": {
     "name": "#%%\n"
    }
   }
  },
  {
   "cell_type": "code",
   "execution_count": 123,
   "outputs": [
    {
     "name": "stdout",
     "output_type": "stream",
     "text": [
      "Fitting 5 folds for each of 50 candidates, totalling 250 fits\n"
     ]
    },
    {
     "data": {
      "text/plain": "RandomizedSearchCV(cv=5,\n                   estimator=XGBRegressor(base_score=None, booster=None,\n                                          callbacks=None,\n                                          colsample_bylevel=None,\n                                          colsample_bynode=None,\n                                          colsample_bytree=None,\n                                          early_stopping_rounds=None,\n                                          enable_categorical=False,\n                                          eval_metric=None, gamma=None,\n                                          gpu_id=None, grow_policy=None,\n                                          importance_type=None,\n                                          interaction_constraints=None,\n                                          learning_rate=None, max_bin=None,\n                                          m...\n                   n_iter=50,\n                   param_distributions={'colsample_bylevel': array([0.4, 0.5, 0.6, 0.7, 0.8, 0.9]),\n                                        'colsample_bytree': array([0.4, 0.5, 0.6, 0.7, 0.8, 0.9]),\n                                        'learning_rate': [0.05, 0.1, 0.2, 0.3],\n                                        'max_depth': [3, 5, 6, 10, 15, 20],\n                                        'n_estimators': [100, 500, 1000],\n                                        'subsample': array([0.5, 0.6, 0.7, 0.8, 0.9])},\n                   random_state=42, return_train_score=True,\n                   scoring='neg_mean_squared_error', verbose=1)",
      "text/html": "<style>#sk-container-id-8 {color: black;background-color: white;}#sk-container-id-8 pre{padding: 0;}#sk-container-id-8 div.sk-toggleable {background-color: white;}#sk-container-id-8 label.sk-toggleable__label {cursor: pointer;display: block;width: 100%;margin-bottom: 0;padding: 0.3em;box-sizing: border-box;text-align: center;}#sk-container-id-8 label.sk-toggleable__label-arrow:before {content: \"▸\";float: left;margin-right: 0.25em;color: #696969;}#sk-container-id-8 label.sk-toggleable__label-arrow:hover:before {color: black;}#sk-container-id-8 div.sk-estimator:hover label.sk-toggleable__label-arrow:before {color: black;}#sk-container-id-8 div.sk-toggleable__content {max-height: 0;max-width: 0;overflow: hidden;text-align: left;background-color: #f0f8ff;}#sk-container-id-8 div.sk-toggleable__content pre {margin: 0.2em;color: black;border-radius: 0.25em;background-color: #f0f8ff;}#sk-container-id-8 input.sk-toggleable__control:checked~div.sk-toggleable__content {max-height: 200px;max-width: 100%;overflow: auto;}#sk-container-id-8 input.sk-toggleable__control:checked~label.sk-toggleable__label-arrow:before {content: \"▾\";}#sk-container-id-8 div.sk-estimator input.sk-toggleable__control:checked~label.sk-toggleable__label {background-color: #d4ebff;}#sk-container-id-8 div.sk-label input.sk-toggleable__control:checked~label.sk-toggleable__label {background-color: #d4ebff;}#sk-container-id-8 input.sk-hidden--visually {border: 0;clip: rect(1px 1px 1px 1px);clip: rect(1px, 1px, 1px, 1px);height: 1px;margin: -1px;overflow: hidden;padding: 0;position: absolute;width: 1px;}#sk-container-id-8 div.sk-estimator {font-family: monospace;background-color: #f0f8ff;border: 1px dotted black;border-radius: 0.25em;box-sizing: border-box;margin-bottom: 0.5em;}#sk-container-id-8 div.sk-estimator:hover {background-color: #d4ebff;}#sk-container-id-8 div.sk-parallel-item::after {content: \"\";width: 100%;border-bottom: 1px solid gray;flex-grow: 1;}#sk-container-id-8 div.sk-label:hover label.sk-toggleable__label {background-color: #d4ebff;}#sk-container-id-8 div.sk-serial::before {content: \"\";position: absolute;border-left: 1px solid gray;box-sizing: border-box;top: 0;bottom: 0;left: 50%;z-index: 0;}#sk-container-id-8 div.sk-serial {display: flex;flex-direction: column;align-items: center;background-color: white;padding-right: 0.2em;padding-left: 0.2em;position: relative;}#sk-container-id-8 div.sk-item {position: relative;z-index: 1;}#sk-container-id-8 div.sk-parallel {display: flex;align-items: stretch;justify-content: center;background-color: white;position: relative;}#sk-container-id-8 div.sk-item::before, #sk-container-id-8 div.sk-parallel-item::before {content: \"\";position: absolute;border-left: 1px solid gray;box-sizing: border-box;top: 0;bottom: 0;left: 50%;z-index: -1;}#sk-container-id-8 div.sk-parallel-item {display: flex;flex-direction: column;z-index: 1;position: relative;background-color: white;}#sk-container-id-8 div.sk-parallel-item:first-child::after {align-self: flex-end;width: 50%;}#sk-container-id-8 div.sk-parallel-item:last-child::after {align-self: flex-start;width: 50%;}#sk-container-id-8 div.sk-parallel-item:only-child::after {width: 0;}#sk-container-id-8 div.sk-dashed-wrapped {border: 1px dashed gray;margin: 0 0.4em 0.5em 0.4em;box-sizing: border-box;padding-bottom: 0.4em;background-color: white;}#sk-container-id-8 div.sk-label label {font-family: monospace;font-weight: bold;display: inline-block;line-height: 1.2em;}#sk-container-id-8 div.sk-label-container {text-align: center;}#sk-container-id-8 div.sk-container {/* jupyter's `normalize.less` sets `[hidden] { display: none; }` but bootstrap.min.css set `[hidden] { display: none !important; }` so we also need the `!important` here to be able to override the default hidden behavior on the sphinx rendered scikit-learn.org. See: https://github.com/scikit-learn/scikit-learn/issues/21755 */display: inline-block !important;position: relative;}#sk-container-id-8 div.sk-text-repr-fallback {display: none;}</style><div id=\"sk-container-id-8\" class=\"sk-top-container\"><div class=\"sk-text-repr-fallback\"><pre>RandomizedSearchCV(cv=5,\n                   estimator=XGBRegressor(base_score=None, booster=None,\n                                          callbacks=None,\n                                          colsample_bylevel=None,\n                                          colsample_bynode=None,\n                                          colsample_bytree=None,\n                                          early_stopping_rounds=None,\n                                          enable_categorical=False,\n                                          eval_metric=None, gamma=None,\n                                          gpu_id=None, grow_policy=None,\n                                          importance_type=None,\n                                          interaction_constraints=None,\n                                          learning_rate=None, max_bin=None,\n                                          m...\n                   n_iter=50,\n                   param_distributions={&#x27;colsample_bylevel&#x27;: array([0.4, 0.5, 0.6, 0.7, 0.8, 0.9]),\n                                        &#x27;colsample_bytree&#x27;: array([0.4, 0.5, 0.6, 0.7, 0.8, 0.9]),\n                                        &#x27;learning_rate&#x27;: [0.05, 0.1, 0.2, 0.3],\n                                        &#x27;max_depth&#x27;: [3, 5, 6, 10, 15, 20],\n                                        &#x27;n_estimators&#x27;: [100, 500, 1000],\n                                        &#x27;subsample&#x27;: array([0.5, 0.6, 0.7, 0.8, 0.9])},\n                   random_state=42, return_train_score=True,\n                   scoring=&#x27;neg_mean_squared_error&#x27;, verbose=1)</pre><b>In a Jupyter environment, please rerun this cell to show the HTML representation or trust the notebook. <br />On GitHub, the HTML representation is unable to render, please try loading this page with nbviewer.org.</b></div><div class=\"sk-container\" hidden><div class=\"sk-item sk-dashed-wrapped\"><div class=\"sk-label-container\"><div class=\"sk-label sk-toggleable\"><input class=\"sk-toggleable__control sk-hidden--visually\" id=\"sk-estimator-id-22\" type=\"checkbox\" ><label for=\"sk-estimator-id-22\" class=\"sk-toggleable__label sk-toggleable__label-arrow\">RandomizedSearchCV</label><div class=\"sk-toggleable__content\"><pre>RandomizedSearchCV(cv=5,\n                   estimator=XGBRegressor(base_score=None, booster=None,\n                                          callbacks=None,\n                                          colsample_bylevel=None,\n                                          colsample_bynode=None,\n                                          colsample_bytree=None,\n                                          early_stopping_rounds=None,\n                                          enable_categorical=False,\n                                          eval_metric=None, gamma=None,\n                                          gpu_id=None, grow_policy=None,\n                                          importance_type=None,\n                                          interaction_constraints=None,\n                                          learning_rate=None, max_bin=None,\n                                          m...\n                   n_iter=50,\n                   param_distributions={&#x27;colsample_bylevel&#x27;: array([0.4, 0.5, 0.6, 0.7, 0.8, 0.9]),\n                                        &#x27;colsample_bytree&#x27;: array([0.4, 0.5, 0.6, 0.7, 0.8, 0.9]),\n                                        &#x27;learning_rate&#x27;: [0.05, 0.1, 0.2, 0.3],\n                                        &#x27;max_depth&#x27;: [3, 5, 6, 10, 15, 20],\n                                        &#x27;n_estimators&#x27;: [100, 500, 1000],\n                                        &#x27;subsample&#x27;: array([0.5, 0.6, 0.7, 0.8, 0.9])},\n                   random_state=42, return_train_score=True,\n                   scoring=&#x27;neg_mean_squared_error&#x27;, verbose=1)</pre></div></div></div><div class=\"sk-parallel\"><div class=\"sk-parallel-item\"><div class=\"sk-item\"><div class=\"sk-label-container\"><div class=\"sk-label sk-toggleable\"><input class=\"sk-toggleable__control sk-hidden--visually\" id=\"sk-estimator-id-23\" type=\"checkbox\" ><label for=\"sk-estimator-id-23\" class=\"sk-toggleable__label sk-toggleable__label-arrow\">estimator: XGBRegressor</label><div class=\"sk-toggleable__content\"><pre>XGBRegressor(base_score=None, booster=None, callbacks=None,\n             colsample_bylevel=None, colsample_bynode=None,\n             colsample_bytree=None, early_stopping_rounds=None,\n             enable_categorical=False, eval_metric=None, gamma=None,\n             gpu_id=None, grow_policy=None, importance_type=None,\n             interaction_constraints=None, learning_rate=None, max_bin=None,\n             max_cat_to_onehot=None, max_delta_step=None, max_depth=None,\n             max_leaves=None, min_child_weight=None, missing=nan,\n             monotone_constraints=None, n_estimators=100, n_jobs=None,\n             num_parallel_tree=None, predictor=None, random_state=None,\n             reg_alpha=None, reg_lambda=None, ...)</pre></div></div></div><div class=\"sk-serial\"><div class=\"sk-item\"><div class=\"sk-estimator sk-toggleable\"><input class=\"sk-toggleable__control sk-hidden--visually\" id=\"sk-estimator-id-24\" type=\"checkbox\" ><label for=\"sk-estimator-id-24\" class=\"sk-toggleable__label sk-toggleable__label-arrow\">XGBRegressor</label><div class=\"sk-toggleable__content\"><pre>XGBRegressor(base_score=None, booster=None, callbacks=None,\n             colsample_bylevel=None, colsample_bynode=None,\n             colsample_bytree=None, early_stopping_rounds=None,\n             enable_categorical=False, eval_metric=None, gamma=None,\n             gpu_id=None, grow_policy=None, importance_type=None,\n             interaction_constraints=None, learning_rate=None, max_bin=None,\n             max_cat_to_onehot=None, max_delta_step=None, max_depth=None,\n             max_leaves=None, min_child_weight=None, missing=nan,\n             monotone_constraints=None, n_estimators=100, n_jobs=None,\n             num_parallel_tree=None, predictor=None, random_state=None,\n             reg_alpha=None, reg_lambda=None, ...)</pre></div></div></div></div></div></div></div></div></div></div>"
     },
     "execution_count": 123,
     "metadata": {},
     "output_type": "execute_result"
    }
   ],
   "source": [
    "clf.fit(x_train, y_train)"
   ],
   "metadata": {
    "collapsed": false,
    "pycharm": {
     "name": "#%%\n"
    }
   }
  },
  {
   "cell_type": "code",
   "execution_count": 12,
   "outputs": [
    {
     "data": {
      "text/plain": "XGBRegressor(base_score=0.5, booster='gbtree', callbacks=None,\n             colsample_bylevel=1, colsample_bynode=1, colsample_bytree=1,\n             early_stopping_rounds=None, enable_categorical=False,\n             eval_metric=None, gamma=0, gpu_id=-1, grow_policy='depthwise',\n             importance_type=None, interaction_constraints='',\n             learning_rate=0.300000012, max_bin=256, max_cat_to_onehot=4,\n             max_delta_step=0, max_depth=6, max_leaves=0, min_child_weight=1,\n             missing=nan, monotone_constraints='()', n_estimators=100, n_jobs=0,\n             num_parallel_tree=1, predictor='auto', random_state=0, reg_alpha=0,\n             reg_lambda=1, ...)",
      "text/html": "<style>#sk-container-id-2 {color: black;background-color: white;}#sk-container-id-2 pre{padding: 0;}#sk-container-id-2 div.sk-toggleable {background-color: white;}#sk-container-id-2 label.sk-toggleable__label {cursor: pointer;display: block;width: 100%;margin-bottom: 0;padding: 0.3em;box-sizing: border-box;text-align: center;}#sk-container-id-2 label.sk-toggleable__label-arrow:before {content: \"▸\";float: left;margin-right: 0.25em;color: #696969;}#sk-container-id-2 label.sk-toggleable__label-arrow:hover:before {color: black;}#sk-container-id-2 div.sk-estimator:hover label.sk-toggleable__label-arrow:before {color: black;}#sk-container-id-2 div.sk-toggleable__content {max-height: 0;max-width: 0;overflow: hidden;text-align: left;background-color: #f0f8ff;}#sk-container-id-2 div.sk-toggleable__content pre {margin: 0.2em;color: black;border-radius: 0.25em;background-color: #f0f8ff;}#sk-container-id-2 input.sk-toggleable__control:checked~div.sk-toggleable__content {max-height: 200px;max-width: 100%;overflow: auto;}#sk-container-id-2 input.sk-toggleable__control:checked~label.sk-toggleable__label-arrow:before {content: \"▾\";}#sk-container-id-2 div.sk-estimator input.sk-toggleable__control:checked~label.sk-toggleable__label {background-color: #d4ebff;}#sk-container-id-2 div.sk-label input.sk-toggleable__control:checked~label.sk-toggleable__label {background-color: #d4ebff;}#sk-container-id-2 input.sk-hidden--visually {border: 0;clip: rect(1px 1px 1px 1px);clip: rect(1px, 1px, 1px, 1px);height: 1px;margin: -1px;overflow: hidden;padding: 0;position: absolute;width: 1px;}#sk-container-id-2 div.sk-estimator {font-family: monospace;background-color: #f0f8ff;border: 1px dotted black;border-radius: 0.25em;box-sizing: border-box;margin-bottom: 0.5em;}#sk-container-id-2 div.sk-estimator:hover {background-color: #d4ebff;}#sk-container-id-2 div.sk-parallel-item::after {content: \"\";width: 100%;border-bottom: 1px solid gray;flex-grow: 1;}#sk-container-id-2 div.sk-label:hover label.sk-toggleable__label {background-color: #d4ebff;}#sk-container-id-2 div.sk-serial::before {content: \"\";position: absolute;border-left: 1px solid gray;box-sizing: border-box;top: 0;bottom: 0;left: 50%;z-index: 0;}#sk-container-id-2 div.sk-serial {display: flex;flex-direction: column;align-items: center;background-color: white;padding-right: 0.2em;padding-left: 0.2em;position: relative;}#sk-container-id-2 div.sk-item {position: relative;z-index: 1;}#sk-container-id-2 div.sk-parallel {display: flex;align-items: stretch;justify-content: center;background-color: white;position: relative;}#sk-container-id-2 div.sk-item::before, #sk-container-id-2 div.sk-parallel-item::before {content: \"\";position: absolute;border-left: 1px solid gray;box-sizing: border-box;top: 0;bottom: 0;left: 50%;z-index: -1;}#sk-container-id-2 div.sk-parallel-item {display: flex;flex-direction: column;z-index: 1;position: relative;background-color: white;}#sk-container-id-2 div.sk-parallel-item:first-child::after {align-self: flex-end;width: 50%;}#sk-container-id-2 div.sk-parallel-item:last-child::after {align-self: flex-start;width: 50%;}#sk-container-id-2 div.sk-parallel-item:only-child::after {width: 0;}#sk-container-id-2 div.sk-dashed-wrapped {border: 1px dashed gray;margin: 0 0.4em 0.5em 0.4em;box-sizing: border-box;padding-bottom: 0.4em;background-color: white;}#sk-container-id-2 div.sk-label label {font-family: monospace;font-weight: bold;display: inline-block;line-height: 1.2em;}#sk-container-id-2 div.sk-label-container {text-align: center;}#sk-container-id-2 div.sk-container {/* jupyter's `normalize.less` sets `[hidden] { display: none; }` but bootstrap.min.css set `[hidden] { display: none !important; }` so we also need the `!important` here to be able to override the default hidden behavior on the sphinx rendered scikit-learn.org. See: https://github.com/scikit-learn/scikit-learn/issues/21755 */display: inline-block !important;position: relative;}#sk-container-id-2 div.sk-text-repr-fallback {display: none;}</style><div id=\"sk-container-id-2\" class=\"sk-top-container\"><div class=\"sk-text-repr-fallback\"><pre>XGBRegressor(base_score=0.5, booster=&#x27;gbtree&#x27;, callbacks=None,\n             colsample_bylevel=1, colsample_bynode=1, colsample_bytree=1,\n             early_stopping_rounds=None, enable_categorical=False,\n             eval_metric=None, gamma=0, gpu_id=-1, grow_policy=&#x27;depthwise&#x27;,\n             importance_type=None, interaction_constraints=&#x27;&#x27;,\n             learning_rate=0.300000012, max_bin=256, max_cat_to_onehot=4,\n             max_delta_step=0, max_depth=6, max_leaves=0, min_child_weight=1,\n             missing=nan, monotone_constraints=&#x27;()&#x27;, n_estimators=100, n_jobs=0,\n             num_parallel_tree=1, predictor=&#x27;auto&#x27;, random_state=0, reg_alpha=0,\n             reg_lambda=1, ...)</pre><b>In a Jupyter environment, please rerun this cell to show the HTML representation or trust the notebook. <br />On GitHub, the HTML representation is unable to render, please try loading this page with nbviewer.org.</b></div><div class=\"sk-container\" hidden><div class=\"sk-item\"><div class=\"sk-estimator sk-toggleable\"><input class=\"sk-toggleable__control sk-hidden--visually\" id=\"sk-estimator-id-2\" type=\"checkbox\" checked><label for=\"sk-estimator-id-2\" class=\"sk-toggleable__label sk-toggleable__label-arrow\">XGBRegressor</label><div class=\"sk-toggleable__content\"><pre>XGBRegressor(base_score=0.5, booster=&#x27;gbtree&#x27;, callbacks=None,\n             colsample_bylevel=1, colsample_bynode=1, colsample_bytree=1,\n             early_stopping_rounds=None, enable_categorical=False,\n             eval_metric=None, gamma=0, gpu_id=-1, grow_policy=&#x27;depthwise&#x27;,\n             importance_type=None, interaction_constraints=&#x27;&#x27;,\n             learning_rate=0.300000012, max_bin=256, max_cat_to_onehot=4,\n             max_delta_step=0, max_depth=6, max_leaves=0, min_child_weight=1,\n             missing=nan, monotone_constraints=&#x27;()&#x27;, n_estimators=100, n_jobs=0,\n             num_parallel_tree=1, predictor=&#x27;auto&#x27;, random_state=0, reg_alpha=0,\n             reg_lambda=1, ...)</pre></div></div></div></div></div>"
     },
     "execution_count": 12,
     "metadata": {},
     "output_type": "execute_result"
    }
   ],
   "source": [
    "# xg_reg.fit(x_train, y_train)"
   ],
   "metadata": {
    "collapsed": false,
    "pycharm": {
     "name": "#%%\n"
    }
   }
  },
  {
   "cell_type": "code",
   "execution_count": 64,
   "outputs": [],
   "source": [
    "# Test data\n",
    "# y_pred = xg_reg.predict(x_test)\n",
    "\n",
    "y_clf = clf.predict(x_test)"
   ],
   "metadata": {
    "collapsed": false,
    "pycharm": {
     "name": "#%%\n"
    }
   }
  },
  {
   "cell_type": "code",
   "execution_count": 65,
   "outputs": [
    {
     "data": {
      "text/plain": "{'subsample': 0.7,\n 'n_estimators': 500,\n 'max_depth': 3,\n 'learning_rate': 0.01,\n 'colsample_bytree': 0.7,\n 'colsample_bylevel': 0.7}"
     },
     "execution_count": 65,
     "metadata": {},
     "output_type": "execute_result"
    }
   ],
   "source": [
    "clf.best_params_"
   ],
   "metadata": {
    "collapsed": false,
    "pycharm": {
     "name": "#%%\n"
    }
   }
  },
  {
   "cell_type": "code",
   "execution_count": 66,
   "outputs": [],
   "source": [
    "from sklearn.metrics import mean_squared_error\n",
    "mse = mean_squared_error(y_test, y_clf)"
   ],
   "metadata": {
    "collapsed": false,
    "pycharm": {
     "name": "#%%\n"
    }
   }
  },
  {
   "cell_type": "code",
   "execution_count": 67,
   "outputs": [
    {
     "name": "stdout",
     "output_type": "stream",
     "text": [
      "MSE: 0.04\n"
     ]
    }
   ],
   "source": [
    "print(\"MSE: %0.2f\" % (mse))"
   ],
   "metadata": {
    "collapsed": false,
    "pycharm": {
     "name": "#%%\n"
    }
   }
  },
  {
   "cell_type": "code",
   "execution_count": 68,
   "outputs": [
    {
     "name": "stdout",
     "output_type": "stream",
     "text": [
      "RMSE: 0.21\n"
     ]
    }
   ],
   "source": [
    "rmse = np.sqrt(mse)\n",
    "print (\"RMSE: %0.2f\" % (rmse))"
   ],
   "metadata": {
    "collapsed": false,
    "pycharm": {
     "name": "#%%\n"
    }
   }
  },
  {
   "cell_type": "code",
   "execution_count": 69,
   "outputs": [],
   "source": [
    "from sklearn.model_selection import cross_val_score\n",
    "model = XGBRegressor(objective = \"reg:squarederror\")\n",
    "scores = cross_val_score(model, x, y,\n",
    "                         scoring = \"neg_mean_squared_error\",\n",
    "                         cv = 10)"
   ],
   "metadata": {
    "collapsed": false,
    "pycharm": {
     "name": "#%%\n"
    }
   }
  },
  {
   "cell_type": "code",
   "execution_count": 77,
   "outputs": [
    {
     "data": {
      "text/plain": "<Figure size 432x288 with 1 Axes>",
      "image/png": "[encoded data removed]"
     },
     "metadata": {
      "needs_background": "light"
     },
     "output_type": "display_data"
    },
    {
     "ename": "AttributeError",
     "evalue": "'RandomizedSearchCV' object has no attribute 'get_dump'",
     "output_type": "error",
     "traceback": [
      "\u001B[0;31m---------------------------------------------------------------------------\u001B[0m",
      "\u001B[0;31mAttributeError\u001B[0m                            Traceback (most recent call last)",
      "Input \u001B[0;32mIn [77]\u001B[0m, in \u001B[0;36m<cell line: 10>\u001B[0;34m()\u001B[0m\n\u001B[1;32m      8\u001B[0m \u001B[38;5;28;01mfrom\u001B[39;00m \u001B[38;5;21;01mxgboost\u001B[39;00m \u001B[38;5;28;01mimport\u001B[39;00m plot_tree\n\u001B[1;32m      9\u001B[0m plt\u001B[38;5;241m.\u001B[39mfigure()\n\u001B[0;32m---> 10\u001B[0m \u001B[43mplot_tree\u001B[49m\u001B[43m(\u001B[49m\u001B[43mclf\u001B[49m\u001B[43m,\u001B[49m\u001B[43m \u001B[49m\u001B[43mnum_trees\u001B[49m\u001B[38;5;241;43m=\u001B[39;49m\u001B[38;5;241;43m0\u001B[39;49m\u001B[43m)\u001B[49m\n",
      "File \u001B[0;32m/Library/Frameworks/Python.framework/Versions/3.10/lib/python3.10/site-packages/xgboost/plotting.py:247\u001B[0m, in \u001B[0;36mplot_tree\u001B[0;34m(booster, fmap, num_trees, rankdir, ax, **kwargs)\u001B[0m\n\u001B[1;32m    244\u001B[0m \u001B[38;5;28;01mif\u001B[39;00m ax \u001B[38;5;129;01mis\u001B[39;00m \u001B[38;5;28;01mNone\u001B[39;00m:\n\u001B[1;32m    245\u001B[0m     _, ax \u001B[38;5;241m=\u001B[39m plt\u001B[38;5;241m.\u001B[39msubplots(\u001B[38;5;241m1\u001B[39m, \u001B[38;5;241m1\u001B[39m)\n\u001B[0;32m--> 247\u001B[0m g \u001B[38;5;241m=\u001B[39m \u001B[43mto_graphviz\u001B[49m\u001B[43m(\u001B[49m\u001B[43mbooster\u001B[49m\u001B[43m,\u001B[49m\u001B[43m \u001B[49m\u001B[43mfmap\u001B[49m\u001B[38;5;241;43m=\u001B[39;49m\u001B[43mfmap\u001B[49m\u001B[43m,\u001B[49m\u001B[43m \u001B[49m\u001B[43mnum_trees\u001B[49m\u001B[38;5;241;43m=\u001B[39;49m\u001B[43mnum_trees\u001B[49m\u001B[43m,\u001B[49m\u001B[43m \u001B[49m\u001B[43mrankdir\u001B[49m\u001B[38;5;241;43m=\u001B[39;49m\u001B[43mrankdir\u001B[49m\u001B[43m,\u001B[49m\n\u001B[1;32m    248\u001B[0m \u001B[43m                \u001B[49m\u001B[38;5;241;43m*\u001B[39;49m\u001B[38;5;241;43m*\u001B[39;49m\u001B[43mkwargs\u001B[49m\u001B[43m)\u001B[49m\n\u001B[1;32m    250\u001B[0m s \u001B[38;5;241m=\u001B[39m BytesIO()\n\u001B[1;32m    251\u001B[0m s\u001B[38;5;241m.\u001B[39mwrite(g\u001B[38;5;241m.\u001B[39mpipe(\u001B[38;5;28mformat\u001B[39m\u001B[38;5;241m=\u001B[39m\u001B[38;5;124m'\u001B[39m\u001B[38;5;124mpng\u001B[39m\u001B[38;5;124m'\u001B[39m))\n",
      "File \u001B[0;32m/Library/Frameworks/Python.framework/Versions/3.10/lib/python3.10/site-packages/xgboost/plotting.py:208\u001B[0m, in \u001B[0;36mto_graphviz\u001B[0;34m(booster, fmap, num_trees, rankdir, yes_color, no_color, condition_node_params, leaf_node_params, **kwargs)\u001B[0m\n\u001B[1;32m    206\u001B[0m     parameters \u001B[38;5;241m+\u001B[39m\u001B[38;5;241m=\u001B[39m \u001B[38;5;124m'\u001B[39m\u001B[38;5;124m:\u001B[39m\u001B[38;5;124m'\u001B[39m\n\u001B[1;32m    207\u001B[0m     parameters \u001B[38;5;241m+\u001B[39m\u001B[38;5;241m=\u001B[39m json\u001B[38;5;241m.\u001B[39mdumps(kwargs)\n\u001B[0;32m--> 208\u001B[0m tree \u001B[38;5;241m=\u001B[39m \u001B[43mbooster\u001B[49m\u001B[38;5;241;43m.\u001B[39;49m\u001B[43mget_dump\u001B[49m(\n\u001B[1;32m    209\u001B[0m     fmap\u001B[38;5;241m=\u001B[39mfmap,\n\u001B[1;32m    210\u001B[0m     dump_format\u001B[38;5;241m=\u001B[39mparameters)[num_trees]\n\u001B[1;32m    211\u001B[0m g \u001B[38;5;241m=\u001B[39m Source(tree)\n\u001B[1;32m    212\u001B[0m \u001B[38;5;28;01mreturn\u001B[39;00m g\n",
      "\u001B[0;31mAttributeError\u001B[0m: 'RandomizedSearchCV' object has no attribute 'get_dump'"
     ]
    },
    {
     "data": {
      "text/plain": "<Figure size 432x288 with 0 Axes>"
     },
     "metadata": {},
     "output_type": "display_data"
    },
    {
     "data": {
      "text/plain": "<Figure size 432x288 with 1 Axes>",
      "image/png": "[encoded data removed]"
     },
     "metadata": {
      "needs_background": "light"
     },
     "output_type": "display_data"
    }
   ],
   "source": [
    "# Plot actual vs predicted\n",
    "plt.figure()\n",
    "plt.plot(list(y_test))\n",
    "plt.plot(list(y_clf))\n",
    "plt.title(\"Actual vs Predicted\")\n",
    "plt.show()\n",
    "\n",
    "from xgboost import plot_tree\n",
    "plt.figure()\n",
    "plot_tree(clf, num_trees=0)"
   ],
   "metadata": {
    "collapsed": false,
    "pycharm": {
     "name": "#%%\n"
    }
   }
  },
  {
   "cell_type": "code",
   "execution_count": 47,
   "outputs": [
    {
     "data": {
      "text/plain": "10"
     },
     "execution_count": 47,
     "metadata": {},
     "output_type": "execute_result"
    },
    {
     "data": {
      "text/plain": "<Figure size 432x288 with 1 Axes>",
      "image/png": "[encoded data removed]"
     },
     "metadata": {
      "needs_background": "light"
     },
     "output_type": "display_data"
    }
   ],
   "source": [
    "rmse = np.sqrt(-scores)\n",
    "plt.hist(rmse, 75, range=(-2, 2))\n",
    "plt.xlabel('Root Mean Squared Error')\n",
    "rmse.size"
   ],
   "metadata": {
    "collapsed": false,
    "pycharm": {
     "name": "#%%\n"
    }
   }
  },
  {
   "cell_type": "code",
   "execution_count": 20,
   "outputs": [
    {
     "data": {
      "text/plain": "array([1.175504  , 1.1036234 , 1.1531628 , 1.0546014 , 1.1658897 ,\n       1.1960026 , 1.1493144 , 1.1176854 , 1.237567  , 1.1741229 ,\n       1.1496068 , 1.2624844 , 1.1741229 , 1.1278862 , 1.1324515 ,\n       1.2351696 , 1.2624844 , 1.1173939 , 1.0898972 , 1.0968841 ,\n       1.1154583 , 1.1126304 , 1.166651  , 1.0740116 , 1.043626  ,\n       1.0888169 , 1.0898972 , 1.2181538 , 1.1292781 , 1.1555694 ,\n       1.0662774 , 1.0501597 , 1.2663288 , 1.1359788 , 1.0691574 ,\n       1.0531514 , 1.0455751 , 1.2019953 , 1.0635645 , 1.2681226 ,\n       1.1330957 , 1.1292781 , 1.1154583 , 1.161855  , 1.0501597 ,\n       1.175504  , 1.1787837 , 1.0792197 , 1.037764  , 1.2187647 ,\n       1.0443981 , 1.126312  , 1.1324515 , 1.187301  , 1.1324515 ,\n       1.1086509 , 1.0724388 , 1.0057468 , 1.087938  , 1.0531514 ,\n       1.187301  , 1.0732139 , 1.1150471 , 1.2415366 , 1.0974656 ,\n       1.1363951 , 1.2179042 , 1.1303844 , 1.1847874 , 1.2205716 ,\n       1.0968841 , 1.0620875 , 1.1913569 , 1.0609392 , 1.0501597 ,\n       1.100469  , 1.0888169 , 1.2179042 , 0.96707654, 1.1106112 ,\n       1.1414822 , 1.2670739 , 1.1435577 , 1.0300698 , 1.2234418 ,\n       1.2518023 , 1.1036234 , 1.237567  , 1.0192037 , 1.1324515 ,\n       1.1106021 , 1.1282567 , 1.074377  , 1.1415524 , 1.0888169 ,\n       1.2179042 , 1.1014892 , 1.085002  , 1.1173939 , 1.2052107 ,\n       1.1324515 , 1.2310965 , 1.0546014 , 1.1865368 , 1.0250546 ,\n       1.1120394 , 1.0519248 , 1.0685897 , 1.0614576 , 1.0635645 ,\n       1.1228524 , 0.943938  , 1.2321082 , 1.1570528 , 1.0455751 ,\n       1.1106021 , 1.1890262 , 1.2276341 , 1.2351696 , 1.1226262 ,\n       1.2496911 , 1.0622263 , 1.1972749 , 1.1220341 , 1.0648172 ,\n       1.1470836 , 1.1972749 , 0.943938  , 0.9673947 , 1.1150471 ,\n       1.1173939 , 1.2458861 , 1.1435577 , 1.1637697 , 1.1940804 ,\n       1.1470836 , 1.1217762 , 1.075627  , 1.1975055 , 1.0888169 ,\n       1.0964853 , 1.075627  , 1.1555694 , 1.1470836 , 1.1542419 ,\n       1.1128527 , 1.2276341 , 1.1036234 , 1.1421102 , 1.2518023 ,\n       1.1032963 , 1.1694261 , 1.1418408 , 1.1637697 , 1.1661975 ,\n       1.1703662 , 1.0250546 , 1.1202109 , 1.0867754 , 1.1972749 ,\n       1.1890262 , 1.0439268 , 1.1292781 , 1.0799581 , 1.0439268 ,\n       1.1962168 , 1.100469  , 1.1700053 , 1.1940804 , 1.1681943 ,\n       1.1786268 , 1.2426194 , 1.268864  , 1.1282567 , 1.1195412 ,\n       1.1303844 , 1.0964853 , 1.0888169 , 1.1368433 , 1.1036234 ,\n       1.1150471 , 1.1292781 , 1.0689715 , 1.1778531 , 1.100636  ,\n       1.0182621 , 1.1913569 , 1.1778531 , 1.0888169 , 1.1122288 ,\n       1.0692396 , 1.2030681 , 1.1122978 , 1.075627  , 1.0192037 ,\n       1.0891619 , 1.1661975 , 1.2254084 , 1.1375784 , 1.1982969 ,\n       1.1000842 , 1.0811216 , 1.1957655 , 1.1023086 , 1.1563615 ,\n       1.0648172 , 1.0057468 , 1.1524256 , 1.1188296 , 1.0799581 ,\n       1.2366506 , 1.046651  , 1.0609392 , 1.1359788 , 1.2053257 ,\n       1.0402888 , 1.2624844 , 1.0797275 , 0.990122  , 1.100636  ,\n       1.1036234 , 1.2254084 , 1.0888169 , 1.1000842 , 1.0614576 ,\n       1.1359788 , 1.0635645 , 1.1120394 , 1.1300327 , 1.0192037 ,\n       1.1754242 , 1.1173939 , 1.0461088 , 1.1363951 , 1.1607612 ,\n       1.1871245 , 1.0892657 , 1.2925243 , 1.1962168 , 1.0635645 ,\n       1.1940804 , 1.1188296 , 1.1478866 , 1.1363951 , 1.1359788 ,\n       1.0732139 , 1.1681943 , 1.1524256 , 1.0875503 , 1.0380777 ,\n       0.9912306 , 1.2179042 , 1.1303844 , 1.100636  , 1.0250546 ,\n       1.0635645 , 1.074377  , 1.1173655 , 1.1366372 , 1.1637697 ,\n       0.9797835 , 1.2684412 , 1.1754242 , 1.0888169 , 1.1496068 ,\n       1.0634515 , 0.99298114, 1.0888169 , 1.1673571 , 1.1806029 ,\n       1.0439268 , 1.1023086 , 1.1894318 , 1.0369917 , 1.0635645 ,\n       1.0888169 , 1.1324515 , 1.1104689 , 1.1997688 , 1.0888169 ,\n       1.0439268 , 1.1435577 , 1.0439268 , 1.2051777 , 1.0426748 ,\n       1.1122978 , 1.0439268 , 1.0685897 , 1.2051777 , 1.2548147 ,\n       1.1913569 , 1.0328139 , 1.0692396 , 1.0695939 , 1.1154583 ,\n       1.1803238 , 1.2700227 , 1.2384555 , 1.1032963 , 1.19688   ,\n       1.1817064 , 1.1217762 , 1.117905  , 1.0719109 , 1.0614865 ,\n       1.1549004 , 1.2179042 , 1.0680095 , 1.0934167 , 1.2005552 ,\n       1.0888169 , 1.075627  , 1.1758032 , 1.1962168 , 1.1817064 ,\n       1.1612855 , 1.258852  , 1.1913569 , 1.1324515 , 1.2397829 ,\n       1.1173655 , 1.1681943 , 1.1470836 , 1.0519474 , 1.1220341 ,\n       0.9797835 , 1.100469  , 1.1036234 , 1.0634515 , 1.0921199 ,\n       1.0736563 , 0.9903108 , 1.0648172 , 1.1195412 , 1.1960863 ,\n       1.2265713 , 1.2351696 , 1.2254084 , 1.1137471 , 1.1032963 ,\n       1.0614576 , 1.0732139 , 1.1426858 , 1.2179042 , 1.0792197 ,\n       1.1414822 , 1.166651  , 1.2389379 , 1.1137471 , 1.2276341 ,\n       1.1278862 , 1.1817064 , 1.0799581 , 1.2321082 , 1.2700227 ,\n       1.2230278 , 1.2142425 , 1.1292781 , 1.187301  , 1.0635645 ],\n      dtype=float32)"
     },
     "execution_count": 20,
     "metadata": {},
     "output_type": "execute_result"
    }
   ],
   "source": [
    "# Plot predicted R values\n",
    "y_clf"
   ],
   "metadata": {
    "collapsed": false,
    "pycharm": {
     "name": "#%%\n"
    }
   }
  },
  {
   "cell_type": "markdown",
   "source": [
    "#### UKHSA Model"
   ],
   "metadata": {
    "collapsed": false,
    "pycharm": {
     "name": "#%% md\n"
    }
   }
  },
  {
   "cell_type": "code",
   "execution_count": 92,
   "outputs": [],
   "source": [
    "sample_variables = ['weighted_avg_sars_cov2',\n",
    "                    'suspended_solids_mg_l', 'ammonia_mg_l', 'ophosph_mg_l',\n",
    "                    'sample_ph_pre_ansis',\n",
    "                    'control_gc_l_mean', 'reac_vol_control', #\"reac_vol_sars\",\n",
    "                    # 'raw_ansis_sars_repc_1', 'raw_ansis_sars_repc_2',\n",
    "                    #'raw_ansis_sars_repc_mean',\n",
    "                    'raw_ansis_sars_repc_std',\n",
    "                    'compo_frac',\n",
    "                    #'sars_below_lod', 'sars_below_loq',\n",
    "                    'reception_delay'#,\n",
    "                    #                    'ww_site_code',  # try here?\n",
    "                    #                     'date',\n",
    "                    #                   'analysis_lab_code',\n",
    "                    #'lab_analysis_1.1.1', 'lab_analysis_1.1.2',\n",
    "                    #'target_gene_N1'\n",
    "                    ]\n",
    "\n",
    "site_variables = [\n",
    "    'catchment_population_ons_mid_2019',\n",
    "    'catchment_area'\n",
    "    #                   ,'site_skey',  # numeric so should be ok.\n",
    "    #                   'ww_site_code',\n",
    "    #                   'water_company_AE',\n",
    "    #                   'water_company_AW', 'water_company_NW', 'water_company_ST',\n",
    "    #                   'water_company_SW', 'water_company_SWS', 'water_company_TW',\n",
    "    #                   'water_company_UU', 'water_company_WW', 'water_company_WXW',\n",
    "    #                   'water_company_YW'\n",
    "]\n",
    "\n",
    "cis_variables = ['catch_in_cis_prop', 'catch_cis_population'\n",
    "                 #             ,'cis_population'\n",
    "                 ]\n",
    "\n",
    "all_variables = sample_variables + site_variables + cis_variables"
   ],
   "metadata": {
    "collapsed": false,
    "pycharm": {
     "name": "#%%\n"
    }
   }
  },
  {
   "cell_type": "code",
   "execution_count": 93,
   "outputs": [],
   "source": [
    "dict_models = dict(xgb = XGBRegressor())\n",
    "\n",
    "model_variables = dict(xgb = sample_variables)\n",
    "\n",
    "model_labels = {'xgb': 'Gradient Boosted'}"
   ],
   "metadata": {
    "collapsed": false,
    "pycharm": {
     "name": "#%%\n"
    }
   }
  },
  {
   "cell_type": "code",
   "execution_count": 110,
   "outputs": [],
   "source": [
    "def partial_dependency(model, X, features, selected_feature):\n",
    "    # The model could be an XGBoost sklearn fitted instance (or anything else with a\n",
    "    # predict method)\n",
    "    X_temp = X.copy()\n",
    "    # Works only for numerical features. Find something else for categorical features.\n",
    "    grid = np.linspace(np.percentile(X_temp.loc[:, selected_feature], 0.1),\n",
    "                       np.percentile(X_temp.loc[:, selected_feature], 99.5),\n",
    "                       50)\n",
    "    y_pred = np.zeros(len(grid))\n",
    "\n",
    "    for i, val in enumerate(grid):\n",
    "        X_temp.loc[:, selected_feature] = val\n",
    "        y_pred[i] = model.predict(X_temp.loc[:, features]).mean()\n",
    "\n",
    "    return grid, y_pred"
   ],
   "metadata": {
    "collapsed": false,
    "pycharm": {
     "name": "#%%\n"
    }
   }
  },
  {
   "cell_type": "code",
   "execution_count": 111,
   "outputs": [
    {
     "ename": "NameError",
     "evalue": "name 'df' is not defined",
     "output_type": "error",
     "traceback": [
      "\u001B[0;31m---------------------------------------------------------------------------\u001B[0m",
      "\u001B[0;31mNameError\u001B[0m                                 Traceback (most recent call last)",
      "Input \u001B[0;32mIn [111]\u001B[0m, in \u001B[0;36m<cell line: 5>\u001B[0;34m()\u001B[0m\n\u001B[1;32m      1\u001B[0m \u001B[38;5;28;01mfrom\u001B[39;00m \u001B[38;5;21;01msklearn\u001B[39;00m\u001B[38;5;21;01m.\u001B[39;00m\u001B[38;5;21;01minspection\u001B[39;00m \u001B[38;5;28;01mimport\u001B[39;00m plot_partial_dependence\n\u001B[1;32m      3\u001B[0m model_name \u001B[38;5;241m=\u001B[39m \u001B[38;5;124m\"\u001B[39m\u001B[38;5;124mxgb\u001B[39m\u001B[38;5;124m\"\u001B[39m\n\u001B[0;32m----> 5\u001B[0m dataset \u001B[38;5;241m=\u001B[39m Dataset(\u001B[43mdf\u001B[49m\u001B[38;5;241m.\u001B[39mset_index([\u001B[38;5;124m'\u001B[39m\u001B[38;5;124mregion\u001B[39m\u001B[38;5;124m'\u001B[39m, \u001B[38;5;124m'\u001B[39m\u001B[38;5;124mdate\u001B[39m\u001B[38;5;124m'\u001B[39m]), model_variables[model_name],\n\u001B[1;32m      6\u001B[0m                   \u001B[38;5;124m'\u001B[39m\u001B[38;5;124mavg_r_avg\u001B[39m\u001B[38;5;124m'\u001B[39m, input_offset\u001B[38;5;241m=\u001B[39m\u001B[38;5;241m0.001\u001B[39m)\n\u001B[1;32m      7\u001B[0m x, y \u001B[38;5;241m=\u001B[39m dataset\u001B[38;5;241m.\u001B[39mprepare_no_split()\n\u001B[1;32m      8\u001B[0m model \u001B[38;5;241m=\u001B[39m dict_models[model_name]\n",
      "\u001B[0;31mNameError\u001B[0m: name 'df' is not defined"
     ]
    }
   ],
   "source": [
    "from sklearn.inspection import plot_partial_dependence\n",
    "\n",
    "model_name = \"xgb\"\n",
    "\n",
    "dataset = Dataset(df.set_index(['region', 'date']), model_variables[model_name],\n",
    "                  'avg_r_avg', input_offset=0.001)\n",
    "x, y = dataset.prepare_no_split()\n",
    "model = dict_models[model_name]\n",
    "model.fit(x, y)\n",
    "\n",
    "# f, ax = plt.subplots(figsize=(15,15))\n",
    "variables_to_plot = ['sars_cov2_gc_l_mean', 'suspended_solids_mg_l', 'ammonia_mg_l',\n",
    "                     'ophosph_mg_l', 'sample_ph_pre_ansis', 'control_gc_l_mean','compo_frac',  'sars_below_loq',\n",
    "                     'reception_delay', 'catchment_population_ons_mid_2019',\n",
    "                     'catchment_area', 'catch_in_cis_prop'] #, 'catch_cis_population']\n",
    "\n",
    "f, axes = plt.subplots(3, 4, figsize=(16,12), sharey=True)\n",
    "\n",
    "for ax, selected_feature in zip(axes.flatten(), variables_to_plot):\n",
    "    try:\n",
    "        grid, out = partial_dependency(model, x, x.columns, selected_feature)\n",
    "        ax.plot(grid, out)\n",
    "        ax.set_xlabel(variable_labels[selected_feature], fontsize=15)\n",
    "        ax.set_ylabel('Average R estimate', fontsize=14)\n",
    "    except KeyError:\n",
    "        continue\n",
    "plt.tight_layout()"
   ],
   "metadata": {
    "collapsed": false,
    "pycharm": {
     "name": "#%%\n"
    }
   }
  },
  {
   "cell_type": "code",
   "execution_count": 94,
   "outputs": [
    {
     "name": "stderr",
     "output_type": "stream",
     "text": [
      "100%|██████████| 50/50 [00:03<00:00, 15.47it/s]\n"
     ]
    }
   ],
   "source": [
    "# Bootstrap predictions\n",
    "from ml_utils import bootstrap, Dataset\n",
    "\n",
    "repeat = 50\n",
    "preds_bootstrap = {}\n",
    "\n",
    "models = ['xgb'] # remove some models as desired, as RE can be long for example\n",
    "\n",
    "for model_name in models:\n",
    "    dataset = Dataset(data.set_index(['date']), model_variables[model_name],\n",
    "                      'r_avg', input_offset=0.001) #'median_prob' refers to prevalence still\n",
    "    x, y = dataset.prepare_no_split()\n",
    "    preds_bootstrap[model_name] = bootstrap(dict_models[model_name], x, y, repeat=repeat)"
   ],
   "metadata": {
    "collapsed": false,
    "pycharm": {
     "name": "#%%\n"
    }
   }
  },
  {
   "cell_type": "code",
   "execution_count": 95,
   "outputs": [],
   "source": [
    "# Computing Mean and SE of errors\n",
    "\n",
    "dict_pred = {model_name: preds_bootstrap[model_name].mean(1) for model_name in preds_bootstrap}\n",
    "# dict_pred_natural = {model_name: 10**preds_bootstrap[model_name].mean(1) for model_name in preds_bootstrap}\n",
    "dict_se = {model_name: pred.std(1)/np.sqrt(repeat - np.isnan(pred).sum(1)) for model_name, pred in preds_bootstrap.items()}\n",
    "dict_se_natural = {model_name: 10**pred.std(1)/np.sqrt(repeat - np.isnan(pred).sum(1)) for model_name, pred in preds_bootstrap.items()}"
   ],
   "metadata": {
    "collapsed": false,
    "pycharm": {
     "name": "#%%\n"
    }
   }
  },
  {
   "cell_type": "code",
   "execution_count": 96,
   "outputs": [
    {
     "name": "stdout",
     "output_type": "stream",
     "text": [
      "mean absolute error 0.0643\n",
      "median absolute error 0.0539\n",
      "q95 absolute error 0.1461\n",
      "\n",
      "Natural space\n",
      "median relative error 12.7871\n",
      "q95 relative error 38.0941\n",
      "median absolute error 13.4724\n",
      "q95 absolute error 38.5799\n"
     ]
    },
    {
     "data": {
      "text/plain": "<Figure size 432x288 with 1 Axes>",
      "image/png": "[encoded data removed]"
     },
     "metadata": {
      "needs_background": "light"
     },
     "output_type": "display_data"
    },
    {
     "data": {
      "text/plain": "Text(0.5, 0, 'signed error (Re)')"
     },
     "execution_count": 96,
     "metadata": {},
     "output_type": "execute_result"
    },
    {
     "data": {
      "text/plain": "<Figure size 432x288 with 1 Axes>",
      "image/png": "[encoded data removed]"
     },
     "metadata": {
      "needs_background": "light"
     },
     "output_type": "display_data"
    }
   ],
   "source": [
    "# Error for xgb\n",
    "\n",
    "print(f'mean absolute error {np.abs((dict_pred[model_name]-y)).mean():.4f}')\n",
    "print(f'median absolute error {np.abs((dict_pred[model_name]-y)).median():.4f}')\n",
    "print(f'q95 absolute error {np.quantile(np.abs((dict_pred[model_name]-y)), 0.95):.4f}')\n",
    "\n",
    "# Natural space\n",
    "print('\\nNatural space')\n",
    "print(f'median relative error {np.abs((10**dict_pred[model_name]-10**y)/10**y).median()*100:.4f}')\n",
    "print(f'q95 relative error {np.quantile(np.abs((10**dict_pred[model_name]-10**y)/10**y), 0.95)*100:.4f}')\n",
    "\n",
    "print(f'median absolute error {np.abs((10**dict_pred[model_name]-10**y)).median()*100:.4f}')\n",
    "print(f'q95 absolute error {np.quantile(np.abs((10**dict_pred[model_name]-10**y)), 0.95)*100:.4f}')\n",
    "\n",
    "plt.hist((10**dict_pred[model_name]-10**y)/10**y, 75, range=(-3, 3))\n",
    "plt.xlabel('relative error')\n",
    "plt.show()\n",
    "\n",
    "plt.hist((10**dict_pred[model_name]-10**y), 50, range=(-3,3))\n",
    "plt.xlabel('signed error (Re)')"
   ],
   "metadata": {
    "collapsed": false,
    "pycharm": {
     "name": "#%%\n"
    }
   }
  },
  {
   "cell_type": "code",
   "execution_count": 27,
   "outputs": [
    {
     "data": {
      "text/plain": "{'xgb':             boot_0    boot_1    boot_2    boot_3    boot_4  boot_5    boot_6  \\\n date                                                                           \n 2020-09-04     NaN -0.005711       NaN       NaN       NaN     NaN       NaN   \n 2020-09-05     NaN       NaN -0.006803 -0.011435       NaN     NaN -0.019845   \n 2020-09-06     NaN       NaN       NaN       NaN       NaN     NaN -0.019845   \n 2020-09-07     NaN -0.043454       NaN       NaN       NaN     NaN       NaN   \n 2020-09-08     NaN       NaN       NaN       NaN       NaN     NaN       NaN   \n ...            ...       ...       ...       ...       ...     ...       ...   \n 2021-02-06     NaN       NaN  0.000294  0.089752 -0.000998     NaN       NaN   \n 2021-02-07     NaN       NaN       NaN       NaN       NaN     NaN       NaN   \n 2021-02-08     NaN       NaN       NaN  0.079592       NaN     NaN       NaN   \n 2021-02-09     NaN       NaN       NaN       NaN       NaN     NaN       NaN   \n 2021-02-10     NaN  0.021486       NaN       NaN       NaN     NaN       NaN   \n \n               boot_7    boot_8    boot_9  ...   boot_40   boot_41   boot_42  \\\n date                                      ...                                 \n 2020-09-04       NaN       NaN       NaN  ...       NaN -0.007975 -0.007980   \n 2020-09-05 -0.020943       NaN       NaN  ...       NaN       NaN       NaN   \n 2020-09-06 -0.020943       NaN       NaN  ...       NaN       NaN       NaN   \n 2020-09-07       NaN       NaN       NaN  ...       NaN       NaN       NaN   \n 2020-09-08 -0.051656       NaN -0.059414  ...       NaN       NaN -0.066991   \n ...              ...       ...       ...  ...       ...       ...       ...   \n 2021-02-06       NaN       NaN       NaN  ...       NaN       NaN       NaN   \n 2021-02-07  0.086680       NaN       NaN  ...  0.084951       NaN       NaN   \n 2021-02-08       NaN  0.080318       NaN  ...       NaN       NaN       NaN   \n 2021-02-09       NaN       NaN       NaN  ...       NaN       NaN       NaN   \n 2021-02-10 -0.020943       NaN       NaN  ...       NaN       NaN       NaN   \n \n             boot_43   boot_44   boot_45   boot_46   boot_47   boot_48  \\\n date                                                                    \n 2020-09-04      NaN -0.009099 -0.008319       NaN       NaN       NaN   \n 2020-09-05      NaN       NaN       NaN -0.007253       NaN       NaN   \n 2020-09-06      NaN -0.009099       NaN       NaN -0.014099       NaN   \n 2020-09-07      NaN       NaN       NaN  0.001375       NaN       NaN   \n 2020-09-08      NaN       NaN       NaN       NaN       NaN -0.075342   \n ...             ...       ...       ...       ...       ...       ...   \n 2021-02-06      NaN       NaN  0.006032       NaN       NaN       NaN   \n 2021-02-07      NaN  0.083567  0.051329  0.091171       NaN       NaN   \n 2021-02-08      NaN  0.073115       NaN  0.081628       NaN       NaN   \n 2021-02-09      NaN       NaN       NaN  0.034577       NaN       NaN   \n 2021-02-10      NaN       NaN       NaN       NaN       NaN -0.012878   \n \n              boot_49  \n date                  \n 2020-09-04       NaN  \n 2020-09-05 -0.007396  \n 2020-09-06       NaN  \n 2020-09-07       NaN  \n 2020-09-08       NaN  \n ...              ...  \n 2021-02-06       NaN  \n 2021-02-07       NaN  \n 2021-02-08       NaN  \n 2021-02-09       NaN  \n 2021-02-10       NaN  \n \n [1440 rows x 50 columns]}"
     },
     "execution_count": 27,
     "metadata": {},
     "output_type": "execute_result"
    }
   ],
   "source": [],
   "metadata": {
    "collapsed": false,
    "pycharm": {
     "name": "#%%\n"
    }
   }
  },
  {
   "cell_type": "code",
   "execution_count": 107,
   "outputs": [],
   "source": [
    "a, b = dataset.prepare_no_split()"
   ],
   "metadata": {
    "collapsed": false,
    "pycharm": {
     "name": "#%%\n"
    }
   }
  },
  {
   "cell_type": "code",
   "execution_count": 109,
   "outputs": [
    {
     "data": {
      "text/plain": "            weighted_avg_sars_cov2  suspended_solids_mg_l  ammonia_mg_l  \\\ndate                                                                      \n2020-09-04             4059.005490               2.372010      1.483368   \n2020-09-11            19439.225934               2.420478      1.802572   \n2020-09-18             7492.852318               2.535643      1.568266   \n2020-09-25            10268.071829               2.368956      1.547256   \n2020-10-02            27035.907485               2.431527      1.569004   \n...                            ...                    ...           ...   \n2021-01-08             2608.493687               2.415792      1.383160   \n2021-01-15             3020.978082               2.037843      0.805519   \n2021-01-22              891.634162               1.865933      0.767424   \n2021-01-29             4129.817702               1.870170      0.767745   \n2021-02-05             5325.852367               1.748100      0.859252   \n\n            ophosph_mg_l  sample_ph_pre_ansis  control_gc_l_mean  \\\ndate                                                               \n2020-09-04      0.403019             7.621426           6.994639   \n2020-09-11      0.581024             7.621426           6.994639   \n2020-09-18      0.566771             7.621426           6.994639   \n2020-09-25      0.540101             7.621426           6.994639   \n2020-10-02      0.529037             7.621426           6.994639   \n...                  ...                  ...                ...   \n2021-01-08      0.402095             7.403649           6.790662   \n2021-01-15     -0.174262             7.427382           6.860543   \n2021-01-22     -0.178213             7.403649           6.790662   \n2021-01-29     -0.181014             7.314832           6.795867   \n2021-02-05     -0.103100             7.403649           6.790662   \n\n            reac_vol_control  raw_ansis_sars_repc_std  compo_frac  \\\ndate                                                                \n2020-09-04               2.0                 2.194063    0.036872   \n2020-09-11               2.0                13.205521    0.036872   \n2020-09-18               2.0                 7.036485    0.036872   \n2020-09-25               2.0                 6.462055    0.036872   \n2020-10-02               2.0                44.487978    0.036872   \n...                      ...                      ...         ...   \n2021-01-08               2.0                 1.977223    1.000000   \n2021-01-15               2.0                 5.281798    1.000000   \n2021-01-22               2.0                 2.002802    0.258046   \n2021-01-29               2.0                 6.914532    0.761544   \n2021-02-05               2.0                11.473568    0.688543   \n\n            reception_delay  \ndate                         \n2020-09-04        21.787267  \n2020-09-11        21.790456  \n2020-09-18        21.813194  \n2020-09-25        21.050134  \n2020-10-02        21.674032  \n...                     ...  \n2021-01-08        26.417258  \n2021-01-15        25.252411  \n2021-01-22        25.127548  \n2021-01-29        24.722376  \n2021-02-05        23.790477  \n\n[197 rows x 10 columns]",
      "text/html": "<div>\n<style scoped>\n    .dataframe tbody tr th:only-of-type {\n        vertical-align: middle;\n    }\n\n    .dataframe tbody tr th {\n        vertical-align: top;\n    }\n\n    .dataframe thead th {\n        text-align: right;\n    }\n</style>\n<table border=\"1\" class=\"dataframe\">\n  <thead>\n    <tr style=\"text-align: right;\">\n      <th></th>\n      <th>weighted_avg_sars_cov2</th>\n      <th>suspended_solids_mg_l</th>\n      <th>ammonia_mg_l</th>\n      <th>ophosph_mg_l</th>\n      <th>sample_ph_pre_ansis</th>\n      <th>control_gc_l_mean</th>\n      <th>reac_vol_control</th>\n      <th>raw_ansis_sars_repc_std</th>\n      <th>compo_frac</th>\n      <th>reception_delay</th>\n    </tr>\n    <tr>\n      <th>date</th>\n      <th></th>\n      <th></th>\n      <th></th>\n      <th></th>\n      <th></th>\n      <th></th>\n      <th></th>\n      <th></th>\n      <th></th>\n      <th></th>\n    </tr>\n  </thead>\n  <tbody>\n    <tr>\n      <th>2020-09-04</th>\n      <td>4059.005490</td>\n      <td>2.372010</td>\n      <td>1.483368</td>\n      <td>0.403019</td>\n      <td>7.621426</td>\n      <td>6.994639</td>\n      <td>2.0</td>\n      <td>2.194063</td>\n      <td>0.036872</td>\n      <td>21.787267</td>\n    </tr>\n    <tr>\n      <th>2020-09-11</th>\n      <td>19439.225934</td>\n      <td>2.420478</td>\n      <td>1.802572</td>\n      <td>0.581024</td>\n      <td>7.621426</td>\n      <td>6.994639</td>\n      <td>2.0</td>\n      <td>13.205521</td>\n      <td>0.036872</td>\n      <td>21.790456</td>\n    </tr>\n    <tr>\n      <th>2020-09-18</th>\n      <td>7492.852318</td>\n      <td>2.535643</td>\n      <td>1.568266</td>\n      <td>0.566771</td>\n      <td>7.621426</td>\n      <td>6.994639</td>\n      <td>2.0</td>\n      <td>7.036485</td>\n      <td>0.036872</td>\n      <td>21.813194</td>\n    </tr>\n    <tr>\n      <th>2020-09-25</th>\n      <td>10268.071829</td>\n      <td>2.368956</td>\n      <td>1.547256</td>\n      <td>0.540101</td>\n      <td>7.621426</td>\n      <td>6.994639</td>\n      <td>2.0</td>\n      <td>6.462055</td>\n      <td>0.036872</td>\n      <td>21.050134</td>\n    </tr>\n    <tr>\n      <th>2020-10-02</th>\n      <td>27035.907485</td>\n      <td>2.431527</td>\n      <td>1.569004</td>\n      <td>0.529037</td>\n      <td>7.621426</td>\n      <td>6.994639</td>\n      <td>2.0</td>\n      <td>44.487978</td>\n      <td>0.036872</td>\n      <td>21.674032</td>\n    </tr>\n    <tr>\n      <th>...</th>\n      <td>...</td>\n      <td>...</td>\n      <td>...</td>\n      <td>...</td>\n      <td>...</td>\n      <td>...</td>\n      <td>...</td>\n      <td>...</td>\n      <td>...</td>\n      <td>...</td>\n    </tr>\n    <tr>\n      <th>2021-01-08</th>\n      <td>2608.493687</td>\n      <td>2.415792</td>\n      <td>1.383160</td>\n      <td>0.402095</td>\n      <td>7.403649</td>\n      <td>6.790662</td>\n      <td>2.0</td>\n      <td>1.977223</td>\n      <td>1.000000</td>\n      <td>26.417258</td>\n    </tr>\n    <tr>\n      <th>2021-01-15</th>\n      <td>3020.978082</td>\n      <td>2.037843</td>\n      <td>0.805519</td>\n      <td>-0.174262</td>\n      <td>7.427382</td>\n      <td>6.860543</td>\n      <td>2.0</td>\n      <td>5.281798</td>\n      <td>1.000000</td>\n      <td>25.252411</td>\n    </tr>\n    <tr>\n      <th>2021-01-22</th>\n      <td>891.634162</td>\n      <td>1.865933</td>\n      <td>0.767424</td>\n      <td>-0.178213</td>\n      <td>7.403649</td>\n      <td>6.790662</td>\n      <td>2.0</td>\n      <td>2.002802</td>\n      <td>0.258046</td>\n      <td>25.127548</td>\n    </tr>\n    <tr>\n      <th>2021-01-29</th>\n      <td>4129.817702</td>\n      <td>1.870170</td>\n      <td>0.767745</td>\n      <td>-0.181014</td>\n      <td>7.314832</td>\n      <td>6.795867</td>\n      <td>2.0</td>\n      <td>6.914532</td>\n      <td>0.761544</td>\n      <td>24.722376</td>\n    </tr>\n    <tr>\n      <th>2021-02-05</th>\n      <td>5325.852367</td>\n      <td>1.748100</td>\n      <td>0.859252</td>\n      <td>-0.103100</td>\n      <td>7.403649</td>\n      <td>6.790662</td>\n      <td>2.0</td>\n      <td>11.473568</td>\n      <td>0.688543</td>\n      <td>23.790477</td>\n    </tr>\n  </tbody>\n</table>\n<p>197 rows × 10 columns</p>\n</div>"
     },
     "execution_count": 109,
     "metadata": {},
     "output_type": "execute_result"
    }
   ],
   "source": [
    "a"
   ],
   "metadata": {
    "collapsed": false,
    "pycharm": {
     "name": "#%%\n"
    }
   }
  },
  {
   "cell_type": "code",
   "execution_count": null,
   "outputs": [],
   "source": [],
   "metadata": {
    "collapsed": false,
    "pycharm": {
     "name": "#%%\n"
    }
   }
  },
  {
   "cell_type": "markdown",
   "source": [
    "# SHAP"
   ],
   "metadata": {
    "collapsed": false,
    "pycharm": {
     "name": "#%% md\n"
    }
   }
  },
  {
   "cell_type": "code",
   "execution_count": 124,
   "outputs": [
    {
     "ename": "AttributeError",
     "evalue": "'RandomizedSearchCV' object has no attribute 'get_feature_importance'",
     "output_type": "error",
     "traceback": [
      "\u001B[0;31m---------------------------------------------------------------------------\u001B[0m",
      "\u001B[0;31mAttributeError\u001B[0m                            Traceback (most recent call last)",
      "Input \u001B[0;32mIn [124]\u001B[0m, in \u001B[0;36m<cell line: 1>\u001B[0;34m()\u001B[0m\n\u001B[0;32m----> 1\u001B[0m shap_values \u001B[38;5;241m=\u001B[39m \u001B[43mclf\u001B[49m\u001B[38;5;241;43m.\u001B[39;49m\u001B[43mget_feature_importance\u001B[49m(Pool(x_test, label\u001B[38;5;241m=\u001B[39my_test, cat_features\u001B[38;5;241m=\u001B[39mx_test) , \u001B[38;5;28mtype\u001B[39m\u001B[38;5;241m=\u001B[39m\u001B[38;5;124m\"\u001B[39m\u001B[38;5;124mShapValues\u001B[39m\u001B[38;5;124m\"\u001B[39m)\n\u001B[1;32m      3\u001B[0m shap\u001B[38;5;241m.\u001B[39msummary_plot()\n",
      "\u001B[0;31mAttributeError\u001B[0m: 'RandomizedSearchCV' object has no attribute 'get_feature_importance'"
     ]
    }
   ],
   "source": [
    "shap_values = clf.get_feature_importance(Pool(x_test, label=y_test, cat_features=x_test) , type=\"ShapValues\")\n",
    "\n",
    "shap.summary_plot()"
   ],
   "metadata": {
    "collapsed": false,
    "pycharm": {
     "name": "#%%\n"
    }
   }
  },
  {
   "cell_type": "code",
   "execution_count": null,
   "outputs": [],
   "source": [],
   "metadata": {
    "collapsed": false,
    "pycharm": {
     "name": "#%%\n"
    }
   }
  }
 ],
 "metadata": {
  "kernelspec": {
   "display_name": "Python 3",
   "language": "python",
   "name": "python3"
  },
  "language_info": {
   "codemirror_mode": {
    "name": "ipython",
    "version": 2
   },
   "file_extension": ".py",
   "mimetype": "text/x-python",
   "name": "python",
   "nbconvert_exporter": "python",
   "pygments_lexer": "ipython2",
   "version": "2.7.6"
  }
 },
 "nbformat": 4,
 "nbformat_minor": 0
}